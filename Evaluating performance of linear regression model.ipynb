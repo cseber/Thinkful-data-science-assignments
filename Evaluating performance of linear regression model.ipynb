{
 "cells": [
  {
   "cell_type": "markdown",
   "metadata": {},
   "source": [
    "# Weather model"
   ]
  },
  {
   "cell_type": "code",
   "execution_count": 1,
   "metadata": {},
   "outputs": [],
   "source": [
    "import numpy as np\n",
    "import pandas as pd\n",
    "import matplotlib.pyplot as plt\n",
    "import seaborn as sns\n",
    "from sqlalchemy import create_engine\n",
    "import scipy.stats as stats\n",
    "%matplotlib inline"
   ]
  },
  {
   "cell_type": "code",
   "execution_count": 2,
   "metadata": {},
   "outputs": [],
   "source": [
    "postgres_user = 'dsbc_student'\n",
    "postgres_pw = '7*.8G9QH21'\n",
    "postgres_host = '142.93.121.174'\n",
    "postgres_port = '5432'\n",
    "postgres_db = 'weatherinszeged'\n",
    "\n",
    "engine = create_engine('postgresql://{}:{}@{}:{}/{}'.format(\n",
    "    postgres_user, postgres_pw, postgres_host, postgres_port, postgres_db))\n",
    "\n",
    "df = pd.read_sql_query('select * from weatherinszeged',con=engine)\n",
    "\n",
    "# no need for an open connection, \n",
    "# as we're only doing a single query\n",
    "engine.dispose()"
   ]
  },
  {
   "cell_type": "code",
   "execution_count": 3,
   "metadata": {},
   "outputs": [
    {
     "data": {
      "text/html": [
       "<div>\n",
       "<style scoped>\n",
       "    .dataframe tbody tr th:only-of-type {\n",
       "        vertical-align: middle;\n",
       "    }\n",
       "\n",
       "    .dataframe tbody tr th {\n",
       "        vertical-align: top;\n",
       "    }\n",
       "\n",
       "    .dataframe thead th {\n",
       "        text-align: right;\n",
       "    }\n",
       "</style>\n",
       "<table border=\"1\" class=\"dataframe\">\n",
       "  <thead>\n",
       "    <tr style=\"text-align: right;\">\n",
       "      <th></th>\n",
       "      <th>date</th>\n",
       "      <th>summary</th>\n",
       "      <th>preciptype</th>\n",
       "      <th>temperature</th>\n",
       "      <th>apparenttemperature</th>\n",
       "      <th>humidity</th>\n",
       "      <th>windspeed</th>\n",
       "      <th>windbearing</th>\n",
       "      <th>visibility</th>\n",
       "      <th>loudcover</th>\n",
       "      <th>pressure</th>\n",
       "      <th>dailysummary</th>\n",
       "    </tr>\n",
       "  </thead>\n",
       "  <tbody>\n",
       "    <tr>\n",
       "      <td>0</td>\n",
       "      <td>2006-03-31 22:00:00+00:00</td>\n",
       "      <td>Partly Cloudy</td>\n",
       "      <td>rain</td>\n",
       "      <td>9.472222</td>\n",
       "      <td>7.388889</td>\n",
       "      <td>0.89</td>\n",
       "      <td>14.1197</td>\n",
       "      <td>251.0</td>\n",
       "      <td>15.8263</td>\n",
       "      <td>0.0</td>\n",
       "      <td>1015.13</td>\n",
       "      <td>Partly cloudy throughout the day.</td>\n",
       "    </tr>\n",
       "    <tr>\n",
       "      <td>1</td>\n",
       "      <td>2006-03-31 23:00:00+00:00</td>\n",
       "      <td>Partly Cloudy</td>\n",
       "      <td>rain</td>\n",
       "      <td>9.355556</td>\n",
       "      <td>7.227778</td>\n",
       "      <td>0.86</td>\n",
       "      <td>14.2646</td>\n",
       "      <td>259.0</td>\n",
       "      <td>15.8263</td>\n",
       "      <td>0.0</td>\n",
       "      <td>1015.63</td>\n",
       "      <td>Partly cloudy throughout the day.</td>\n",
       "    </tr>\n",
       "    <tr>\n",
       "      <td>2</td>\n",
       "      <td>2006-04-01 00:00:00+00:00</td>\n",
       "      <td>Mostly Cloudy</td>\n",
       "      <td>rain</td>\n",
       "      <td>9.377778</td>\n",
       "      <td>9.377778</td>\n",
       "      <td>0.89</td>\n",
       "      <td>3.9284</td>\n",
       "      <td>204.0</td>\n",
       "      <td>14.9569</td>\n",
       "      <td>0.0</td>\n",
       "      <td>1015.94</td>\n",
       "      <td>Partly cloudy throughout the day.</td>\n",
       "    </tr>\n",
       "    <tr>\n",
       "      <td>3</td>\n",
       "      <td>2006-04-01 01:00:00+00:00</td>\n",
       "      <td>Partly Cloudy</td>\n",
       "      <td>rain</td>\n",
       "      <td>8.288889</td>\n",
       "      <td>5.944444</td>\n",
       "      <td>0.83</td>\n",
       "      <td>14.1036</td>\n",
       "      <td>269.0</td>\n",
       "      <td>15.8263</td>\n",
       "      <td>0.0</td>\n",
       "      <td>1016.41</td>\n",
       "      <td>Partly cloudy throughout the day.</td>\n",
       "    </tr>\n",
       "    <tr>\n",
       "      <td>4</td>\n",
       "      <td>2006-04-01 02:00:00+00:00</td>\n",
       "      <td>Mostly Cloudy</td>\n",
       "      <td>rain</td>\n",
       "      <td>8.755556</td>\n",
       "      <td>6.977778</td>\n",
       "      <td>0.83</td>\n",
       "      <td>11.0446</td>\n",
       "      <td>259.0</td>\n",
       "      <td>15.8263</td>\n",
       "      <td>0.0</td>\n",
       "      <td>1016.51</td>\n",
       "      <td>Partly cloudy throughout the day.</td>\n",
       "    </tr>\n",
       "  </tbody>\n",
       "</table>\n",
       "</div>"
      ],
      "text/plain": [
       "                       date        summary preciptype  temperature  \\\n",
       "0 2006-03-31 22:00:00+00:00  Partly Cloudy       rain     9.472222   \n",
       "1 2006-03-31 23:00:00+00:00  Partly Cloudy       rain     9.355556   \n",
       "2 2006-04-01 00:00:00+00:00  Mostly Cloudy       rain     9.377778   \n",
       "3 2006-04-01 01:00:00+00:00  Partly Cloudy       rain     8.288889   \n",
       "4 2006-04-01 02:00:00+00:00  Mostly Cloudy       rain     8.755556   \n",
       "\n",
       "   apparenttemperature  humidity  windspeed  windbearing  visibility  \\\n",
       "0             7.388889      0.89    14.1197        251.0     15.8263   \n",
       "1             7.227778      0.86    14.2646        259.0     15.8263   \n",
       "2             9.377778      0.89     3.9284        204.0     14.9569   \n",
       "3             5.944444      0.83    14.1036        269.0     15.8263   \n",
       "4             6.977778      0.83    11.0446        259.0     15.8263   \n",
       "\n",
       "   loudcover  pressure                       dailysummary  \n",
       "0        0.0   1015.13  Partly cloudy throughout the day.  \n",
       "1        0.0   1015.63  Partly cloudy throughout the day.  \n",
       "2        0.0   1015.94  Partly cloudy throughout the day.  \n",
       "3        0.0   1016.41  Partly cloudy throughout the day.  \n",
       "4        0.0   1016.51  Partly cloudy throughout the day.  "
      ]
     },
     "execution_count": 3,
     "metadata": {},
     "output_type": "execute_result"
    }
   ],
   "source": [
    "df.head()"
   ]
  },
  {
   "cell_type": "markdown",
   "metadata": {},
   "source": [
    "## Create a linear regression model using temperature difference as the target variable. Humidity and windspeed are the explanatory variables."
   ]
  },
  {
   "cell_type": "code",
   "execution_count": 4,
   "metadata": {},
   "outputs": [],
   "source": [
    "df['temp_diff'] = df['apparenttemperature'] - df['temperature']\n",
    "\n",
    "explanatory_var = ['humidity', 'windspeed']\n",
    "\n",
    "# Y is our target variable\n",
    "Y = df['temp_diff']\n",
    "\n",
    "# X is our model features\n",
    "X = df[explanatory_var]"
   ]
  },
  {
   "cell_type": "markdown",
   "metadata": {},
   "source": [
    "## Estimate your model using OLS. What are the R-squared and adjusted R-squared values? Do you think they are satisfactory? Why?"
   ]
  },
  {
   "cell_type": "code",
   "execution_count": 5,
   "metadata": {},
   "outputs": [
    {
     "name": "stdout",
     "output_type": "stream",
     "text": [
      "                            OLS Regression Results                            \n",
      "==============================================================================\n",
      "Dep. Variable:              temp_diff   R-squared:                       0.288\n",
      "Model:                            OLS   Adj. R-squared:                  0.288\n",
      "Method:                 Least Squares   F-statistic:                 1.949e+04\n",
      "Date:                Fri, 27 Dec 2019   Prob (F-statistic):               0.00\n",
      "Time:                        13:58:26   Log-Likelihood:            -1.7046e+05\n",
      "No. Observations:               96453   AIC:                         3.409e+05\n",
      "Df Residuals:                   96450   BIC:                         3.409e+05\n",
      "Df Model:                           2                                         \n",
      "Covariance Type:            nonrobust                                         \n",
      "==============================================================================\n",
      "                 coef    std err          t      P>|t|      [0.025      0.975]\n",
      "------------------------------------------------------------------------------\n",
      "const          2.4381      0.021    115.948      0.000       2.397       2.479\n",
      "humidity      -3.0292      0.024   -126.479      0.000      -3.076      -2.982\n",
      "windspeed     -0.1193      0.001   -176.164      0.000      -0.121      -0.118\n",
      "==============================================================================\n",
      "Omnibus:                     3935.747   Durbin-Watson:                   0.267\n",
      "Prob(Omnibus):                  0.000   Jarque-Bera (JB):             4613.311\n",
      "Skew:                          -0.478   Prob(JB):                         0.00\n",
      "Kurtosis:                       3.484   Cond. No.                         88.1\n",
      "==============================================================================\n",
      "\n",
      "Warnings:\n",
      "[1] Standard Errors assume that the covariance matrix of the errors is correctly specified.\n"
     ]
    },
    {
     "name": "stderr",
     "output_type": "stream",
     "text": [
      "//anaconda3/lib/python3.7/site-packages/numpy/core/fromnumeric.py:2495: FutureWarning: Method .ptp is deprecated and will be removed in a future version. Use numpy.ptp instead.\n",
      "  return ptp(axis=axis, out=out, **kwargs)\n"
     ]
    }
   ],
   "source": [
    "import statsmodels.api as sm\n",
    "\n",
    "X = sm.add_constant(X)\n",
    "\n",
    "results = sm.OLS(Y,X).fit()\n",
    "\n",
    "print(results.summary())"
   ]
  },
  {
   "cell_type": "markdown",
   "metadata": {},
   "source": [
    "R-squared value = .228<br>\n",
    "Adj. R-squared = .228\n",
    "\n",
    "Both r-squared values indicate that our model only explains 22.8% of the variance in temperature. This is not satisfactory and a higher R-squared value is more desirable. However, sometimes it is not possible to achieve a higher R-squared value. In this scenario, a value of .228 is relatively satisfactory."
   ]
  },
  {
   "cell_type": "markdown",
   "metadata": {},
   "source": [
    "## Include the interaction of humidity and windspeed to the model above and estimate the model using OLS. Now, what is the R-squared of this model? Does this model improve upon the previous one?"
   ]
  },
  {
   "cell_type": "code",
   "execution_count": 7,
   "metadata": {},
   "outputs": [],
   "source": [
    "df['humidity_windspeed_interaction'] = df['humidity']*df['windspeed']\n",
    "\n",
    "explanatory_var = ['humidity', 'windspeed', 'humidity_windspeed_interaction']\n",
    "\n",
    "# Y is our target variable\n",
    "Y = df['temp_diff']\n",
    "\n",
    "# X is our model features\n",
    "X = df[explanatory_var]"
   ]
  },
  {
   "cell_type": "code",
   "execution_count": 8,
   "metadata": {},
   "outputs": [
    {
     "name": "stdout",
     "output_type": "stream",
     "text": [
      "                            OLS Regression Results                            \n",
      "==============================================================================\n",
      "Dep. Variable:              temp_diff   R-squared:                       0.341\n",
      "Model:                            OLS   Adj. R-squared:                  0.341\n",
      "Method:                 Least Squares   F-statistic:                 1.666e+04\n",
      "Date:                Fri, 27 Dec 2019   Prob (F-statistic):               0.00\n",
      "Time:                        14:16:07   Log-Likelihood:            -1.6669e+05\n",
      "No. Observations:               96453   AIC:                         3.334e+05\n",
      "Df Residuals:                   96449   BIC:                         3.334e+05\n",
      "Df Model:                           3                                         \n",
      "Covariance Type:            nonrobust                                         \n",
      "==================================================================================================\n",
      "                                     coef    std err          t      P>|t|      [0.025      0.975]\n",
      "--------------------------------------------------------------------------------------------------\n",
      "const                              0.0839      0.033      2.511      0.012       0.018       0.149\n",
      "humidity                           0.1775      0.043      4.133      0.000       0.093       0.262\n",
      "windspeed                          0.0905      0.002     36.797      0.000       0.086       0.095\n",
      "humidity_windspeed_interaction    -0.2971      0.003    -88.470      0.000      -0.304      -0.291\n",
      "==============================================================================\n",
      "Omnibus:                     4849.937   Durbin-Watson:                   0.265\n",
      "Prob(Omnibus):                  0.000   Jarque-Bera (JB):             9295.404\n",
      "Skew:                          -0.378   Prob(JB):                         0.00\n",
      "Kurtosis:                       4.320   Cond. No.                         193.\n",
      "==============================================================================\n",
      "\n",
      "Warnings:\n",
      "[1] Standard Errors assume that the covariance matrix of the errors is correctly specified.\n"
     ]
    }
   ],
   "source": [
    "X = sm.add_constant(X)\n",
    "\n",
    "results = sm.OLS(Y,X).fit()\n",
    "\n",
    "print(results.summary())"
   ]
  },
  {
   "cell_type": "markdown",
   "metadata": {},
   "source": [
    "R-squared value = .341<br>\n",
    "Adj. R-squared = .341\n",
    "\n",
    "Both R-squared values are higher and improve upon our previous model."
   ]
  },
  {
   "cell_type": "markdown",
   "metadata": {},
   "source": [
    "## Add visibility as an additional explanatory variable to the first model and estimate it. Did R-squared increase? What about adjusted R-squared? Compare the differences put on the table by the interaction term and the visibility in terms of the improvement in the adjusted R-squared. Which one is more useful?"
   ]
  },
  {
   "cell_type": "code",
   "execution_count": 9,
   "metadata": {},
   "outputs": [],
   "source": [
    "explanatory_var = ['humidity', 'windspeed', 'visibility']\n",
    "\n",
    "# Y is our target variable\n",
    "Y = df['temp_diff']\n",
    "\n",
    "# X is our model features\n",
    "X = df[explanatory_var]"
   ]
  },
  {
   "cell_type": "code",
   "execution_count": 10,
   "metadata": {},
   "outputs": [
    {
     "name": "stdout",
     "output_type": "stream",
     "text": [
      "                            OLS Regression Results                            \n",
      "==============================================================================\n",
      "Dep. Variable:              temp_diff   R-squared:                       0.304\n",
      "Model:                            OLS   Adj. R-squared:                  0.303\n",
      "Method:                 Least Squares   F-statistic:                 1.401e+04\n",
      "Date:                Fri, 27 Dec 2019   Prob (F-statistic):               0.00\n",
      "Time:                        14:31:11   Log-Likelihood:            -1.6938e+05\n",
      "No. Observations:               96453   AIC:                         3.388e+05\n",
      "Df Residuals:                   96449   BIC:                         3.388e+05\n",
      "Df Model:                           3                                         \n",
      "Covariance Type:            nonrobust                                         \n",
      "==============================================================================\n",
      "                 coef    std err          t      P>|t|      [0.025      0.975]\n",
      "------------------------------------------------------------------------------\n",
      "const          1.5756      0.028     56.605      0.000       1.521       1.630\n",
      "humidity      -2.6066      0.025   -102.784      0.000      -2.656      -2.557\n",
      "windspeed     -0.1199      0.001   -179.014      0.000      -0.121      -0.119\n",
      "visibility     0.0540      0.001     46.614      0.000       0.052       0.056\n",
      "==============================================================================\n",
      "Omnibus:                     3833.895   Durbin-Watson:                   0.282\n",
      "Prob(Omnibus):                  0.000   Jarque-Bera (JB):             4584.022\n",
      "Skew:                          -0.459   Prob(JB):                         0.00\n",
      "Kurtosis:                       3.545   Cond. No.                         131.\n",
      "==============================================================================\n",
      "\n",
      "Warnings:\n",
      "[1] Standard Errors assume that the covariance matrix of the errors is correctly specified.\n"
     ]
    }
   ],
   "source": [
    "X = sm.add_constant(X)\n",
    "\n",
    "results = sm.OLS(Y,X).fit()\n",
    "\n",
    "print(results.summary())"
   ]
  },
  {
   "cell_type": "markdown",
   "metadata": {},
   "source": [
    "R-squared value = .304<br>\n",
    "Adj. R-squared = .303\n",
    "\n",
    "Both R-squared values are higher and improve upon the first model. However, the  R-squared values do not improve upon out second 'humidity windspeed interaction' model. Therefore, the 'humidity windspeed interaction' model is more useful.\n",
    "\n",
    "The second model also had the lowest AIC and BIC values. This confirms that the second model is the most useful."
   ]
  },
  {
   "cell_type": "markdown",
   "metadata": {},
   "source": [
    "# House prices model"
   ]
  },
  {
   "cell_type": "code",
   "execution_count": 24,
   "metadata": {},
   "outputs": [],
   "source": [
    "postgres_user = 'dsbc_student'\n",
    "postgres_pw = '7*.8G9QH21'\n",
    "postgres_host = '142.93.121.174'\n",
    "postgres_port = '5432'\n",
    "postgres_db = 'houseprices'\n",
    "\n",
    "engine = create_engine('postgresql://{}:{}@{}:{}/{}'.format(\n",
    "    postgres_user, postgres_pw, postgres_host, postgres_port, postgres_db))\n",
    "\n",
    "df = pd.read_sql_query('select * from houseprices',con=engine)\n",
    "\n",
    "# no need for an open connection, \n",
    "# as we're only doing a single query\n",
    "engine.dispose()"
   ]
  },
  {
   "cell_type": "code",
   "execution_count": 126,
   "metadata": {},
   "outputs": [],
   "source": [
    "continuous_features = ['overallqual', 'grlivarea', 'garagecars', 'firstflrsf',\n",
    "                       'fullbath', 'yearbuilt', 'yearremodadd']\n",
    "\n",
    "# New Data frame with only features for our model\n",
    "model_df = pd.DataFrame()\n",
    "\n",
    "# Adding the continuouse features to our model DataFrame\n",
    "for col in continuous_features:\n",
    "    model_df[col] = df[col]\n",
    "    \n",
    "# Adding the categorical features and target variable to our model DataFrame\n",
    "model_df = pd.concat([model_df, pd.get_dummies(df[['neighborhood', 'exterqual', 'kitchenqual', 'garagefinish', 'bsmtqual']], drop_first=True), df['saleprice']], axis=1)"
   ]
  },
  {
   "cell_type": "markdown",
   "metadata": {},
   "source": [
    "# Initial model"
   ]
  },
  {
   "cell_type": "code",
   "execution_count": 127,
   "metadata": {},
   "outputs": [
    {
     "name": "stdout",
     "output_type": "stream",
     "text": [
      "                            OLS Regression Results                            \n",
      "==============================================================================\n",
      "Dep. Variable:              saleprice   R-squared:                       0.856\n",
      "Model:                            OLS   Adj. R-squared:                  0.852\n",
      "Method:                 Least Squares   F-statistic:                     200.6\n",
      "Date:                Fri, 03 Jan 2020   Prob (F-statistic):               0.00\n",
      "Time:                        16:23:52   Log-Likelihood:                 683.52\n",
      "No. Observations:                1460   AIC:                            -1281.\n",
      "Df Residuals:                    1417   BIC:                            -1054.\n",
      "Df Model:                          42                                         \n",
      "Covariance Type:            nonrobust                                         \n",
      "========================================================================================\n",
      "                           coef    std err          t      P>|t|      [0.025      0.975]\n",
      "----------------------------------------------------------------------------------------\n",
      "const                    4.8442      0.838      5.779      0.000       3.200       6.489\n",
      "overallqual              0.0793      0.006     14.322      0.000       0.068       0.090\n",
      "grlivarea                0.0002   1.36e-05     15.712      0.000       0.000       0.000\n",
      "garagecars               0.0776      0.008      9.658      0.000       0.062       0.093\n",
      "firstflrsf            8.392e-05   1.48e-05      5.655      0.000    5.48e-05       0.000\n",
      "fullbath                -0.0101      0.012     -0.874      0.382      -0.033       0.013\n",
      "yearbuilt                0.0013      0.000      3.893      0.000       0.001       0.002\n",
      "yearremodadd             0.0018      0.000      6.152      0.000       0.001       0.002\n",
      "neighborhood_Blueste    -0.0517      0.116     -0.443      0.658      -0.280       0.177\n",
      "neighborhood_BrDale     -0.1565      0.058     -2.712      0.007      -0.270      -0.043\n",
      "neighborhood_BrkSide     0.0547      0.049      1.123      0.262      -0.041       0.150\n",
      "neighborhood_ClearCr     0.2475      0.050      4.964      0.000       0.150       0.345\n",
      "neighborhood_CollgCr     0.1018      0.041      2.512      0.012       0.022       0.181\n",
      "neighborhood_Crawfor     0.2476      0.048      5.187      0.000       0.154       0.341\n",
      "neighborhood_Edwards    -0.0150      0.044     -0.337      0.736      -0.102       0.072\n",
      "neighborhood_Gilbert     0.0851      0.043      1.997      0.046       0.001       0.169\n",
      "neighborhood_IDOTRR     -0.1042      0.052     -2.011      0.045      -0.206      -0.003\n",
      "neighborhood_MeadowV    -0.1239      0.056     -2.201      0.028      -0.234      -0.013\n",
      "neighborhood_Mitchel     0.0683      0.046      1.495      0.135      -0.021       0.158\n",
      "neighborhood_NAmes       0.0805      0.043      1.871      0.061      -0.004       0.165\n",
      "neighborhood_NPkVill     0.0197      0.066      0.299      0.765      -0.109       0.149\n",
      "neighborhood_NWAmes      0.0901      0.044      2.043      0.041       0.004       0.177\n",
      "neighborhood_NoRidge     0.2181      0.046      4.709      0.000       0.127       0.309\n",
      "neighborhood_NridgHt     0.1919      0.044      4.411      0.000       0.107       0.277\n",
      "neighborhood_OldTown    -0.0416      0.047     -0.876      0.381      -0.135       0.052\n",
      "neighborhood_SWISU       0.0617      0.055      1.121      0.262      -0.046       0.170\n",
      "neighborhood_Sawyer      0.0687      0.045      1.516      0.130      -0.020       0.158\n",
      "neighborhood_SawyerW     0.0755      0.044      1.721      0.085      -0.011       0.162\n",
      "neighborhood_Somerst     0.1138      0.042      2.719      0.007       0.032       0.196\n",
      "neighborhood_StoneBr     0.2288      0.049      4.644      0.000       0.132       0.325\n",
      "neighborhood_Timber      0.1618      0.046      3.544      0.000       0.072       0.251\n",
      "neighborhood_Veenker     0.2628      0.061      4.338      0.000       0.144       0.382\n",
      "exterqual_Fa            -0.1426      0.056     -2.550      0.011      -0.252      -0.033\n",
      "exterqual_Gd            -0.0295      0.029     -1.027      0.305      -0.086       0.027\n",
      "exterqual_TA            -0.0131      0.032     -0.412      0.681      -0.076       0.049\n",
      "kitchenqual_Fa          -0.1609      0.037     -4.370      0.000      -0.233      -0.089\n",
      "kitchenqual_Gd          -0.0722      0.022     -3.340      0.001      -0.115      -0.030\n",
      "kitchenqual_TA          -0.1079      0.024     -4.463      0.000      -0.155      -0.060\n",
      "garagefinish_RFn        -0.0012      0.012     -0.099      0.921      -0.024       0.022\n",
      "garagefinish_Unf        -0.0325      0.012     -2.620      0.009      -0.057      -0.008\n",
      "bsmtqual_Fa              0.0149      0.033      0.451      0.652      -0.050       0.080\n",
      "bsmtqual_Gd              0.0211      0.017      1.266      0.206      -0.012       0.054\n",
      "bsmtqual_TA              0.0456      0.019      2.428      0.015       0.009       0.082\n",
      "==============================================================================\n",
      "Omnibus:                      711.575   Durbin-Watson:                   1.953\n",
      "Prob(Omnibus):                  0.000   Jarque-Bera (JB):            12471.192\n",
      "Skew:                          -1.836   Prob(JB):                         0.00\n",
      "Kurtosis:                      16.839   Cond. No.                     7.10e+05\n",
      "==============================================================================\n",
      "\n",
      "Warnings:\n",
      "[1] Standard Errors assume that the covariance matrix of the errors is correctly specified.\n",
      "[2] The condition number is large, 7.1e+05. This might indicate that there are\n",
      "strong multicollinearity or other numerical problems.\n"
     ]
    }
   ],
   "source": [
    "# X is all the features for the model\n",
    "X = model_df[['overallqual', 'grlivarea', 'garagecars', 'firstflrsf', 'fullbath',\n",
    "              'yearbuilt', 'yearremodadd', 'neighborhood_Blueste', 'neighborhood_BrDale', 'neighborhood_BrkSide',\n",
    "              'neighborhood_ClearCr', 'neighborhood_CollgCr', 'neighborhood_Crawfor', 'neighborhood_Edwards',\n",
    "              'neighborhood_Gilbert', 'neighborhood_IDOTRR', 'neighborhood_MeadowV', 'neighborhood_Mitchel',\n",
    "              'neighborhood_NAmes', 'neighborhood_NPkVill', 'neighborhood_NWAmes', 'neighborhood_NoRidge',\n",
    "              'neighborhood_NridgHt', 'neighborhood_OldTown', 'neighborhood_SWISU', 'neighborhood_Sawyer',\n",
    "              'neighborhood_SawyerW', 'neighborhood_Somerst', 'neighborhood_StoneBr', 'neighborhood_Timber',\n",
    "              'neighborhood_Veenker', 'exterqual_Fa', 'exterqual_Gd', 'exterqual_TA', 'kitchenqual_Fa',\n",
    "              'kitchenqual_Gd', 'kitchenqual_TA', 'garagefinish_RFn', 'garagefinish_Unf', 'bsmtqual_Fa',\n",
    "              'bsmtqual_Gd', 'bsmtqual_TA']]\n",
    "\n",
    "# Y is our target\n",
    "Y = np.log(model_df['saleprice'])\n",
    "\n",
    "import statsmodels.api as sm\n",
    "\n",
    "X = sm.add_constant(X)\n",
    "\n",
    "results = sm.OLS(Y,X).fit()\n",
    "\n",
    "print(results.summary())"
   ]
  },
  {
   "cell_type": "markdown",
   "metadata": {},
   "source": [
    "#### The adjusted R-squared value is .852.\n",
    "#### The F-statistic is 200.6\n",
    "#### The AIC and BIC values are -1281 an -1054 respectively\n",
    "#### This summary leads me to believe that the model is decent, but there is still room for improvement. Let's see id our model improves if we transform our features to a more normal distribution."
   ]
  },
  {
   "cell_type": "markdown",
   "metadata": {},
   "source": [
    "# Second model - with variable transformations\n",
    "Let's look at the distributions of all the continuous variables in our model"
   ]
  },
  {
   "cell_type": "code",
   "execution_count": 45,
   "metadata": {},
   "outputs": [
    {
     "data": {
      "image/png": "[encoded data removed]",
      "text/plain": [
       "<Figure size 1080x720 with 8 Axes>"
      ]
     },
     "metadata": {
      "needs_background": "light"
     },
     "output_type": "display_data"
    }
   ],
   "source": [
    "plt.figure(figsize=(15,10))\n",
    "\n",
    "plt.subplot(2, 4, 1)\n",
    "plt.hist(df['firstflrsf'])\n",
    "plt.title('firstflrsf', fontsize=16)\n",
    "\n",
    "plt.subplot(2, 4, 2)\n",
    "plt.hist(df['fullbath'])\n",
    "plt.title('fullbath', fontsize=16)\n",
    "\n",
    "plt.subplot(2, 4, 3)\n",
    "plt.hist(df['yearremodadd'])\n",
    "plt.title('yearremodadd', fontsize=16)\n",
    "\n",
    "plt.subplot(2, 4, 4)\n",
    "plt.hist(df['yearbuilt'])\n",
    "plt.title('yearbuilt', fontsize=16)\n",
    "\n",
    "plt.subplot(2, 4, 5)\n",
    "plt.hist(df['overallqual'])\n",
    "plt.title('overallqual', fontsize=16)\n",
    "\n",
    "plt.subplot(2, 4, 6)\n",
    "plt.hist(df['grlivarea'])\n",
    "plt.title('grlivarea', fontsize=16)\n",
    "\n",
    "plt.subplot(2, 4, 7)\n",
    "plt.hist(df['garagecars'])\n",
    "plt.title('garagecars', fontsize=16)\n",
    "\n",
    "plt.subplot(2, 4, 8)\n",
    "plt.hist(df['saleprice'])\n",
    "plt.title('saleprice', fontsize=16)\n",
    "\n",
    "plt.show()"
   ]
  },
  {
   "cell_type": "markdown",
   "metadata": {},
   "source": [
    "Based on the histograms, most of the variables are skewed. We can use log transformations to make some of the variable distributions more normal. The only variables that can be transformed to a normal distribution are firstflrsf, grlivarea, and saleprice. I will transform these features using log transformation."
   ]
  },
  {
   "cell_type": "code",
   "execution_count": 131,
   "metadata": {},
   "outputs": [
    {
     "data": {
      "image/png": "[encoded data removed]",
      "text/plain": [
       "<Figure size 1080x360 with 3 Axes>"
      ]
     },
     "metadata": {
      "needs_background": "light"
     },
     "output_type": "display_data"
    }
   ],
   "source": [
    "plt.figure(figsize=(15,5))\n",
    "\n",
    "plt.subplot(1, 3, 1)\n",
    "plt.hist(np.log(df['firstflrsf']))\n",
    "plt.title('firstflrsf (log transformation)', fontsize=12)\n",
    "\n",
    "plt.subplot(1, 3, 2)\n",
    "plt.hist(np.log(df['grlivarea']))\n",
    "plt.title('grlivarea (log transformation)', fontsize=12)\n",
    "\n",
    "plt.subplot(1, 3, 3)\n",
    "plt.hist(np.log(df['saleprice']))\n",
    "plt.title('saleprice (log transformation)', fontsize=12)\n",
    "\n",
    "plt.show()"
   ]
  },
  {
   "cell_type": "markdown",
   "metadata": {},
   "source": [
    "#### The features appear to have a much more normal distribution after the log transformation."
   ]
  },
  {
   "cell_type": "code",
   "execution_count": 129,
   "metadata": {},
   "outputs": [],
   "source": [
    "# Let's replace the non-normal features in our model with the more normal transformations\n",
    "\n",
    "model_df['log_grlivarea'] = np.log(df['grlivarea'])\n",
    "model_df['log_firstflrsf'] = np.log(df['firstflrsf'])\n",
    "model_df['log_saleprice'] = np.log(model_df['saleprice'])"
   ]
  },
  {
   "cell_type": "code",
   "execution_count": 132,
   "metadata": {},
   "outputs": [
    {
     "name": "stdout",
     "output_type": "stream",
     "text": [
      "                            OLS Regression Results                            \n",
      "==============================================================================\n",
      "Dep. Variable:          log_saleprice   R-squared:                       0.866\n",
      "Model:                            OLS   Adj. R-squared:                  0.862\n",
      "Method:                 Least Squares   F-statistic:                     217.5\n",
      "Date:                Sat, 04 Jan 2020   Prob (F-statistic):               0.00\n",
      "Time:                        13:20:49   Log-Likelihood:                 734.19\n",
      "No. Observations:                1460   AIC:                            -1382.\n",
      "Df Residuals:                    1417   BIC:                            -1155.\n",
      "Df Model:                          42                                         \n",
      "Covariance Type:            nonrobust                                         \n",
      "========================================================================================\n",
      "                           coef    std err          t      P>|t|      [0.025      0.975]\n",
      "----------------------------------------------------------------------------------------\n",
      "const                    1.6049      0.840      1.911      0.056      -0.043       3.252\n",
      "overallqual              0.0744      0.005     13.854      0.000       0.064       0.085\n",
      "log_grlivarea            0.3597      0.021     17.487      0.000       0.319       0.400\n",
      "garagecars               0.0693      0.008      8.887      0.000       0.054       0.085\n",
      "log_firstflrsf           0.1377      0.018      7.840      0.000       0.103       0.172\n",
      "fullbath                -0.0200      0.011     -1.798      0.072      -0.042       0.002\n",
      "yearbuilt                0.0014      0.000      4.231      0.000       0.001       0.002\n",
      "yearremodadd             0.0018      0.000      6.453      0.000       0.001       0.002\n",
      "neighborhood_Blueste    -0.0128      0.113     -0.113      0.910      -0.234       0.209\n",
      "neighborhood_BrDale     -0.1015      0.056     -1.799      0.072      -0.212       0.009\n",
      "neighborhood_BrkSide     0.0843      0.047      1.792      0.073      -0.008       0.176\n",
      "neighborhood_ClearCr     0.2482      0.048      5.160      0.000       0.154       0.343\n",
      "neighborhood_CollgCr     0.1225      0.039      3.132      0.002       0.046       0.199\n",
      "neighborhood_Crawfor     0.2591      0.046      5.624      0.000       0.169       0.349\n",
      "neighborhood_Edwards     0.0074      0.043      0.171      0.864      -0.077       0.092\n",
      "neighborhood_Gilbert     0.1024      0.041      2.481      0.013       0.021       0.183\n",
      "neighborhood_IDOTRR     -0.0760      0.050     -1.515      0.130      -0.174       0.022\n",
      "neighborhood_MeadowV    -0.0573      0.054     -1.052      0.293      -0.164       0.049\n",
      "neighborhood_Mitchel     0.0845      0.044      1.918      0.055      -0.002       0.171\n",
      "neighborhood_NAmes       0.0937      0.041      2.259      0.024       0.012       0.175\n",
      "neighborhood_NPkVill     0.0511      0.064      0.802      0.422      -0.074       0.176\n",
      "neighborhood_NWAmes      0.0989      0.043      2.324      0.020       0.015       0.182\n",
      "neighborhood_NoRidge     0.2666      0.044      6.035      0.000       0.180       0.353\n",
      "neighborhood_NridgHt     0.1937      0.042      4.610      0.000       0.111       0.276\n",
      "neighborhood_OldTown    -0.0177      0.046     -0.386      0.700      -0.108       0.072\n",
      "neighborhood_SWISU       0.0798      0.053      1.504      0.133      -0.024       0.184\n",
      "neighborhood_Sawyer      0.0855      0.044      1.956      0.051      -0.000       0.171\n",
      "neighborhood_SawyerW     0.0921      0.042      2.178      0.030       0.009       0.175\n",
      "neighborhood_Somerst     0.1304      0.041      3.216      0.001       0.051       0.210\n",
      "neighborhood_StoneBr     0.2391      0.048      5.026      0.000       0.146       0.332\n",
      "neighborhood_Timber      0.1685      0.044      3.821      0.000       0.082       0.255\n",
      "neighborhood_Veenker     0.2592      0.059      4.431      0.000       0.144       0.374\n",
      "exterqual_Fa            -0.1348      0.054     -2.497      0.013      -0.241      -0.029\n",
      "exterqual_Gd            -0.0558      0.028     -2.017      0.044      -0.110      -0.002\n",
      "exterqual_TA            -0.0396      0.031     -1.290      0.197      -0.100       0.021\n",
      "kitchenqual_Fa          -0.1652      0.036     -4.649      0.000      -0.235      -0.095\n",
      "kitchenqual_Gd          -0.0846      0.021     -4.069      0.000      -0.125      -0.044\n",
      "kitchenqual_TA          -0.1210      0.023     -5.200      0.000      -0.167      -0.075\n",
      "garagefinish_RFn        -0.0076      0.011     -0.678      0.498      -0.030       0.014\n",
      "garagefinish_Unf        -0.0316      0.012     -2.638      0.008      -0.055      -0.008\n",
      "bsmtqual_Fa              0.0050      0.032      0.156      0.876      -0.058       0.068\n",
      "bsmtqual_Gd              0.0155      0.016      0.965      0.335      -0.016       0.047\n",
      "bsmtqual_TA              0.0389      0.018      2.148      0.032       0.003       0.074\n",
      "==============================================================================\n",
      "Omnibus:                      427.910   Durbin-Watson:                   1.951\n",
      "Prob(Omnibus):                  0.000   Jarque-Bera (JB):             2857.997\n",
      "Skew:                          -1.192   Prob(JB):                         0.00\n",
      "Kurtosis:                       9.426   Cond. No.                     6.05e+05\n",
      "==============================================================================\n",
      "\n",
      "Warnings:\n",
      "[1] Standard Errors assume that the covariance matrix of the errors is correctly specified.\n",
      "[2] The condition number is large, 6.05e+05. This might indicate that there are\n",
      "strong multicollinearity or other numerical problems.\n"
     ]
    }
   ],
   "source": [
    "# X is all the features for the model\n",
    "X = model_df[['overallqual', 'log_grlivarea', 'garagecars', 'log_firstflrsf', 'fullbath',\n",
    "              'yearbuilt', 'yearremodadd', 'neighborhood_Blueste', 'neighborhood_BrDale', 'neighborhood_BrkSide',\n",
    "              'neighborhood_ClearCr', 'neighborhood_CollgCr', 'neighborhood_Crawfor', 'neighborhood_Edwards',\n",
    "              'neighborhood_Gilbert', 'neighborhood_IDOTRR', 'neighborhood_MeadowV', 'neighborhood_Mitchel',\n",
    "              'neighborhood_NAmes', 'neighborhood_NPkVill', 'neighborhood_NWAmes', 'neighborhood_NoRidge',\n",
    "              'neighborhood_NridgHt', 'neighborhood_OldTown', 'neighborhood_SWISU', 'neighborhood_Sawyer',\n",
    "              'neighborhood_SawyerW', 'neighborhood_Somerst', 'neighborhood_StoneBr', 'neighborhood_Timber',\n",
    "              'neighborhood_Veenker', 'exterqual_Fa', 'exterqual_Gd', 'exterqual_TA', 'kitchenqual_Fa',\n",
    "              'kitchenqual_Gd', 'kitchenqual_TA', 'garagefinish_RFn', 'garagefinish_Unf', 'bsmtqual_Fa',\n",
    "              'bsmtqual_Gd', 'bsmtqual_TA']]\n",
    "\n",
    "# Y is our target\n",
    "Y = model_df['log_saleprice']\n",
    "\n",
    "import statsmodels.api as sm\n",
    "\n",
    "X = sm.add_constant(X)\n",
    "\n",
    "results = sm.OLS(Y,X).fit()\n",
    "\n",
    "print(results.summary())"
   ]
  },
  {
   "cell_type": "markdown",
   "metadata": {},
   "source": [
    "#### -The adjusted R-squared value is .862. This is a slight improvement to our first model.\n",
    "#### -The F-statistic is 217.5. This is a slight improvement to our first model.\n",
    "#### -The AIC and BIC values are -1382 an -1155 respectively. This is a slight improvement to our first model.\n",
    "#### -This summary leads me to believe the second model is certainly better than our first model, although only slightly better. This may be because there may not be any more areas for big improvement using linear regression."
   ]
  },
  {
   "cell_type": "code",
   "execution_count": null,
   "metadata": {},
   "outputs": [],
   "source": []
  }
 ],
 "metadata": {
  "kernelspec": {
   "display_name": "Python 3",
   "language": "python",
   "name": "python3"
  },
  "language_info": {
   "codemirror_mode": {
    "name": "ipython",
    "version": 3
   },
   "file_extension": ".py",
   "mimetype": "text/x-python",
   "name": "python",
   "nbconvert_exporter": "python",
   "pygments_lexer": "ipython3",
   "version": "3.7.3"
  }
 },
 "nbformat": 4,
 "nbformat_minor": 2
}
