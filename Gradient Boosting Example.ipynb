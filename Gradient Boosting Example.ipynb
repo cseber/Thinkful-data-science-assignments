{
 "cells": [
  {
   "cell_type": "code",
   "execution_count": 8,
   "metadata": {
    "scrolled": false
   },
   "outputs": [],
   "source": [
    "import pandas as pd\n",
    "import numpy as np\n",
    "import seaborn as sns\n",
    "import matplotlib.pyplot as plt\n",
    "%matplotlib inline\n",
    "\n",
    "from sklearn import ensemble\n",
    "from sklearn import datasets\n",
    "from sklearn.utils import shuffle\n",
    "from sklearn.metrics import mean_squared_error, mean_absolute_error"
   ]
  },
  {
   "cell_type": "code",
   "execution_count": 9,
   "metadata": {},
   "outputs": [
    {
     "data": {
      "text/html": [
       "<div>\n",
       "<style scoped>\n",
       "    .dataframe tbody tr th:only-of-type {\n",
       "        vertical-align: middle;\n",
       "    }\n",
       "\n",
       "    .dataframe tbody tr th {\n",
       "        vertical-align: top;\n",
       "    }\n",
       "\n",
       "    .dataframe thead th {\n",
       "        text-align: right;\n",
       "    }\n",
       "</style>\n",
       "<table border=\"1\" class=\"dataframe\">\n",
       "  <thead>\n",
       "    <tr style=\"text-align: right;\">\n",
       "      <th></th>\n",
       "      <th>cntry</th>\n",
       "      <th>idno</th>\n",
       "      <th>year</th>\n",
       "      <th>tvtot</th>\n",
       "      <th>ppltrst</th>\n",
       "      <th>pplfair</th>\n",
       "      <th>pplhlp</th>\n",
       "      <th>happy</th>\n",
       "      <th>sclmeet</th>\n",
       "      <th>sclact</th>\n",
       "      <th>gndr</th>\n",
       "      <th>agea</th>\n",
       "      <th>partner</th>\n",
       "    </tr>\n",
       "  </thead>\n",
       "  <tbody>\n",
       "    <tr>\n",
       "      <td>0</td>\n",
       "      <td>CH</td>\n",
       "      <td>5.0</td>\n",
       "      <td>6</td>\n",
       "      <td>3.0</td>\n",
       "      <td>3.0</td>\n",
       "      <td>10.0</td>\n",
       "      <td>5.0</td>\n",
       "      <td>8.0</td>\n",
       "      <td>5.0</td>\n",
       "      <td>4.0</td>\n",
       "      <td>2.0</td>\n",
       "      <td>60.0</td>\n",
       "      <td>1.0</td>\n",
       "    </tr>\n",
       "    <tr>\n",
       "      <td>1</td>\n",
       "      <td>CH</td>\n",
       "      <td>25.0</td>\n",
       "      <td>6</td>\n",
       "      <td>6.0</td>\n",
       "      <td>5.0</td>\n",
       "      <td>7.0</td>\n",
       "      <td>5.0</td>\n",
       "      <td>9.0</td>\n",
       "      <td>3.0</td>\n",
       "      <td>2.0</td>\n",
       "      <td>2.0</td>\n",
       "      <td>59.0</td>\n",
       "      <td>1.0</td>\n",
       "    </tr>\n",
       "    <tr>\n",
       "      <td>2</td>\n",
       "      <td>CH</td>\n",
       "      <td>26.0</td>\n",
       "      <td>6</td>\n",
       "      <td>1.0</td>\n",
       "      <td>8.0</td>\n",
       "      <td>8.0</td>\n",
       "      <td>8.0</td>\n",
       "      <td>7.0</td>\n",
       "      <td>6.0</td>\n",
       "      <td>3.0</td>\n",
       "      <td>1.0</td>\n",
       "      <td>24.0</td>\n",
       "      <td>2.0</td>\n",
       "    </tr>\n",
       "    <tr>\n",
       "      <td>3</td>\n",
       "      <td>CH</td>\n",
       "      <td>28.0</td>\n",
       "      <td>6</td>\n",
       "      <td>4.0</td>\n",
       "      <td>6.0</td>\n",
       "      <td>6.0</td>\n",
       "      <td>7.0</td>\n",
       "      <td>10.0</td>\n",
       "      <td>6.0</td>\n",
       "      <td>2.0</td>\n",
       "      <td>2.0</td>\n",
       "      <td>64.0</td>\n",
       "      <td>1.0</td>\n",
       "    </tr>\n",
       "    <tr>\n",
       "      <td>4</td>\n",
       "      <td>CH</td>\n",
       "      <td>29.0</td>\n",
       "      <td>6</td>\n",
       "      <td>5.0</td>\n",
       "      <td>6.0</td>\n",
       "      <td>7.0</td>\n",
       "      <td>5.0</td>\n",
       "      <td>8.0</td>\n",
       "      <td>7.0</td>\n",
       "      <td>2.0</td>\n",
       "      <td>2.0</td>\n",
       "      <td>55.0</td>\n",
       "      <td>1.0</td>\n",
       "    </tr>\n",
       "  </tbody>\n",
       "</table>\n",
       "</div>"
      ],
      "text/plain": [
       "  cntry  idno  year  tvtot  ppltrst  pplfair  pplhlp  happy  sclmeet  sclact  \\\n",
       "0    CH   5.0     6    3.0      3.0     10.0     5.0    8.0      5.0     4.0   \n",
       "1    CH  25.0     6    6.0      5.0      7.0     5.0    9.0      3.0     2.0   \n",
       "2    CH  26.0     6    1.0      8.0      8.0     8.0    7.0      6.0     3.0   \n",
       "3    CH  28.0     6    4.0      6.0      6.0     7.0   10.0      6.0     2.0   \n",
       "4    CH  29.0     6    5.0      6.0      7.0     5.0    8.0      7.0     2.0   \n",
       "\n",
       "   gndr  agea  partner  \n",
       "0   2.0  60.0      1.0  \n",
       "1   2.0  59.0      1.0  \n",
       "2   1.0  24.0      2.0  \n",
       "3   2.0  64.0      1.0  \n",
       "4   2.0  55.0      1.0  "
      ]
     },
     "execution_count": 9,
     "metadata": {},
     "output_type": "execute_result"
    }
   ],
   "source": [
    "df = pd.read_csv((\n",
    "    \"https://raw.githubusercontent.com/Thinkful-Ed/data-201-resources/\"\n",
    "    \"master/ESS_practice_data/ESSdata_Thinkful.csv\")).dropna()\n",
    "df.head()"
   ]
  },
  {
   "cell_type": "markdown",
   "metadata": {},
   "source": [
    "#### First let's create a baseline model"
   ]
  },
  {
   "cell_type": "code",
   "execution_count": 10,
   "metadata": {},
   "outputs": [],
   "source": [
    "continuous_cols = df.describe().columns\n",
    "continuous_cols = continuous_cols[1:]\n",
    "continuous_var = df[continuous_cols]\n",
    "\n",
    "cat_cols = ['cntry']\n",
    "cat_var = pd.get_dummies(df[cat_cols])\n",
    "\n",
    "features = pd.concat([continuous_var, cat_var], axis=1).drop(columns='partner')\n",
    "target = df['partner'] - 1"
   ]
  },
  {
   "cell_type": "code",
   "execution_count": 12,
   "metadata": {},
   "outputs": [
    {
     "name": "stdout",
     "output_type": "stream",
     "text": [
      "Total accuracy for training set: 0.8658892128279884\n",
      "Percentage of type 1 errors: 0.019640939082399878\n",
      "Percentage of type 2 errors: 0.11446984808961179\n",
      "--------------------------------\n",
      "Total accuracy for test set: 0.7484662576687117\n",
      "Percentage of type 1 errors: 0.07239263803680981\n",
      "Percentage of type 2 errors: 0.17914110429447852\n"
     ]
    }
   ],
   "source": [
    "from sklearn.model_selection import train_test_split\n",
    "\n",
    "X = features\n",
    "Y = target\n",
    "\n",
    "X_train, X_test, Y_train, Y_test = train_test_split(X, Y, test_size=.2, random_state=200)\n",
    "\n",
    "gbc = ensemble.GradientBoostingClassifier(loss='deviance', learning_rate=.1, n_estimators=500, max_depth=4)\n",
    "\n",
    "gbc.fit(X_train, Y_train)\n",
    "\n",
    "Y_train_preds = gbc.predict(X_train)\n",
    "Y_test_preds = gbc.predict(X_test)\n",
    "\n",
    "train_table = pd.crosstab(Y_train, Y_train_preds, margins=True)\n",
    "test_table = pd.crosstab(Y_test, Y_test_preds, margins=True)\n",
    "\n",
    "print('Total accuracy for training set: {}'.format((train_table.loc[0.0, 0.0] + train_table.loc[1.0, 1.0])/train_table.loc['All', 'All']))\n",
    "print('Percentage of type 1 errors: {}'.format(train_table.loc[0.0, 1.0]/train_table.loc['All', 'All']))\n",
    "print('Percentage of type 2 errors: {}'.format(train_table.loc[1.0, 0.0]/train_table.loc['All', 'All']))\n",
    "print('--------------------------------')\n",
    "print('Total accuracy for test set: {}'.format((test_table.loc[0.0, 0.0] + test_table.loc[1.0, 1.0])/test_table.loc['All', 'All']))\n",
    "print('Percentage of type 1 errors: {}'.format(test_table.loc[0.0, 1.0]/test_table.loc['All', 'All']))\n",
    "print('Percentage of type 2 errors: {}'.format(test_table.loc[1.0, 0.0]/test_table.loc['All', 'All']))"
   ]
  },
  {
   "cell_type": "markdown",
   "metadata": {},
   "source": [
    "#### The model seems to be overfit. Let's tune the hyperparameters using GridSearchCV."
   ]
  },
  {
   "cell_type": "code",
   "execution_count": 37,
   "metadata": {},
   "outputs": [
    {
     "name": "stdout",
     "output_type": "stream",
     "text": [
      "best params:\n",
      "-------------\n",
      "{'learning_rate': 0.05, 'loss': 'deviance', 'max_depth': 3, 'n_estimators': 100}\n"
     ]
    }
   ],
   "source": [
    "from sklearn.model_selection import GridSearchCV\n",
    "\n",
    "parameters = [{'loss': ['exponential', 'deviance'],\n",
    "               'learning_rate': [.025, .05, .1],\n",
    "               'n_estimators': [50, 100, 200],\n",
    "               'max_depth': [2, 3, 4]}]\n",
    "\n",
    "grid_search = GridSearchCV(estimator=gbc,\n",
    "                           param_grid=parameters,\n",
    "                           scoring='accuracy',\n",
    "                           cv=5,\n",
    "                           n_jobs=-1)\n",
    "grid_search.fit(X_train, Y_train)\n",
    "\n",
    "print('best params:')\n",
    "print('-------------')\n",
    "print(grid_search.best_params_)"
   ]
  },
  {
   "cell_type": "markdown",
   "metadata": {},
   "source": [
    "#### Let's see what happens after tuning the hyperparemters "
   ]
  },
  {
   "cell_type": "code",
   "execution_count": 38,
   "metadata": {},
   "outputs": [
    {
     "name": "stdout",
     "output_type": "stream",
     "text": [
      "Total accuracy for training set: 0.7666104035599202\n",
      "Percentage of type 1 errors: 0.038974988491637254\n",
      "Percentage of type 2 errors: 0.19441460794844254\n",
      "--------------------------------\n",
      "Total accuracy for test set: 0.7613496932515338\n",
      "Percentage of type 1 errors: 0.044171779141104296\n",
      "Percentage of type 2 errors: 0.19447852760736195\n"
     ]
    }
   ],
   "source": [
    "gbc = ensemble.GradientBoostingClassifier(loss='deviance', learning_rate=.05, n_estimators=100, max_depth=3)\n",
    "\n",
    "gbc.fit(X_train, Y_train)\n",
    "\n",
    "Y_train_preds = gbc.predict(X_train)\n",
    "Y_test_preds = gbc.predict(X_test)\n",
    "\n",
    "train_table = pd.crosstab(Y_train, Y_train_preds, margins=True)\n",
    "test_table = pd.crosstab(Y_test, Y_test_preds, margins=True)\n",
    "\n",
    "print('Total accuracy for training set: {}'.format((train_table.loc[0.0, 0.0] + train_table.loc[1.0, 1.0])/train_table.loc['All', 'All']))\n",
    "print('Percentage of type 1 errors: {}'.format(train_table.loc[0.0, 1.0]/train_table.loc['All', 'All']))\n",
    "print('Percentage of type 2 errors: {}'.format(train_table.loc[1.0, 0.0]/train_table.loc['All', 'All']))\n",
    "print('--------------------------------')\n",
    "print('Total accuracy for test set: {}'.format((test_table.loc[0.0, 0.0] + test_table.loc[1.0, 1.0])/test_table.loc['All', 'All']))\n",
    "print('Percentage of type 1 errors: {}'.format(test_table.loc[0.0, 1.0]/test_table.loc['All', 'All']))\n",
    "print('Percentage of type 2 errors: {}'.format(test_table.loc[1.0, 0.0]/test_table.loc['All', 'All']))"
   ]
  },
  {
   "cell_type": "markdown",
   "metadata": {},
   "source": [
    "The model is no longer overfit, and is slightly more accurate. However, there is still more room for improvement in terms of accruacy. Having more useful features in the dataset might help improve the accuracy.\n",
    "#### Let's look at the relative feature importance"
   ]
  },
  {
   "cell_type": "code",
   "execution_count": 81,
   "metadata": {},
   "outputs": [
    {
     "data": {
      "image/png": "[encoded data removed]",
      "text/plain": [
       "<Figure size 720x360 with 1 Axes>"
      ]
     },
     "metadata": {
      "needs_background": "light"
     },
     "output_type": "display_data"
    }
   ],
   "source": [
    "feature_importance = gbc.feature_importances_\n",
    "feature_importance = 100*feature_importance/feature_importance.max()\n",
    "feature_importance_dic = {}\n",
    "\n",
    "i = 0\n",
    "for col in X.columns:\n",
    "    feature_importance_dic[col] = feature_importance[i]\n",
    "    i+=1\n",
    "\n",
    "feature_importance_dic = sorted(feature_importance_dic.items(), key=lambda x: x[1], reverse=True)\n",
    "\n",
    "x = [x[0] for x in feature_importance_dic]\n",
    "y = [x[1] for x in feature_importance_dic]\n",
    "plt.figure(figsize=(10,5))\n",
    "sns.barplot(x=x, y=y)\n",
    "plt.xticks(fontsize=14, rotation=45)\n",
    "plt.title('Relative feature importance', fontsize=18)\n",
    "plt.show()"
   ]
  },
  {
   "cell_type": "markdown",
   "metadata": {},
   "source": [
    "It looks like age is the only useful feature in our data set. I believe having another useful feature would significantly improve our model."
   ]
  },
  {
   "cell_type": "code",
   "execution_count": null,
   "metadata": {},
   "outputs": [],
   "source": []
  }
 ],
 "metadata": {
  "kernelspec": {
   "display_name": "Python 3",
   "language": "python",
   "name": "python3"
  },
  "language_info": {
   "codemirror_mode": {
    "name": "ipython",
    "version": 3
   },
   "file_extension": ".py",
   "mimetype": "text/x-python",
   "name": "python",
   "nbconvert_exporter": "python",
   "pygments_lexer": "ipython3",
   "version": "3.7.3"
  }
 },
 "nbformat": 4,
 "nbformat_minor": 2
}
