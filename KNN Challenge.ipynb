{
 "cells": [
  {
   "cell_type": "code",
   "execution_count": 1,
   "metadata": {},
   "outputs": [],
   "source": [
    "import numpy as np\n",
    "import pandas as pd\n",
    "import matplotlib.pyplot as plt\n",
    "import seaborn as sns\n",
    "from sqlalchemy import create_engine\n",
    "import scipy.stats as stats\n",
    "%matplotlib inline"
   ]
  },
  {
   "cell_type": "code",
   "execution_count": 2,
   "metadata": {},
   "outputs": [],
   "source": [
    "postgres_user = 'dsbc_student'\n",
    "postgres_pw = '7*.8G9QH21'\n",
    "postgres_host = '142.93.121.174'\n",
    "postgres_port = '5432'\n",
    "postgres_db = 'houseprices'\n",
    "\n",
    "engine = create_engine('postgresql://{}:{}@{}:{}/{}'.format(\n",
    "    postgres_user, postgres_pw, postgres_host, postgres_port, postgres_db))\n",
    "\n",
    "df = pd.read_sql_query('select * from houseprices',con=engine)\n",
    "\n",
    "# no need for an open connection, \n",
    "# as we're only doing a single query\n",
    "engine.dispose()"
   ]
  },
  {
   "cell_type": "code",
   "execution_count": 3,
   "metadata": {},
   "outputs": [
    {
     "data": {
      "text/html": [
       "<div>\n",
       "<style scoped>\n",
       "    .dataframe tbody tr th:only-of-type {\n",
       "        vertical-align: middle;\n",
       "    }\n",
       "\n",
       "    .dataframe tbody tr th {\n",
       "        vertical-align: top;\n",
       "    }\n",
       "\n",
       "    .dataframe thead th {\n",
       "        text-align: right;\n",
       "    }\n",
       "</style>\n",
       "<table border=\"1\" class=\"dataframe\">\n",
       "  <thead>\n",
       "    <tr style=\"text-align: right;\">\n",
       "      <th></th>\n",
       "      <th>id</th>\n",
       "      <th>mssubclass</th>\n",
       "      <th>mszoning</th>\n",
       "      <th>lotfrontage</th>\n",
       "      <th>lotarea</th>\n",
       "      <th>street</th>\n",
       "      <th>alley</th>\n",
       "      <th>lotshape</th>\n",
       "      <th>landcontour</th>\n",
       "      <th>utilities</th>\n",
       "      <th>...</th>\n",
       "      <th>poolarea</th>\n",
       "      <th>poolqc</th>\n",
       "      <th>fence</th>\n",
       "      <th>miscfeature</th>\n",
       "      <th>miscval</th>\n",
       "      <th>mosold</th>\n",
       "      <th>yrsold</th>\n",
       "      <th>saletype</th>\n",
       "      <th>salecondition</th>\n",
       "      <th>saleprice</th>\n",
       "    </tr>\n",
       "  </thead>\n",
       "  <tbody>\n",
       "    <tr>\n",
       "      <td>0</td>\n",
       "      <td>1</td>\n",
       "      <td>60</td>\n",
       "      <td>RL</td>\n",
       "      <td>65.0</td>\n",
       "      <td>8450</td>\n",
       "      <td>Pave</td>\n",
       "      <td>None</td>\n",
       "      <td>Reg</td>\n",
       "      <td>Lvl</td>\n",
       "      <td>AllPub</td>\n",
       "      <td>...</td>\n",
       "      <td>0</td>\n",
       "      <td>None</td>\n",
       "      <td>None</td>\n",
       "      <td>None</td>\n",
       "      <td>0</td>\n",
       "      <td>2</td>\n",
       "      <td>2008</td>\n",
       "      <td>WD</td>\n",
       "      <td>Normal</td>\n",
       "      <td>208500</td>\n",
       "    </tr>\n",
       "    <tr>\n",
       "      <td>1</td>\n",
       "      <td>2</td>\n",
       "      <td>20</td>\n",
       "      <td>RL</td>\n",
       "      <td>80.0</td>\n",
       "      <td>9600</td>\n",
       "      <td>Pave</td>\n",
       "      <td>None</td>\n",
       "      <td>Reg</td>\n",
       "      <td>Lvl</td>\n",
       "      <td>AllPub</td>\n",
       "      <td>...</td>\n",
       "      <td>0</td>\n",
       "      <td>None</td>\n",
       "      <td>None</td>\n",
       "      <td>None</td>\n",
       "      <td>0</td>\n",
       "      <td>5</td>\n",
       "      <td>2007</td>\n",
       "      <td>WD</td>\n",
       "      <td>Normal</td>\n",
       "      <td>181500</td>\n",
       "    </tr>\n",
       "    <tr>\n",
       "      <td>2</td>\n",
       "      <td>3</td>\n",
       "      <td>60</td>\n",
       "      <td>RL</td>\n",
       "      <td>68.0</td>\n",
       "      <td>11250</td>\n",
       "      <td>Pave</td>\n",
       "      <td>None</td>\n",
       "      <td>IR1</td>\n",
       "      <td>Lvl</td>\n",
       "      <td>AllPub</td>\n",
       "      <td>...</td>\n",
       "      <td>0</td>\n",
       "      <td>None</td>\n",
       "      <td>None</td>\n",
       "      <td>None</td>\n",
       "      <td>0</td>\n",
       "      <td>9</td>\n",
       "      <td>2008</td>\n",
       "      <td>WD</td>\n",
       "      <td>Normal</td>\n",
       "      <td>223500</td>\n",
       "    </tr>\n",
       "    <tr>\n",
       "      <td>3</td>\n",
       "      <td>4</td>\n",
       "      <td>70</td>\n",
       "      <td>RL</td>\n",
       "      <td>60.0</td>\n",
       "      <td>9550</td>\n",
       "      <td>Pave</td>\n",
       "      <td>None</td>\n",
       "      <td>IR1</td>\n",
       "      <td>Lvl</td>\n",
       "      <td>AllPub</td>\n",
       "      <td>...</td>\n",
       "      <td>0</td>\n",
       "      <td>None</td>\n",
       "      <td>None</td>\n",
       "      <td>None</td>\n",
       "      <td>0</td>\n",
       "      <td>2</td>\n",
       "      <td>2006</td>\n",
       "      <td>WD</td>\n",
       "      <td>Abnorml</td>\n",
       "      <td>140000</td>\n",
       "    </tr>\n",
       "    <tr>\n",
       "      <td>4</td>\n",
       "      <td>5</td>\n",
       "      <td>60</td>\n",
       "      <td>RL</td>\n",
       "      <td>84.0</td>\n",
       "      <td>14260</td>\n",
       "      <td>Pave</td>\n",
       "      <td>None</td>\n",
       "      <td>IR1</td>\n",
       "      <td>Lvl</td>\n",
       "      <td>AllPub</td>\n",
       "      <td>...</td>\n",
       "      <td>0</td>\n",
       "      <td>None</td>\n",
       "      <td>None</td>\n",
       "      <td>None</td>\n",
       "      <td>0</td>\n",
       "      <td>12</td>\n",
       "      <td>2008</td>\n",
       "      <td>WD</td>\n",
       "      <td>Normal</td>\n",
       "      <td>250000</td>\n",
       "    </tr>\n",
       "  </tbody>\n",
       "</table>\n",
       "<p>5 rows × 81 columns</p>\n",
       "</div>"
      ],
      "text/plain": [
       "   id  mssubclass mszoning  lotfrontage  lotarea street alley lotshape  \\\n",
       "0   1          60       RL         65.0     8450   Pave  None      Reg   \n",
       "1   2          20       RL         80.0     9600   Pave  None      Reg   \n",
       "2   3          60       RL         68.0    11250   Pave  None      IR1   \n",
       "3   4          70       RL         60.0     9550   Pave  None      IR1   \n",
       "4   5          60       RL         84.0    14260   Pave  None      IR1   \n",
       "\n",
       "  landcontour utilities  ... poolarea poolqc fence miscfeature miscval mosold  \\\n",
       "0         Lvl    AllPub  ...        0   None  None        None       0      2   \n",
       "1         Lvl    AllPub  ...        0   None  None        None       0      5   \n",
       "2         Lvl    AllPub  ...        0   None  None        None       0      9   \n",
       "3         Lvl    AllPub  ...        0   None  None        None       0      2   \n",
       "4         Lvl    AllPub  ...        0   None  None        None       0     12   \n",
       "\n",
       "  yrsold  saletype  salecondition  saleprice  \n",
       "0   2008        WD         Normal     208500  \n",
       "1   2007        WD         Normal     181500  \n",
       "2   2008        WD         Normal     223500  \n",
       "3   2006        WD        Abnorml     140000  \n",
       "4   2008        WD         Normal     250000  \n",
       "\n",
       "[5 rows x 81 columns]"
      ]
     },
     "execution_count": 3,
     "metadata": {},
     "output_type": "execute_result"
    }
   ],
   "source": [
    "df.head()"
   ]
  },
  {
   "cell_type": "code",
   "execution_count": 5,
   "metadata": {},
   "outputs": [],
   "source": [
    "df['total_sf'] = df['grlivarea'] + df['totalbsmtsf'] + df['firstflrsf'] + df['secondflrsf'] + df['wooddecksf'] + df['openporchsf']\n",
    "df['total_bathrooms'] = df['fullbath'] + .5*df['halfbath'] + df['bsmtfullbath'] + .5*df['bsmthalfbath']\n",
    "df['int_totalsf_qual'] = df['overallqual']*df['total_sf']"
   ]
  },
  {
   "cell_type": "code",
   "execution_count": 6,
   "metadata": {},
   "outputs": [],
   "source": [
    "df['log_saleprice'] = np.log10(df['saleprice'])\n",
    "df['log_int_totalsf_qual'] = np.log10(df['int_totalsf_qual'])\n",
    "\n",
    "continuous_features = df[['log_int_totalsf_qual', 'garagecars', 'total_bathrooms', 'yearbuilt', 'yearremodadd']]\n",
    "target = df['log_saleprice']"
   ]
  },
  {
   "cell_type": "code",
   "execution_count": 7,
   "metadata": {},
   "outputs": [],
   "source": [
    "categorical_features = pd.get_dummies(df[['exterqual', 'bsmtqual', 'kitchenqual', 'garagefinish', 'neighborhood']], drop_first=True)\n",
    "\n",
    "model_features = pd.concat([continuous_features, categorical_features], axis=1)"
   ]
  },
  {
   "cell_type": "code",
   "execution_count": 8,
   "metadata": {},
   "outputs": [],
   "source": [
    "X = model_features\n",
    "Y = target"
   ]
  },
  {
   "cell_type": "code",
   "execution_count": 9,
   "metadata": {},
   "outputs": [],
   "source": [
    "from sklearn.model_selection import train_test_split\n",
    "\n",
    "X_train, X_test, Y_train, Y_test = train_test_split(X, Y, test_size=.2, random_state=200)"
   ]
  },
  {
   "cell_type": "markdown",
   "metadata": {},
   "source": [
    "# OLS model"
   ]
  },
  {
   "cell_type": "code",
   "execution_count": 13,
   "metadata": {},
   "outputs": [
    {
     "name": "stdout",
     "output_type": "stream",
     "text": [
      "R-squared for training set: 0.8781564824632325\n",
      "---------------------------\n",
      "R_squared for test set: 0.8611604037591601\n",
      "Mean absolute error for test set: 0.0454075206092834\n",
      "Mean squared error for test set: 0.004216450405464482\n",
      "Root mean squared error for test set: 0.0649342005838563\n",
      "Mean absolute percentage error for test set: 0.8706591172689219\n"
     ]
    }
   ],
   "source": [
    "from sklearn.linear_model import LinearRegression\n",
    "from sklearn.metrics import mean_absolute_error\n",
    "from statsmodels.tools.eval_measures import mse, rmse\n",
    "\n",
    "lrm = LinearRegression()\n",
    "\n",
    "lrm.fit(X_train, Y_train)\n",
    "\n",
    "y_preds = lrm.predict(X_test)\n",
    "\n",
    "print('R-squared for training set: {}'.format(lrm.score(X_train, Y_train)))\n",
    "print('---------------------------')\n",
    "print('R_squared for test set: {}'.format(lrm.score(X_test, Y_test)))\n",
    "print('Mean absolute error for test set: {}'.format(mean_absolute_error(y_preds, Y_test)))\n",
    "print('Mean squared error for test set: {}'.format(mse(y_preds, Y_test)))\n",
    "print('Root mean squared error for test set: {}'.format(rmse(y_preds, Y_test)))\n",
    "print('Mean absolute percentage error for test set: {}'.format(np.mean(np.abs(y_preds-Y_test)/Y_test)*100))"
   ]
  },
  {
   "cell_type": "markdown",
   "metadata": {},
   "source": [
    "# KNN model (n_neighbors=7, weighted)"
   ]
  },
  {
   "cell_type": "code",
   "execution_count": 42,
   "metadata": {},
   "outputs": [
    {
     "name": "stdout",
     "output_type": "stream",
     "text": [
      "R-squared for training set: 0.9999574021317116\n",
      "---------------------------\n",
      "R_squared for test set: 0.7074276716759087\n",
      "Mean absolute error for test set: 0.06777758995370604\n",
      "Mean squared error for test set: 0.008885193747249838\n",
      "Root mean squared error for test set: 0.09426130567337712\n",
      "Mean absolute percentage error for test set: 1.2953973286565525\n"
     ]
    }
   ],
   "source": [
    "from sklearn.neighbors import KNeighborsRegressor\n",
    "\n",
    "knn = KNeighborsRegressor(n_neighbors=7, weights='distance')\n",
    "\n",
    "knn.fit(X_train, Y_train)\n",
    "\n",
    "y_preds = knn.predict(X_test)\n",
    "\n",
    "print('R-squared for training set: {}'.format(knn.score(X_train, Y_train)))\n",
    "print('---------------------------')\n",
    "print('R_squared for test set: {}'.format(knn.score(X_test, Y_test)))\n",
    "print('Mean absolute error for test set: {}'.format(mean_absolute_error(y_preds, Y_test)))\n",
    "print('Mean squared error for test set: {}'.format(mse(y_preds, Y_test)))\n",
    "print('Root mean squared error for test set: {}'.format(rmse(y_preds, Y_test)))\n",
    "print('Mean absolute percentage error for test set: {}'.format(np.mean(np.abs(y_preds-Y_test)/Y_test)*100))"
   ]
  },
  {
   "cell_type": "markdown",
   "metadata": {},
   "source": [
    "# KNN model (n_neighbors=3, unweighted)"
   ]
  },
  {
   "cell_type": "code",
   "execution_count": 43,
   "metadata": {},
   "outputs": [
    {
     "name": "stdout",
     "output_type": "stream",
     "text": [
      "R-squared for training set: 0.824403493925931\n",
      "---------------------------\n",
      "R_squared for test set: 0.6965764895817144\n",
      "Mean absolute error for test set: 0.06820756273228105\n",
      "Mean squared error for test set: 0.009214735696230068\n",
      "Root mean squared error for test set: 0.09599341485867699\n",
      "Mean absolute percentage error for test set: 1.304888807066875\n"
     ]
    }
   ],
   "source": [
    "knn = KNeighborsRegressor(n_neighbors=3)\n",
    "\n",
    "knn.fit(X_train, Y_train)\n",
    "\n",
    "y_preds = knn.predict(X_test)\n",
    "\n",
    "print('R-squared for training set: {}'.format(knn.score(X_train, Y_train)))\n",
    "print('---------------------------')\n",
    "print('R_squared for test set: {}'.format(knn.score(X_test, Y_test)))\n",
    "print('Mean absolute error for test set: {}'.format(mean_absolute_error(y_preds, Y_test)))\n",
    "print('Mean squared error for test set: {}'.format(mse(y_preds, Y_test)))\n",
    "print('Root mean squared error for test set: {}'.format(rmse(y_preds, Y_test)))\n",
    "print('Mean absolute percentage error for test set: {}'.format(np.mean(np.abs(y_preds-Y_test)/Y_test)*100))"
   ]
  },
  {
   "cell_type": "markdown",
   "metadata": {},
   "source": [
    "# KNN model (n_neighbors=10, unweighted)"
   ]
  },
  {
   "cell_type": "code",
   "execution_count": 48,
   "metadata": {},
   "outputs": [
    {
     "name": "stdout",
     "output_type": "stream",
     "text": [
      "R-squared for training set: 0.6854836985430106\n",
      "---------------------------\n",
      "R_squared for test set: 0.6809649168082899\n",
      "Mean absolute error for test set: 0.07101160011193995\n",
      "Mean squared error for test set: 0.009688847002605947\n",
      "Root mean squared error for test set: 0.09843194096738084\n",
      "Mean absolute percentage error for test set: 1.3576309922066923\n"
     ]
    }
   ],
   "source": [
    "knn = KNeighborsRegressor(n_neighbors=10)\n",
    "\n",
    "knn.fit(X_train, Y_train)\n",
    "\n",
    "y_preds = knn.predict(X_test)\n",
    "\n",
    "print('R-squared for training set: {}'.format(knn.score(X_train, Y_train)))\n",
    "print('---------------------------')\n",
    "print('R_squared for test set: {}'.format(knn.score(X_test, Y_test)))\n",
    "print('Mean absolute error for test set: {}'.format(mean_absolute_error(y_preds, Y_test)))\n",
    "print('Mean squared error for test set: {}'.format(mse(y_preds, Y_test)))\n",
    "print('Root mean squared error for test set: {}'.format(rmse(y_preds, Y_test)))\n",
    "print('Mean absolute percentage error for test set: {}'.format(np.mean(np.abs(y_preds-Y_test)/Y_test)*100))"
   ]
  },
  {
   "cell_type": "markdown",
   "metadata": {},
   "source": [
    "# Summary\n",
    "The OLS model appears to perform better by every metric. It does not appear to be overfit. All of the metrics are not great, but are satisfactory<br>\n",
    "<br>\n",
    "All of the KNN models did not perform nearly as well as the OLS model. The weighted distance parameter appears to result in a extreme overfitting. The lower k values also result in overfitting. The unweighted, k=10 model was not overfit, however all of the metrics were much worse than our OLS model."
   ]
  },
  {
   "cell_type": "code",
   "execution_count": null,
   "metadata": {},
   "outputs": [],
   "source": []
  }
 ],
 "metadata": {
  "kernelspec": {
   "display_name": "Python 3",
   "language": "python",
   "name": "python3"
  },
  "language_info": {
   "codemirror_mode": {
    "name": "ipython",
    "version": 3
   },
   "file_extension": ".py",
   "mimetype": "text/x-python",
   "name": "python",
   "nbconvert_exporter": "python",
   "pygments_lexer": "ipython3",
   "version": "3.7.3"
  }
 },
 "nbformat": 4,
 "nbformat_minor": 2
}
