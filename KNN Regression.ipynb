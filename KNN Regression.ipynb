{
 "cells": [
  {
   "cell_type": "code",
   "execution_count": 17,
   "metadata": {},
   "outputs": [],
   "source": [
    "import pandas as pd\n",
    "import numpy as np\n",
    "import scipy\n",
    "import matplotlib.pyplot as plt\n",
    "%matplotlib inline\n",
    "\n",
    "music = pd.DataFrame()\n",
    "music['duration'] = [184, 134, 243, 186, 122, 197, 294, 382, 102, 264, \n",
    "                     205, 110, 307, 110, 397, 153, 190, 192, 210, 403,\n",
    "                     164, 198, 204, 253, 234, 190, 182, 401, 376, 102]\n",
    "music['loudness'] = [18, 34, 43, 36, 22, 9, 29, 22, 10, 24, \n",
    "                     20, 10, 17, 51, 7, 13, 19, 12, 21, 22,\n",
    "                     16, 18, 4, 23, 34, 19, 14, 11, 37, 42]\n",
    "music['bpm'] = [ 105, 90, 78, 75, 120, 110, 80, 100, 105, 60,\n",
    "                  70, 105, 95, 70, 90, 105, 70, 75, 102, 100,\n",
    "                  100, 95, 90, 80, 90, 80, 100, 105, 70, 65]"
   ]
  },
  {
   "cell_type": "markdown",
   "metadata": {},
   "source": [
    "# KNN (n_neighbors = 1, weighted distance)"
   ]
  },
  {
   "cell_type": "code",
   "execution_count": 18,
   "metadata": {},
   "outputs": [
    {
     "name": "stdout",
     "output_type": "stream",
     "text": [
      "score mean: -1.54\n",
      "score std: 2.34\n"
     ]
    }
   ],
   "source": [
    "from sklearn.neighbors import KNeighborsRegressor\n",
    "from sklearn.model_selection import cross_val_score\n",
    "\n",
    "X = music[['duration', 'loudness']]\n",
    "\n",
    "Y = music['bpm']\n",
    "\n",
    "neighbors = KNeighborsRegressor(n_neighbors=1, weights='distance')\n",
    "\n",
    "neighbors.fit(X,Y)\n",
    "\n",
    "score = cross_val_score(neighbors, X, Y, cv=5, scoring='r2')\n",
    "\n",
    "print('score mean: {}'.format(round(score.mean(), 2)))\n",
    "print('score std: {}'.format(round(score.std(), 2)))"
   ]
  },
  {
   "cell_type": "markdown",
   "metadata": {},
   "source": [
    "# KNN (n_neighbors = 5, weighted distance)"
   ]
  },
  {
   "cell_type": "code",
   "execution_count": 19,
   "metadata": {},
   "outputs": [
    {
     "name": "stdout",
     "output_type": "stream",
     "text": [
      "score mean: -0.51\n",
      "score std: 0.62\n"
     ]
    }
   ],
   "source": [
    "neighbors = KNeighborsRegressor(n_neighbors=5, weights='distance')\n",
    "\n",
    "neighbors.fit(X,Y)\n",
    "\n",
    "score = cross_val_score(neighbors, X, Y, cv=5, scoring='r2')\n",
    "\n",
    "print('score mean: {}'.format(round(score.mean(), 2)))\n",
    "print('score std: {}'.format(round(score.std(), 2)))"
   ]
  },
  {
   "cell_type": "markdown",
   "metadata": {},
   "source": [
    "# KNN (n_neighbors = 10, weighted distance)"
   ]
  },
  {
   "cell_type": "code",
   "execution_count": 20,
   "metadata": {},
   "outputs": [
    {
     "name": "stdout",
     "output_type": "stream",
     "text": [
      "score mean: -0.26\n",
      "score std: 0.37\n"
     ]
    }
   ],
   "source": [
    "neighbors = KNeighborsRegressor(n_neighbors=10, weights='distance')\n",
    "\n",
    "neighbors.fit(X,Y)\n",
    "\n",
    "score = cross_val_score(neighbors, X, Y, cv=5, scoring='r2')\n",
    "\n",
    "print('score mean: {}'.format(round(score.mean(), 2)))\n",
    "print('score std: {}'.format(round(score.std(), 2)))"
   ]
  },
  {
   "cell_type": "markdown",
   "metadata": {},
   "source": [
    "# KNN (n_neighbors = 20, weighted distance)"
   ]
  },
  {
   "cell_type": "code",
   "execution_count": 21,
   "metadata": {},
   "outputs": [
    {
     "name": "stdout",
     "output_type": "stream",
     "text": [
      "score mean: -0.23\n",
      "score std: 0.3\n"
     ]
    }
   ],
   "source": [
    "neighbors = KNeighborsRegressor(n_neighbors=20, weights='distance')\n",
    "\n",
    "neighbors.fit(X,Y)\n",
    "\n",
    "score = cross_val_score(neighbors, X, Y, cv=5, scoring='r2')\n",
    "\n",
    "print('score mean: {}'.format(round(score.mean(), 2)))\n",
    "print('score std: {}'.format(round(score.std(), 2)))"
   ]
  },
  {
   "cell_type": "markdown",
   "metadata": {},
   "source": [
    "# KNN (n_neighbors = 1, unweighted distance)"
   ]
  },
  {
   "cell_type": "code",
   "execution_count": 22,
   "metadata": {},
   "outputs": [
    {
     "name": "stdout",
     "output_type": "stream",
     "text": [
      "score mean: -1.54\n",
      "score std: 2.34\n"
     ]
    }
   ],
   "source": [
    "neighbors = KNeighborsRegressor(n_neighbors=1)\n",
    "\n",
    "neighbors.fit(X,Y)\n",
    "\n",
    "score = cross_val_score(neighbors, X, Y, cv=5, scoring='r2')\n",
    "\n",
    "print('score mean: {}'.format(round(score.mean(), 2)))\n",
    "print('score std: {}'.format(round(score.std(), 2)))"
   ]
  },
  {
   "cell_type": "markdown",
   "metadata": {},
   "source": [
    "# KNN (n_neighbors = 5, unweighted distance)"
   ]
  },
  {
   "cell_type": "code",
   "execution_count": 23,
   "metadata": {},
   "outputs": [
    {
     "name": "stdout",
     "output_type": "stream",
     "text": [
      "score mean: -0.75\n",
      "score std: 0.58\n"
     ]
    }
   ],
   "source": [
    "neighbors = KNeighborsRegressor(n_neighbors=5)\n",
    "\n",
    "neighbors.fit(X,Y)\n",
    "\n",
    "score = cross_val_score(neighbors, X, Y, cv=5, scoring='r2')\n",
    "\n",
    "print('score mean: {}'.format(round(score.mean(), 2)))\n",
    "print('score std: {}'.format(round(score.std(), 2)))"
   ]
  },
  {
   "cell_type": "markdown",
   "metadata": {},
   "source": [
    "# KNN (n_neighbors = 10, unweighted distance)"
   ]
  },
  {
   "cell_type": "code",
   "execution_count": 24,
   "metadata": {},
   "outputs": [
    {
     "name": "stdout",
     "output_type": "stream",
     "text": [
      "score mean: -0.42\n",
      "score std: 0.39\n"
     ]
    }
   ],
   "source": [
    "neighbors = KNeighborsRegressor(n_neighbors=10)\n",
    "\n",
    "neighbors.fit(X,Y)\n",
    "\n",
    "score = cross_val_score(neighbors, X, Y, cv=5, scoring='r2')\n",
    "\n",
    "print('score mean: {}'.format(round(score.mean(), 2)))\n",
    "print('score std: {}'.format(round(score.std(), 2)))"
   ]
  },
  {
   "cell_type": "markdown",
   "metadata": {},
   "source": [
    "# KNN (n_neighbors = 20, unweighted distance)"
   ]
  },
  {
   "cell_type": "code",
   "execution_count": 25,
   "metadata": {},
   "outputs": [
    {
     "name": "stdout",
     "output_type": "stream",
     "text": [
      "score mean: -0.32\n",
      "score std: 0.3\n"
     ]
    }
   ],
   "source": [
    "neighbors = KNeighborsRegressor(n_neighbors=20)\n",
    "\n",
    "neighbors.fit(X,Y)\n",
    "\n",
    "score = cross_val_score(neighbors, X, Y, cv=5, scoring='r2')\n",
    "\n",
    "print('score mean: {}'.format(round(score.mean(), 2)))\n",
    "print('score std: {}'.format(round(score.std(), 2)))"
   ]
  },
  {
   "cell_type": "markdown",
   "metadata": {},
   "source": [
    "For this particular model, the average R-squared values stadard deviation seem to improve as k increases. Also the average R-squared score seems to improve if the distance is weighted."
   ]
  },
  {
   "cell_type": "code",
   "execution_count": null,
   "metadata": {},
   "outputs": [],
   "source": []
  }
 ],
 "metadata": {
  "kernelspec": {
   "display_name": "Python 3",
   "language": "python",
   "name": "python3"
  },
  "language_info": {
   "codemirror_mode": {
    "name": "ipython",
    "version": 3
   },
   "file_extension": ".py",
   "mimetype": "text/x-python",
   "name": "python",
   "nbconvert_exporter": "python",
   "pygments_lexer": "ipython3",
   "version": "3.7.3"
  }
 },
 "nbformat": 4,
 "nbformat_minor": 2
}
