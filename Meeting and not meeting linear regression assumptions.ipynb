{
 "cells": [
  {
   "cell_type": "code",
   "execution_count": 2,
   "metadata": {},
   "outputs": [],
   "source": [
    "import numpy as np\n",
    "import pandas as pd\n",
    "import matplotlib.pyplot as plt\n",
    "import seaborn as sns\n",
    "from sqlalchemy import create_engine\n",
    "import scipy.stats as stats\n",
    "%matplotlib inline"
   ]
  },
  {
   "cell_type": "code",
   "execution_count": 3,
   "metadata": {},
   "outputs": [],
   "source": [
    "postgres_user = 'dsbc_student'\n",
    "postgres_pw = '7*.8G9QH21'\n",
    "postgres_host = '142.93.121.174'\n",
    "postgres_port = '5432'\n",
    "postgres_db = 'weatherinszeged'\n",
    "\n",
    "engine = create_engine('postgresql://{}:{}@{}:{}/{}'.format(\n",
    "    postgres_user, postgres_pw, postgres_host, postgres_port, postgres_db))\n",
    "\n",
    "df = pd.read_sql_query('select * from weatherinszeged',con=engine)\n",
    "\n",
    "# no need for an open connection, \n",
    "# as we're only doing a single query\n",
    "engine.dispose()"
   ]
  },
  {
   "cell_type": "code",
   "execution_count": 4,
   "metadata": {},
   "outputs": [
    {
     "data": {
      "text/html": [
       "<div>\n",
       "<style scoped>\n",
       "    .dataframe tbody tr th:only-of-type {\n",
       "        vertical-align: middle;\n",
       "    }\n",
       "\n",
       "    .dataframe tbody tr th {\n",
       "        vertical-align: top;\n",
       "    }\n",
       "\n",
       "    .dataframe thead th {\n",
       "        text-align: right;\n",
       "    }\n",
       "</style>\n",
       "<table border=\"1\" class=\"dataframe\">\n",
       "  <thead>\n",
       "    <tr style=\"text-align: right;\">\n",
       "      <th></th>\n",
       "      <th>date</th>\n",
       "      <th>summary</th>\n",
       "      <th>preciptype</th>\n",
       "      <th>temperature</th>\n",
       "      <th>apparenttemperature</th>\n",
       "      <th>humidity</th>\n",
       "      <th>windspeed</th>\n",
       "      <th>windbearing</th>\n",
       "      <th>visibility</th>\n",
       "      <th>loudcover</th>\n",
       "      <th>pressure</th>\n",
       "      <th>dailysummary</th>\n",
       "    </tr>\n",
       "  </thead>\n",
       "  <tbody>\n",
       "    <tr>\n",
       "      <td>0</td>\n",
       "      <td>2006-03-31 22:00:00+00:00</td>\n",
       "      <td>Partly Cloudy</td>\n",
       "      <td>rain</td>\n",
       "      <td>9.472222</td>\n",
       "      <td>7.388889</td>\n",
       "      <td>0.89</td>\n",
       "      <td>14.1197</td>\n",
       "      <td>251.0</td>\n",
       "      <td>15.8263</td>\n",
       "      <td>0.0</td>\n",
       "      <td>1015.13</td>\n",
       "      <td>Partly cloudy throughout the day.</td>\n",
       "    </tr>\n",
       "    <tr>\n",
       "      <td>1</td>\n",
       "      <td>2006-03-31 23:00:00+00:00</td>\n",
       "      <td>Partly Cloudy</td>\n",
       "      <td>rain</td>\n",
       "      <td>9.355556</td>\n",
       "      <td>7.227778</td>\n",
       "      <td>0.86</td>\n",
       "      <td>14.2646</td>\n",
       "      <td>259.0</td>\n",
       "      <td>15.8263</td>\n",
       "      <td>0.0</td>\n",
       "      <td>1015.63</td>\n",
       "      <td>Partly cloudy throughout the day.</td>\n",
       "    </tr>\n",
       "    <tr>\n",
       "      <td>2</td>\n",
       "      <td>2006-04-01 00:00:00+00:00</td>\n",
       "      <td>Mostly Cloudy</td>\n",
       "      <td>rain</td>\n",
       "      <td>9.377778</td>\n",
       "      <td>9.377778</td>\n",
       "      <td>0.89</td>\n",
       "      <td>3.9284</td>\n",
       "      <td>204.0</td>\n",
       "      <td>14.9569</td>\n",
       "      <td>0.0</td>\n",
       "      <td>1015.94</td>\n",
       "      <td>Partly cloudy throughout the day.</td>\n",
       "    </tr>\n",
       "    <tr>\n",
       "      <td>3</td>\n",
       "      <td>2006-04-01 01:00:00+00:00</td>\n",
       "      <td>Partly Cloudy</td>\n",
       "      <td>rain</td>\n",
       "      <td>8.288889</td>\n",
       "      <td>5.944444</td>\n",
       "      <td>0.83</td>\n",
       "      <td>14.1036</td>\n",
       "      <td>269.0</td>\n",
       "      <td>15.8263</td>\n",
       "      <td>0.0</td>\n",
       "      <td>1016.41</td>\n",
       "      <td>Partly cloudy throughout the day.</td>\n",
       "    </tr>\n",
       "    <tr>\n",
       "      <td>4</td>\n",
       "      <td>2006-04-01 02:00:00+00:00</td>\n",
       "      <td>Mostly Cloudy</td>\n",
       "      <td>rain</td>\n",
       "      <td>8.755556</td>\n",
       "      <td>6.977778</td>\n",
       "      <td>0.83</td>\n",
       "      <td>11.0446</td>\n",
       "      <td>259.0</td>\n",
       "      <td>15.8263</td>\n",
       "      <td>0.0</td>\n",
       "      <td>1016.51</td>\n",
       "      <td>Partly cloudy throughout the day.</td>\n",
       "    </tr>\n",
       "  </tbody>\n",
       "</table>\n",
       "</div>"
      ],
      "text/plain": [
       "                       date        summary preciptype  temperature  \\\n",
       "0 2006-03-31 22:00:00+00:00  Partly Cloudy       rain     9.472222   \n",
       "1 2006-03-31 23:00:00+00:00  Partly Cloudy       rain     9.355556   \n",
       "2 2006-04-01 00:00:00+00:00  Mostly Cloudy       rain     9.377778   \n",
       "3 2006-04-01 01:00:00+00:00  Partly Cloudy       rain     8.288889   \n",
       "4 2006-04-01 02:00:00+00:00  Mostly Cloudy       rain     8.755556   \n",
       "\n",
       "   apparenttemperature  humidity  windspeed  windbearing  visibility  \\\n",
       "0             7.388889      0.89    14.1197        251.0     15.8263   \n",
       "1             7.227778      0.86    14.2646        259.0     15.8263   \n",
       "2             9.377778      0.89     3.9284        204.0     14.9569   \n",
       "3             5.944444      0.83    14.1036        269.0     15.8263   \n",
       "4             6.977778      0.83    11.0446        259.0     15.8263   \n",
       "\n",
       "   loudcover  pressure                       dailysummary  \n",
       "0        0.0   1015.13  Partly cloudy throughout the day.  \n",
       "1        0.0   1015.63  Partly cloudy throughout the day.  \n",
       "2        0.0   1015.94  Partly cloudy throughout the day.  \n",
       "3        0.0   1016.41  Partly cloudy throughout the day.  \n",
       "4        0.0   1016.51  Partly cloudy throughout the day.  "
      ]
     },
     "execution_count": 4,
     "metadata": {},
     "output_type": "execute_result"
    }
   ],
   "source": [
    "df.head()"
   ]
  },
  {
   "cell_type": "code",
   "execution_count": 5,
   "metadata": {},
   "outputs": [
    {
     "name": "stdout",
     "output_type": "stream",
     "text": [
      "<class 'pandas.core.frame.DataFrame'>\n",
      "RangeIndex: 96453 entries, 0 to 96452\n",
      "Data columns (total 12 columns):\n",
      "date                   96453 non-null datetime64[ns, UTC]\n",
      "summary                96453 non-null object\n",
      "preciptype             96453 non-null object\n",
      "temperature            96453 non-null float64\n",
      "apparenttemperature    96453 non-null float64\n",
      "humidity               96453 non-null float64\n",
      "windspeed              96453 non-null float64\n",
      "windbearing            96453 non-null float64\n",
      "visibility             96453 non-null float64\n",
      "loudcover              96453 non-null float64\n",
      "pressure               96453 non-null float64\n",
      "dailysummary           96453 non-null object\n",
      "dtypes: datetime64[ns, UTC](1), float64(8), object(3)\n",
      "memory usage: 8.8+ MB\n"
     ]
    }
   ],
   "source": [
    "df.info()"
   ]
  },
  {
   "cell_type": "code",
   "execution_count": 6,
   "metadata": {},
   "outputs": [
    {
     "data": {
      "text/html": [
       "<div>\n",
       "<style scoped>\n",
       "    .dataframe tbody tr th:only-of-type {\n",
       "        vertical-align: middle;\n",
       "    }\n",
       "\n",
       "    .dataframe tbody tr th {\n",
       "        vertical-align: top;\n",
       "    }\n",
       "\n",
       "    .dataframe thead th {\n",
       "        text-align: right;\n",
       "    }\n",
       "</style>\n",
       "<table border=\"1\" class=\"dataframe\">\n",
       "  <thead>\n",
       "    <tr style=\"text-align: right;\">\n",
       "      <th></th>\n",
       "      <th>temperature</th>\n",
       "      <th>apparenttemperature</th>\n",
       "      <th>humidity</th>\n",
       "      <th>windspeed</th>\n",
       "      <th>windbearing</th>\n",
       "      <th>visibility</th>\n",
       "      <th>loudcover</th>\n",
       "      <th>pressure</th>\n",
       "    </tr>\n",
       "  </thead>\n",
       "  <tbody>\n",
       "    <tr>\n",
       "      <td>count</td>\n",
       "      <td>96453.000000</td>\n",
       "      <td>96453.000000</td>\n",
       "      <td>96453.000000</td>\n",
       "      <td>96453.000000</td>\n",
       "      <td>96453.000000</td>\n",
       "      <td>96453.000000</td>\n",
       "      <td>96453.0</td>\n",
       "      <td>96453.000000</td>\n",
       "    </tr>\n",
       "    <tr>\n",
       "      <td>mean</td>\n",
       "      <td>11.932678</td>\n",
       "      <td>10.855029</td>\n",
       "      <td>0.734899</td>\n",
       "      <td>10.810640</td>\n",
       "      <td>187.509232</td>\n",
       "      <td>10.347325</td>\n",
       "      <td>0.0</td>\n",
       "      <td>1003.235956</td>\n",
       "    </tr>\n",
       "    <tr>\n",
       "      <td>std</td>\n",
       "      <td>9.551546</td>\n",
       "      <td>10.696847</td>\n",
       "      <td>0.195473</td>\n",
       "      <td>6.913571</td>\n",
       "      <td>107.383428</td>\n",
       "      <td>4.192123</td>\n",
       "      <td>0.0</td>\n",
       "      <td>116.969906</td>\n",
       "    </tr>\n",
       "    <tr>\n",
       "      <td>min</td>\n",
       "      <td>-21.822222</td>\n",
       "      <td>-27.716667</td>\n",
       "      <td>0.000000</td>\n",
       "      <td>0.000000</td>\n",
       "      <td>0.000000</td>\n",
       "      <td>0.000000</td>\n",
       "      <td>0.0</td>\n",
       "      <td>0.000000</td>\n",
       "    </tr>\n",
       "    <tr>\n",
       "      <td>25%</td>\n",
       "      <td>4.688889</td>\n",
       "      <td>2.311111</td>\n",
       "      <td>0.600000</td>\n",
       "      <td>5.828200</td>\n",
       "      <td>116.000000</td>\n",
       "      <td>8.339800</td>\n",
       "      <td>0.0</td>\n",
       "      <td>1011.900000</td>\n",
       "    </tr>\n",
       "    <tr>\n",
       "      <td>50%</td>\n",
       "      <td>12.000000</td>\n",
       "      <td>12.000000</td>\n",
       "      <td>0.780000</td>\n",
       "      <td>9.965900</td>\n",
       "      <td>180.000000</td>\n",
       "      <td>10.046400</td>\n",
       "      <td>0.0</td>\n",
       "      <td>1016.450000</td>\n",
       "    </tr>\n",
       "    <tr>\n",
       "      <td>75%</td>\n",
       "      <td>18.838889</td>\n",
       "      <td>18.838889</td>\n",
       "      <td>0.890000</td>\n",
       "      <td>14.135800</td>\n",
       "      <td>290.000000</td>\n",
       "      <td>14.812000</td>\n",
       "      <td>0.0</td>\n",
       "      <td>1021.090000</td>\n",
       "    </tr>\n",
       "    <tr>\n",
       "      <td>max</td>\n",
       "      <td>39.905556</td>\n",
       "      <td>39.344444</td>\n",
       "      <td>1.000000</td>\n",
       "      <td>63.852600</td>\n",
       "      <td>359.000000</td>\n",
       "      <td>16.100000</td>\n",
       "      <td>0.0</td>\n",
       "      <td>1046.380000</td>\n",
       "    </tr>\n",
       "  </tbody>\n",
       "</table>\n",
       "</div>"
      ],
      "text/plain": [
       "        temperature  apparenttemperature      humidity     windspeed  \\\n",
       "count  96453.000000         96453.000000  96453.000000  96453.000000   \n",
       "mean      11.932678            10.855029      0.734899     10.810640   \n",
       "std        9.551546            10.696847      0.195473      6.913571   \n",
       "min      -21.822222           -27.716667      0.000000      0.000000   \n",
       "25%        4.688889             2.311111      0.600000      5.828200   \n",
       "50%       12.000000            12.000000      0.780000      9.965900   \n",
       "75%       18.838889            18.838889      0.890000     14.135800   \n",
       "max       39.905556            39.344444      1.000000     63.852600   \n",
       "\n",
       "        windbearing    visibility  loudcover      pressure  \n",
       "count  96453.000000  96453.000000    96453.0  96453.000000  \n",
       "mean     187.509232     10.347325        0.0   1003.235956  \n",
       "std      107.383428      4.192123        0.0    116.969906  \n",
       "min        0.000000      0.000000        0.0      0.000000  \n",
       "25%      116.000000      8.339800        0.0   1011.900000  \n",
       "50%      180.000000     10.046400        0.0   1016.450000  \n",
       "75%      290.000000     14.812000        0.0   1021.090000  \n",
       "max      359.000000     16.100000        0.0   1046.380000  "
      ]
     },
     "execution_count": 6,
     "metadata": {},
     "output_type": "execute_result"
    }
   ],
   "source": [
    "df.describe()"
   ]
  },
  {
   "cell_type": "markdown",
   "metadata": {},
   "source": [
    "# Missing values"
   ]
  },
  {
   "cell_type": "code",
   "execution_count": 7,
   "metadata": {},
   "outputs": [
    {
     "data": {
      "text/plain": [
       "date                   0.0\n",
       "summary                0.0\n",
       "preciptype             0.0\n",
       "temperature            0.0\n",
       "apparenttemperature    0.0\n",
       "humidity               0.0\n",
       "windspeed              0.0\n",
       "windbearing            0.0\n",
       "visibility             0.0\n",
       "loudcover              0.0\n",
       "pressure               0.0\n",
       "dailysummary           0.0\n",
       "dtype: float64"
      ]
     },
     "execution_count": 7,
     "metadata": {},
     "output_type": "execute_result"
    }
   ],
   "source": [
    "# percentage of missing values in every column\n",
    "df.isnull().sum()/df.isnull().count()"
   ]
  },
  {
   "cell_type": "markdown",
   "metadata": {},
   "source": [
    "There are no missing values"
   ]
  },
  {
   "cell_type": "code",
   "execution_count": 8,
   "metadata": {},
   "outputs": [],
   "source": [
    "nonsense = df[df['pressure'] < 200].index\n",
    "df.drop(index=nonsense, inplace=True)"
   ]
  },
  {
   "cell_type": "markdown",
   "metadata": {},
   "source": [
    "# Distribution of explanatory and target variables"
   ]
  },
  {
   "cell_type": "code",
   "execution_count": 9,
   "metadata": {},
   "outputs": [
    {
     "data": {
      "image/png": "[encoded data removed]",
      "text/plain": [
       "<Figure size 1080x864 with 5 Axes>"
      ]
     },
     "metadata": {
      "needs_background": "light"
     },
     "output_type": "display_data"
    }
   ],
   "source": [
    "target = df['temperature']\n",
    "explanatory_var = ['humidity', 'windspeed', 'windbearing', 'pressure']\n",
    "\n",
    "plt.figure(figsize=(15,12))\n",
    "plt.subplots_adjust(hspace=.5)\n",
    "\n",
    "i = 1\n",
    "for col in explanatory_var:\n",
    "    plt.subplot(3, 2, i)\n",
    "    plt.hist(df[col])\n",
    "    plt.title(col, fontsize=16)\n",
    "    i += 1\n",
    "\n",
    "plt.subplot(3, 2, 5)\n",
    "plt.hist(df['temperature'])\n",
    "plt.title('temperature (target variable)', fontsize=16)\n",
    "plt.show()"
   ]
  },
  {
   "cell_type": "markdown",
   "metadata": {},
   "source": [
    "Our target variable 'temperature' may be normally distrubuted, but all of the other explanatory variables show non-normal distribution."
   ]
  },
  {
   "cell_type": "markdown",
   "metadata": {},
   "source": [
    "# Linear regression model (OLS)"
   ]
  },
  {
   "cell_type": "code",
   "execution_count": 10,
   "metadata": {},
   "outputs": [
    {
     "name": "stdout",
     "output_type": "stream",
     "text": [
      "\n",
      "Coefficients: \n",
      " [-3.27467869e+01 -3.17826353e-01  2.52552064e-03 -4.17393403e-01]\n",
      "\n",
      "Y intercept: \n",
      " 463.38270827696647\n"
     ]
    }
   ],
   "source": [
    "X = df[explanatory_var]\n",
    "Y = target\n",
    "\n",
    "from sklearn import linear_model\n",
    "\n",
    "lrm = linear_model.LinearRegression()\n",
    "\n",
    "lrm.fit(X, Y)\n",
    "\n",
    "print('\\nCoefficients: \\n', lrm.coef_)\n",
    "print('\\nY intercept: \\n', lrm.intercept_)"
   ]
  },
  {
   "cell_type": "markdown",
   "metadata": {},
   "source": [
    "Temperature = 37.93 - 32.50 (humidity) - 0.201 (windspeed) + 0.004 (windbearing) - .0007 (pressure)"
   ]
  },
  {
   "cell_type": "markdown",
   "metadata": {},
   "source": [
    "# Now, let's check if our model meets the Gauss-Markov Conditions."
   ]
  },
  {
   "cell_type": "markdown",
   "metadata": {},
   "source": [
    "### Assumption one: linearity of the model in its coefficients\n",
    "\n",
    "I took into account this assumption when designing my model, and this condition is met."
   ]
  },
  {
   "cell_type": "markdown",
   "metadata": {},
   "source": [
    "### Assumption two: the error term should be zero on average"
   ]
  },
  {
   "cell_type": "code",
   "execution_count": 11,
   "metadata": {
    "scrolled": true
   },
   "outputs": [
    {
     "name": "stdout",
     "output_type": "stream",
     "text": [
      "The average error for this temperature mode is: 1.1226101106754754e-13\n"
     ]
    }
   ],
   "source": [
    "predictions = lrm.predict(X)\n",
    "errors = Y - predictions\n",
    "\n",
    "print(\"The average error for this temperature mode is: {}\".format(np.mean(errors)))"
   ]
  },
  {
   "cell_type": "markdown",
   "metadata": {},
   "source": [
    "The average error is effectively zero, so this condition has been met."
   ]
  },
  {
   "cell_type": "markdown",
   "metadata": {},
   "source": [
    "### Assumption three: homoscedasticity"
   ]
  },
  {
   "cell_type": "code",
   "execution_count": 12,
   "metadata": {},
   "outputs": [
    {
     "name": "stdout",
     "output_type": "stream",
     "text": [
      "Bartlett test statistic value is 313.458 and p value is 3.85e-70\n",
      "Levene test statistic value is 235.663 and p value is 3.74e-53\n"
     ]
    }
   ],
   "source": [
    "from scipy.stats import bartlett\n",
    "from scipy.stats import levene\n",
    "\n",
    "bart_stats = bartlett(predictions, errors)\n",
    "lev_stats = levene(predictions, errors)\n",
    "\n",
    "print(\"Bartlett test statistic value is {0:3g} and p value is {1:.3g}\".format(bart_stats[0], bart_stats[1]))\n",
    "print(\"Levene test statistic value is {0:3g} and p value is {1:.3g}\".format(lev_stats[0], lev_stats[1]))"
   ]
  },
  {
   "cell_type": "code",
   "execution_count": 13,
   "metadata": {
    "scrolled": false
   },
   "outputs": [
    {
     "data": {
      "image/png": "[encoded data removed]",
      "text/plain": [
       "<Figure size 432x288 with 1 Axes>"
      ]
     },
     "metadata": {
      "needs_background": "light"
     },
     "output_type": "display_data"
    }
   ],
   "source": [
    "plt.scatter(predictions, errors)\n",
    "plt.xlabel('Predicted')\n",
    "plt.ylabel('Residual')\n",
    "plt.axhline(y=0)\n",
    "plt.title('Residual vs. Predicted')\n",
    "plt.show()"
   ]
  },
  {
   "cell_type": "markdown",
   "metadata": {},
   "source": [
    "Based on the Bartlett and Levene test. The errors in our model are not homscedastic. This is most likely due to the outliers in our pressure variable or prossibly not including a relevant variable in our model."
   ]
  },
  {
   "cell_type": "markdown",
   "metadata": {},
   "source": [
    "### Assumption four: low multicollinearity"
   ]
  },
  {
   "cell_type": "code",
   "execution_count": 14,
   "metadata": {},
   "outputs": [
    {
     "data": {
      "text/html": [
       "<div>\n",
       "<style scoped>\n",
       "    .dataframe tbody tr th:only-of-type {\n",
       "        vertical-align: middle;\n",
       "    }\n",
       "\n",
       "    .dataframe tbody tr th {\n",
       "        vertical-align: top;\n",
       "    }\n",
       "\n",
       "    .dataframe thead th {\n",
       "        text-align: right;\n",
       "    }\n",
       "</style>\n",
       "<table border=\"1\" class=\"dataframe\">\n",
       "  <thead>\n",
       "    <tr style=\"text-align: right;\">\n",
       "      <th></th>\n",
       "      <th>humidity</th>\n",
       "      <th>windspeed</th>\n",
       "      <th>windbearing</th>\n",
       "      <th>pressure</th>\n",
       "    </tr>\n",
       "  </thead>\n",
       "  <tbody>\n",
       "    <tr>\n",
       "      <td>humidity</td>\n",
       "      <td>1.000000</td>\n",
       "      <td>-0.224282</td>\n",
       "      <td>0.001598</td>\n",
       "      <td>0.039257</td>\n",
       "    </tr>\n",
       "    <tr>\n",
       "      <td>windspeed</td>\n",
       "      <td>-0.224282</td>\n",
       "      <td>1.000000</td>\n",
       "      <td>0.101633</td>\n",
       "      <td>-0.253700</td>\n",
       "    </tr>\n",
       "    <tr>\n",
       "      <td>windbearing</td>\n",
       "      <td>0.001598</td>\n",
       "      <td>0.101633</td>\n",
       "      <td>1.000000</td>\n",
       "      <td>-0.078687</td>\n",
       "    </tr>\n",
       "    <tr>\n",
       "      <td>pressure</td>\n",
       "      <td>0.039257</td>\n",
       "      <td>-0.253700</td>\n",
       "      <td>-0.078687</td>\n",
       "      <td>1.000000</td>\n",
       "    </tr>\n",
       "  </tbody>\n",
       "</table>\n",
       "</div>"
      ],
      "text/plain": [
       "             humidity  windspeed  windbearing  pressure\n",
       "humidity     1.000000  -0.224282     0.001598  0.039257\n",
       "windspeed   -0.224282   1.000000     0.101633 -0.253700\n",
       "windbearing  0.001598   0.101633     1.000000 -0.078687\n",
       "pressure     0.039257  -0.253700    -0.078687  1.000000"
      ]
     },
     "execution_count": 14,
     "metadata": {},
     "output_type": "execute_result"
    }
   ],
   "source": [
    "df[explanatory_var].corr()"
   ]
  },
  {
   "cell_type": "markdown",
   "metadata": {},
   "source": [
    "All of the explanatory variable show slight to no correlation with each other. This condition has been met."
   ]
  },
  {
   "cell_type": "markdown",
   "metadata": {},
   "source": [
    "### Assumption five: error terms should be uncorrelated with one another"
   ]
  },
  {
   "cell_type": "code",
   "execution_count": 15,
   "metadata": {},
   "outputs": [
    {
     "name": "stderr",
     "output_type": "stream",
     "text": [
      "//anaconda3/lib/python3.7/site-packages/statsmodels/tsa/stattools.py:541: FutureWarning: fft=True will become the default in a future version of statsmodels. To suppress this warning, explicitly set fft=False.\n",
      "  warnings.warn(msg, FutureWarning)\n"
     ]
    },
    {
     "data": {
      "image/png": "[encoded data removed]",
      "text/plain": [
       "<Figure size 432x288 with 1 Axes>"
      ]
     },
     "metadata": {
      "needs_background": "light"
     },
     "output_type": "display_data"
    }
   ],
   "source": [
    "from statsmodels.tsa.stattools import acf\n",
    "\n",
    "acf_data = acf(errors)\n",
    "\n",
    "plt.plot(acf_data[1:])\n",
    "plt.show()"
   ]
  },
  {
   "cell_type": "markdown",
   "metadata": {},
   "source": [
    "This condition has not been met. The errors have a correlation between .70 and .95."
   ]
  },
  {
   "cell_type": "markdown",
   "metadata": {},
   "source": [
    "### Assumption six: features shouldn't be correlated with the errors"
   ]
  },
  {
   "cell_type": "code",
   "execution_count": 16,
   "metadata": {
    "scrolled": false
   },
   "outputs": [
    {
     "data": {
      "text/html": [
       "<div>\n",
       "<style scoped>\n",
       "    .dataframe tbody tr th:only-of-type {\n",
       "        vertical-align: middle;\n",
       "    }\n",
       "\n",
       "    .dataframe tbody tr th {\n",
       "        vertical-align: top;\n",
       "    }\n",
       "\n",
       "    .dataframe thead th {\n",
       "        text-align: right;\n",
       "    }\n",
       "</style>\n",
       "<table border=\"1\" class=\"dataframe\">\n",
       "  <thead>\n",
       "    <tr style=\"text-align: right;\">\n",
       "      <th></th>\n",
       "      <th>humidity</th>\n",
       "      <th>windspeed</th>\n",
       "      <th>windbearing</th>\n",
       "      <th>pressure</th>\n",
       "      <th>errors</th>\n",
       "    </tr>\n",
       "  </thead>\n",
       "  <tbody>\n",
       "    <tr>\n",
       "      <td>humidity</td>\n",
       "      <td>1.000000e+00</td>\n",
       "      <td>-2.242816e-01</td>\n",
       "      <td>1.597885e-03</td>\n",
       "      <td>3.925713e-02</td>\n",
       "      <td>3.241394e-15</td>\n",
       "    </tr>\n",
       "    <tr>\n",
       "      <td>windspeed</td>\n",
       "      <td>-2.242816e-01</td>\n",
       "      <td>1.000000e+00</td>\n",
       "      <td>1.016334e-01</td>\n",
       "      <td>-2.536997e-01</td>\n",
       "      <td>1.408100e-17</td>\n",
       "    </tr>\n",
       "    <tr>\n",
       "      <td>windbearing</td>\n",
       "      <td>1.597885e-03</td>\n",
       "      <td>1.016334e-01</td>\n",
       "      <td>1.000000e+00</td>\n",
       "      <td>-7.868736e-02</td>\n",
       "      <td>1.281908e-16</td>\n",
       "    </tr>\n",
       "    <tr>\n",
       "      <td>pressure</td>\n",
       "      <td>3.925713e-02</td>\n",
       "      <td>-2.536997e-01</td>\n",
       "      <td>-7.868736e-02</td>\n",
       "      <td>1.000000e+00</td>\n",
       "      <td>1.237161e-16</td>\n",
       "    </tr>\n",
       "    <tr>\n",
       "      <td>errors</td>\n",
       "      <td>3.241394e-15</td>\n",
       "      <td>1.408100e-17</td>\n",
       "      <td>1.281908e-16</td>\n",
       "      <td>1.237161e-16</td>\n",
       "      <td>1.000000e+00</td>\n",
       "    </tr>\n",
       "  </tbody>\n",
       "</table>\n",
       "</div>"
      ],
      "text/plain": [
       "                 humidity     windspeed   windbearing      pressure  \\\n",
       "humidity     1.000000e+00 -2.242816e-01  1.597885e-03  3.925713e-02   \n",
       "windspeed   -2.242816e-01  1.000000e+00  1.016334e-01 -2.536997e-01   \n",
       "windbearing  1.597885e-03  1.016334e-01  1.000000e+00 -7.868736e-02   \n",
       "pressure     3.925713e-02 -2.536997e-01 -7.868736e-02  1.000000e+00   \n",
       "errors       3.241394e-15  1.408100e-17  1.281908e-16  1.237161e-16   \n",
       "\n",
       "                   errors  \n",
       "humidity     3.241394e-15  \n",
       "windspeed    1.408100e-17  \n",
       "windbearing  1.281908e-16  \n",
       "pressure     1.237161e-16  \n",
       "errors       1.000000e+00  "
      ]
     },
     "execution_count": 16,
     "metadata": {},
     "output_type": "execute_result"
    }
   ],
   "source": [
    "df['errors'] = errors\n",
    "df[explanatory_var + ['errors']].corr()"
   ]
  },
  {
   "cell_type": "markdown",
   "metadata": {},
   "source": [
    "# House price model"
   ]
  },
  {
   "cell_type": "code",
   "execution_count": 17,
   "metadata": {},
   "outputs": [],
   "source": [
    "postgres_user = 'dsbc_student'\n",
    "postgres_pw = '7*.8G9QH21'\n",
    "postgres_host = '142.93.121.174'\n",
    "postgres_port = '5432'\n",
    "postgres_db = 'houseprices'\n",
    "\n",
    "engine = create_engine('postgresql://{}:{}@{}:{}/{}'.format(\n",
    "    postgres_user, postgres_pw, postgres_host, postgres_port, postgres_db))\n",
    "\n",
    "df = pd.read_sql_query('select * from houseprices',con=engine)\n",
    "\n",
    "# no need for an open connection, \n",
    "# as we're only doing a single query\n",
    "engine.dispose()"
   ]
  },
  {
   "cell_type": "code",
   "execution_count": 18,
   "metadata": {},
   "outputs": [
    {
     "data": {
      "text/html": [
       "<div>\n",
       "<style scoped>\n",
       "    .dataframe tbody tr th:only-of-type {\n",
       "        vertical-align: middle;\n",
       "    }\n",
       "\n",
       "    .dataframe tbody tr th {\n",
       "        vertical-align: top;\n",
       "    }\n",
       "\n",
       "    .dataframe thead th {\n",
       "        text-align: right;\n",
       "    }\n",
       "</style>\n",
       "<table border=\"1\" class=\"dataframe\">\n",
       "  <thead>\n",
       "    <tr style=\"text-align: right;\">\n",
       "      <th></th>\n",
       "      <th>id</th>\n",
       "      <th>mssubclass</th>\n",
       "      <th>mszoning</th>\n",
       "      <th>lotfrontage</th>\n",
       "      <th>lotarea</th>\n",
       "      <th>street</th>\n",
       "      <th>alley</th>\n",
       "      <th>lotshape</th>\n",
       "      <th>landcontour</th>\n",
       "      <th>utilities</th>\n",
       "      <th>...</th>\n",
       "      <th>poolarea</th>\n",
       "      <th>poolqc</th>\n",
       "      <th>fence</th>\n",
       "      <th>miscfeature</th>\n",
       "      <th>miscval</th>\n",
       "      <th>mosold</th>\n",
       "      <th>yrsold</th>\n",
       "      <th>saletype</th>\n",
       "      <th>salecondition</th>\n",
       "      <th>saleprice</th>\n",
       "    </tr>\n",
       "  </thead>\n",
       "  <tbody>\n",
       "    <tr>\n",
       "      <td>0</td>\n",
       "      <td>1</td>\n",
       "      <td>60</td>\n",
       "      <td>RL</td>\n",
       "      <td>65.0</td>\n",
       "      <td>8450</td>\n",
       "      <td>Pave</td>\n",
       "      <td>None</td>\n",
       "      <td>Reg</td>\n",
       "      <td>Lvl</td>\n",
       "      <td>AllPub</td>\n",
       "      <td>...</td>\n",
       "      <td>0</td>\n",
       "      <td>None</td>\n",
       "      <td>None</td>\n",
       "      <td>None</td>\n",
       "      <td>0</td>\n",
       "      <td>2</td>\n",
       "      <td>2008</td>\n",
       "      <td>WD</td>\n",
       "      <td>Normal</td>\n",
       "      <td>208500</td>\n",
       "    </tr>\n",
       "    <tr>\n",
       "      <td>1</td>\n",
       "      <td>2</td>\n",
       "      <td>20</td>\n",
       "      <td>RL</td>\n",
       "      <td>80.0</td>\n",
       "      <td>9600</td>\n",
       "      <td>Pave</td>\n",
       "      <td>None</td>\n",
       "      <td>Reg</td>\n",
       "      <td>Lvl</td>\n",
       "      <td>AllPub</td>\n",
       "      <td>...</td>\n",
       "      <td>0</td>\n",
       "      <td>None</td>\n",
       "      <td>None</td>\n",
       "      <td>None</td>\n",
       "      <td>0</td>\n",
       "      <td>5</td>\n",
       "      <td>2007</td>\n",
       "      <td>WD</td>\n",
       "      <td>Normal</td>\n",
       "      <td>181500</td>\n",
       "    </tr>\n",
       "    <tr>\n",
       "      <td>2</td>\n",
       "      <td>3</td>\n",
       "      <td>60</td>\n",
       "      <td>RL</td>\n",
       "      <td>68.0</td>\n",
       "      <td>11250</td>\n",
       "      <td>Pave</td>\n",
       "      <td>None</td>\n",
       "      <td>IR1</td>\n",
       "      <td>Lvl</td>\n",
       "      <td>AllPub</td>\n",
       "      <td>...</td>\n",
       "      <td>0</td>\n",
       "      <td>None</td>\n",
       "      <td>None</td>\n",
       "      <td>None</td>\n",
       "      <td>0</td>\n",
       "      <td>9</td>\n",
       "      <td>2008</td>\n",
       "      <td>WD</td>\n",
       "      <td>Normal</td>\n",
       "      <td>223500</td>\n",
       "    </tr>\n",
       "    <tr>\n",
       "      <td>3</td>\n",
       "      <td>4</td>\n",
       "      <td>70</td>\n",
       "      <td>RL</td>\n",
       "      <td>60.0</td>\n",
       "      <td>9550</td>\n",
       "      <td>Pave</td>\n",
       "      <td>None</td>\n",
       "      <td>IR1</td>\n",
       "      <td>Lvl</td>\n",
       "      <td>AllPub</td>\n",
       "      <td>...</td>\n",
       "      <td>0</td>\n",
       "      <td>None</td>\n",
       "      <td>None</td>\n",
       "      <td>None</td>\n",
       "      <td>0</td>\n",
       "      <td>2</td>\n",
       "      <td>2006</td>\n",
       "      <td>WD</td>\n",
       "      <td>Abnorml</td>\n",
       "      <td>140000</td>\n",
       "    </tr>\n",
       "    <tr>\n",
       "      <td>4</td>\n",
       "      <td>5</td>\n",
       "      <td>60</td>\n",
       "      <td>RL</td>\n",
       "      <td>84.0</td>\n",
       "      <td>14260</td>\n",
       "      <td>Pave</td>\n",
       "      <td>None</td>\n",
       "      <td>IR1</td>\n",
       "      <td>Lvl</td>\n",
       "      <td>AllPub</td>\n",
       "      <td>...</td>\n",
       "      <td>0</td>\n",
       "      <td>None</td>\n",
       "      <td>None</td>\n",
       "      <td>None</td>\n",
       "      <td>0</td>\n",
       "      <td>12</td>\n",
       "      <td>2008</td>\n",
       "      <td>WD</td>\n",
       "      <td>Normal</td>\n",
       "      <td>250000</td>\n",
       "    </tr>\n",
       "  </tbody>\n",
       "</table>\n",
       "<p>5 rows × 81 columns</p>\n",
       "</div>"
      ],
      "text/plain": [
       "   id  mssubclass mszoning  lotfrontage  lotarea street alley lotshape  \\\n",
       "0   1          60       RL         65.0     8450   Pave  None      Reg   \n",
       "1   2          20       RL         80.0     9600   Pave  None      Reg   \n",
       "2   3          60       RL         68.0    11250   Pave  None      IR1   \n",
       "3   4          70       RL         60.0     9550   Pave  None      IR1   \n",
       "4   5          60       RL         84.0    14260   Pave  None      IR1   \n",
       "\n",
       "  landcontour utilities  ... poolarea poolqc fence miscfeature miscval mosold  \\\n",
       "0         Lvl    AllPub  ...        0   None  None        None       0      2   \n",
       "1         Lvl    AllPub  ...        0   None  None        None       0      5   \n",
       "2         Lvl    AllPub  ...        0   None  None        None       0      9   \n",
       "3         Lvl    AllPub  ...        0   None  None        None       0      2   \n",
       "4         Lvl    AllPub  ...        0   None  None        None       0     12   \n",
       "\n",
       "  yrsold  saletype  salecondition  saleprice  \n",
       "0   2008        WD         Normal     208500  \n",
       "1   2007        WD         Normal     181500  \n",
       "2   2008        WD         Normal     223500  \n",
       "3   2006        WD        Abnorml     140000  \n",
       "4   2008        WD         Normal     250000  \n",
       "\n",
       "[5 rows x 81 columns]"
      ]
     },
     "execution_count": 18,
     "metadata": {},
     "output_type": "execute_result"
    }
   ],
   "source": [
    "df.head()"
   ]
  },
  {
   "cell_type": "markdown",
   "metadata": {},
   "source": [
    "# Feature selection\n",
    "All of the model features were chosen in a previous exercise"
   ]
  },
  {
   "cell_type": "code",
   "execution_count": 19,
   "metadata": {},
   "outputs": [],
   "source": [
    "# List of continuous variables for our model\n",
    "continuous_features = ['overallqual', 'grlivarea', 'garagecars', 'firstflrsf', 'fullbath', 'yearbuilt', 'yearremodadd']\n",
    "\n",
    "# New Data frame with only features for our model\n",
    "model_df = pd.DataFrame()\n",
    "for col in continuous_features:\n",
    "    model_df[col] = df[col]\n",
    "\n",
    "# List of categorical features\n",
    "categorical_features = ['neighborhood', 'exterqual', 'kitchenqual', 'garagefinish', 'bsmtqual']\n",
    "\n",
    "# Adding the categorical features and target variable to our model DataFrame\n",
    "model_df = pd.concat([model_df, pd.get_dummies(df[['neighborhood', 'exterqual', 'kitchenqual', 'garagefinish', 'bsmtqual']], drop_first=True), df['saleprice']], axis=1)"
   ]
  },
  {
   "cell_type": "code",
   "execution_count": 26,
   "metadata": {},
   "outputs": [
    {
     "name": "stdout",
     "output_type": "stream",
     "text": [
      "Coefficients:\n",
      "[ 1.26976574e+04  4.23947370e+01  1.30268189e+04  1.80815725e+01\n",
      " -2.24287966e+03  1.64077174e+02  2.04164153e+02 -5.78332645e+03\n",
      " -7.75974313e+03  1.72270873e+04  4.32754898e+04  2.61592073e+04\n",
      "  4.49631076e+04  2.01568356e+03  1.69301557e+04  4.09504040e+03\n",
      "  3.15591801e+03  1.19207039e+04  1.41136882e+04  9.02761178e+03\n",
      "  1.56073899e+04  8.40408473e+04  5.18966048e+04  1.48282578e+02\n",
      "  6.78145445e+03  1.49035334e+04  2.00668322e+04  2.89263132e+04\n",
      "  6.85757778e+04  3.42012428e+04  5.61824728e+04 -3.29535866e+04\n",
      " -2.88967776e+04 -2.75724539e+04 -3.71831055e+04 -2.91795555e+04\n",
      " -3.50542084e+04 -6.52183179e+03 -1.02625825e+04 -1.13019166e+04\n",
      " -1.57101036e+04 -8.55664602e+03]\n",
      "\n",
      "Y intercept: -676952.7531609697\n"
     ]
    }
   ],
   "source": [
    "X = model_df[['overallqual', 'grlivarea', 'garagecars', 'firstflrsf', 'fullbath',\n",
    "              'yearbuilt', 'yearremodadd', 'neighborhood_Blueste', 'neighborhood_BrDale', 'neighborhood_BrkSide',\n",
    "              'neighborhood_ClearCr', 'neighborhood_CollgCr', 'neighborhood_Crawfor', 'neighborhood_Edwards',\n",
    "              'neighborhood_Gilbert', 'neighborhood_IDOTRR', 'neighborhood_MeadowV', 'neighborhood_Mitchel',\n",
    "              'neighborhood_NAmes', 'neighborhood_NPkVill', 'neighborhood_NWAmes', 'neighborhood_NoRidge',\n",
    "              'neighborhood_NridgHt', 'neighborhood_OldTown', 'neighborhood_SWISU', 'neighborhood_Sawyer',\n",
    "              'neighborhood_SawyerW', 'neighborhood_Somerst', 'neighborhood_StoneBr', 'neighborhood_Timber',\n",
    "              'neighborhood_Veenker', 'exterqual_Fa', 'exterqual_Gd', 'exterqual_TA', 'kitchenqual_Fa',\n",
    "              'kitchenqual_Gd', 'kitchenqual_TA', 'garagefinish_RFn', 'garagefinish_Unf', 'bsmtqual_Fa',\n",
    "              'bsmtqual_Gd', 'bsmtqual_TA']]\n",
    "\n",
    "Y = model_df['saleprice']\n",
    "\n",
    "from sklearn import linear_model\n",
    "\n",
    "lrm = linear_model.LinearRegression()\n",
    "\n",
    "lrm.fit(X,Y)\n",
    "\n",
    "print('Coefficients:\\n{}'.format(lrm.coef_))\n",
    "print('')\n",
    "print('Y intercept: {}'.format(lrm.intercept_))"
   ]
  },
  {
   "cell_type": "markdown",
   "metadata": {},
   "source": [
    "# Now, let's check if our model meets the Gauss-Markov Conditions."
   ]
  },
  {
   "cell_type": "markdown",
   "metadata": {},
   "source": [
    "### Assumption one: linearity of the model in its coefficients\n",
    "\n",
    "I took into account this assumption when designing my model, and this condition is met."
   ]
  },
  {
   "cell_type": "markdown",
   "metadata": {},
   "source": [
    "### Assumption two: the error term should be zero on average"
   ]
  },
  {
   "cell_type": "code",
   "execution_count": 27,
   "metadata": {
    "scrolled": false
   },
   "outputs": [
    {
     "name": "stdout",
     "output_type": "stream",
     "text": [
      "The average error for this temperature mode is: 3.1097243501715466e-11\n"
     ]
    }
   ],
   "source": [
    "predictions = lrm.predict(X)\n",
    "errors = Y - predictions\n",
    "\n",
    "print(\"The average error for this temperature mode is: {}\".format(np.mean(errors)))"
   ]
  },
  {
   "cell_type": "markdown",
   "metadata": {},
   "source": [
    "The average error is effectively zero, so this condition has been met."
   ]
  },
  {
   "cell_type": "markdown",
   "metadata": {},
   "source": [
    "### Assumption three: homoscedasticity"
   ]
  },
  {
   "cell_type": "code",
   "execution_count": 28,
   "metadata": {},
   "outputs": [
    {
     "name": "stdout",
     "output_type": "stream",
     "text": [
      "Bartlett test statistic value is 863.675 and p value is 7.74e-190\n",
      "Levene test statistic value is 586.008 and p value is 3.94e-118\n"
     ]
    }
   ],
   "source": [
    "from scipy.stats import bartlett\n",
    "from scipy.stats import levene\n",
    "\n",
    "bart_stats = bartlett(predictions, errors)\n",
    "lev_stats = levene(predictions, errors)\n",
    "\n",
    "print(\"Bartlett test statistic value is {0:3g} and p value is {1:.3g}\".format(bart_stats[0], bart_stats[1]))\n",
    "print(\"Levene test statistic value is {0:3g} and p value is {1:.3g}\".format(lev_stats[0], lev_stats[1]))"
   ]
  },
  {
   "cell_type": "code",
   "execution_count": 29,
   "metadata": {
    "scrolled": false
   },
   "outputs": [
    {
     "data": {
      "image/png": "[encoded data removed]",
      "text/plain": [
       "<Figure size 432x288 with 1 Axes>"
      ]
     },
     "metadata": {
      "needs_background": "light"
     },
     "output_type": "display_data"
    }
   ],
   "source": [
    "plt.scatter(predictions, errors)\n",
    "plt.xlabel('Predicted')\n",
    "plt.ylabel('Residual')\n",
    "plt.axhline(y=0)\n",
    "plt.title('Residual vs. Predicted')\n",
    "plt.show()"
   ]
  },
  {
   "cell_type": "markdown",
   "metadata": {},
   "source": [
    "Based on the Bartlett and Levene test. The errors in our model are not homscedastic. This is most likely due to the outliers."
   ]
  },
  {
   "cell_type": "markdown",
   "metadata": {},
   "source": [
    "### Assumption four: low multicollinearity"
   ]
  },
  {
   "cell_type": "code",
   "execution_count": 30,
   "metadata": {},
   "outputs": [
    {
     "data": {
      "text/html": [
       "<div>\n",
       "<style scoped>\n",
       "    .dataframe tbody tr th:only-of-type {\n",
       "        vertical-align: middle;\n",
       "    }\n",
       "\n",
       "    .dataframe tbody tr th {\n",
       "        vertical-align: top;\n",
       "    }\n",
       "\n",
       "    .dataframe thead th {\n",
       "        text-align: right;\n",
       "    }\n",
       "</style>\n",
       "<table border=\"1\" class=\"dataframe\">\n",
       "  <thead>\n",
       "    <tr style=\"text-align: right;\">\n",
       "      <th></th>\n",
       "      <th>overallqual</th>\n",
       "      <th>grlivarea</th>\n",
       "      <th>garagecars</th>\n",
       "      <th>firstflrsf</th>\n",
       "      <th>fullbath</th>\n",
       "      <th>yearbuilt</th>\n",
       "      <th>yearremodadd</th>\n",
       "    </tr>\n",
       "  </thead>\n",
       "  <tbody>\n",
       "    <tr>\n",
       "      <td>overallqual</td>\n",
       "      <td>1.000000</td>\n",
       "      <td>0.593007</td>\n",
       "      <td>0.600671</td>\n",
       "      <td>0.476224</td>\n",
       "      <td>0.550600</td>\n",
       "      <td>0.572323</td>\n",
       "      <td>0.550684</td>\n",
       "    </tr>\n",
       "    <tr>\n",
       "      <td>grlivarea</td>\n",
       "      <td>0.593007</td>\n",
       "      <td>1.000000</td>\n",
       "      <td>0.467247</td>\n",
       "      <td>0.566024</td>\n",
       "      <td>0.630012</td>\n",
       "      <td>0.199010</td>\n",
       "      <td>0.287389</td>\n",
       "    </tr>\n",
       "    <tr>\n",
       "      <td>garagecars</td>\n",
       "      <td>0.600671</td>\n",
       "      <td>0.467247</td>\n",
       "      <td>1.000000</td>\n",
       "      <td>0.439317</td>\n",
       "      <td>0.469672</td>\n",
       "      <td>0.537850</td>\n",
       "      <td>0.420622</td>\n",
       "    </tr>\n",
       "    <tr>\n",
       "      <td>firstflrsf</td>\n",
       "      <td>0.476224</td>\n",
       "      <td>0.566024</td>\n",
       "      <td>0.439317</td>\n",
       "      <td>1.000000</td>\n",
       "      <td>0.380637</td>\n",
       "      <td>0.281986</td>\n",
       "      <td>0.240379</td>\n",
       "    </tr>\n",
       "    <tr>\n",
       "      <td>fullbath</td>\n",
       "      <td>0.550600</td>\n",
       "      <td>0.630012</td>\n",
       "      <td>0.469672</td>\n",
       "      <td>0.380637</td>\n",
       "      <td>1.000000</td>\n",
       "      <td>0.468271</td>\n",
       "      <td>0.439046</td>\n",
       "    </tr>\n",
       "    <tr>\n",
       "      <td>yearbuilt</td>\n",
       "      <td>0.572323</td>\n",
       "      <td>0.199010</td>\n",
       "      <td>0.537850</td>\n",
       "      <td>0.281986</td>\n",
       "      <td>0.468271</td>\n",
       "      <td>1.000000</td>\n",
       "      <td>0.592855</td>\n",
       "    </tr>\n",
       "    <tr>\n",
       "      <td>yearremodadd</td>\n",
       "      <td>0.550684</td>\n",
       "      <td>0.287389</td>\n",
       "      <td>0.420622</td>\n",
       "      <td>0.240379</td>\n",
       "      <td>0.439046</td>\n",
       "      <td>0.592855</td>\n",
       "      <td>1.000000</td>\n",
       "    </tr>\n",
       "  </tbody>\n",
       "</table>\n",
       "</div>"
      ],
      "text/plain": [
       "              overallqual  grlivarea  garagecars  firstflrsf  fullbath  \\\n",
       "overallqual      1.000000   0.593007    0.600671    0.476224  0.550600   \n",
       "grlivarea        0.593007   1.000000    0.467247    0.566024  0.630012   \n",
       "garagecars       0.600671   0.467247    1.000000    0.439317  0.469672   \n",
       "firstflrsf       0.476224   0.566024    0.439317    1.000000  0.380637   \n",
       "fullbath         0.550600   0.630012    0.469672    0.380637  1.000000   \n",
       "yearbuilt        0.572323   0.199010    0.537850    0.281986  0.468271   \n",
       "yearremodadd     0.550684   0.287389    0.420622    0.240379  0.439046   \n",
       "\n",
       "              yearbuilt  yearremodadd  \n",
       "overallqual    0.572323      0.550684  \n",
       "grlivarea      0.199010      0.287389  \n",
       "garagecars     0.537850      0.420622  \n",
       "firstflrsf     0.281986      0.240379  \n",
       "fullbath       0.468271      0.439046  \n",
       "yearbuilt      1.000000      0.592855  \n",
       "yearremodadd   0.592855      1.000000  "
      ]
     },
     "execution_count": 30,
     "metadata": {},
     "output_type": "execute_result"
    }
   ],
   "source": [
    "model_df[continuous_features].corr()"
   ]
  },
  {
   "cell_type": "markdown",
   "metadata": {},
   "source": [
    "All of the features show moderate correlation with each other. This condition has not been met. This can be fixed using PCA or dropping features."
   ]
  },
  {
   "cell_type": "markdown",
   "metadata": {},
   "source": [
    "### Assumption five: error terms should be uncorrelated with one another"
   ]
  },
  {
   "cell_type": "code",
   "execution_count": 31,
   "metadata": {},
   "outputs": [
    {
     "name": "stderr",
     "output_type": "stream",
     "text": [
      "//anaconda3/lib/python3.7/site-packages/statsmodels/tsa/stattools.py:541: FutureWarning: fft=True will become the default in a future version of statsmodels. To suppress this warning, explicitly set fft=False.\n",
      "  warnings.warn(msg, FutureWarning)\n"
     ]
    },
    {
     "data": {
      "image/png": "[encoded data removed]",
      "text/plain": [
       "<Figure size 432x288 with 1 Axes>"
      ]
     },
     "metadata": {
      "needs_background": "light"
     },
     "output_type": "display_data"
    }
   ],
   "source": [
    "from statsmodels.tsa.stattools import acf\n",
    "\n",
    "acf_data = acf(errors)\n",
    "\n",
    "plt.plot(acf_data[1:])\n",
    "plt.show()"
   ]
  },
  {
   "cell_type": "markdown",
   "metadata": {},
   "source": [
    "The correlation between erros is very low. This condition has been met."
   ]
  },
  {
   "cell_type": "markdown",
   "metadata": {},
   "source": [
    "### Assumption six: features shouldn't be correlated with the errors"
   ]
  },
  {
   "cell_type": "code",
   "execution_count": 33,
   "metadata": {
    "scrolled": false
   },
   "outputs": [
    {
     "data": {
      "text/html": [
       "<div>\n",
       "<style scoped>\n",
       "    .dataframe tbody tr th:only-of-type {\n",
       "        vertical-align: middle;\n",
       "    }\n",
       "\n",
       "    .dataframe tbody tr th {\n",
       "        vertical-align: top;\n",
       "    }\n",
       "\n",
       "    .dataframe thead th {\n",
       "        text-align: right;\n",
       "    }\n",
       "</style>\n",
       "<table border=\"1\" class=\"dataframe\">\n",
       "  <thead>\n",
       "    <tr style=\"text-align: right;\">\n",
       "      <th></th>\n",
       "      <th>overallqual</th>\n",
       "      <th>grlivarea</th>\n",
       "      <th>garagecars</th>\n",
       "      <th>firstflrsf</th>\n",
       "      <th>fullbath</th>\n",
       "      <th>yearbuilt</th>\n",
       "      <th>yearremodadd</th>\n",
       "      <th>errors</th>\n",
       "    </tr>\n",
       "  </thead>\n",
       "  <tbody>\n",
       "    <tr>\n",
       "      <td>overallqual</td>\n",
       "      <td>1.000000e+00</td>\n",
       "      <td>5.930074e-01</td>\n",
       "      <td>6.006707e-01</td>\n",
       "      <td>4.762238e-01</td>\n",
       "      <td>5.505997e-01</td>\n",
       "      <td>5.723228e-01</td>\n",
       "      <td>5.506839e-01</td>\n",
       "      <td>1.888033e-15</td>\n",
       "    </tr>\n",
       "    <tr>\n",
       "      <td>grlivarea</td>\n",
       "      <td>5.930074e-01</td>\n",
       "      <td>1.000000e+00</td>\n",
       "      <td>4.672474e-01</td>\n",
       "      <td>5.660240e-01</td>\n",
       "      <td>6.300116e-01</td>\n",
       "      <td>1.990097e-01</td>\n",
       "      <td>2.873885e-01</td>\n",
       "      <td>-3.315518e-15</td>\n",
       "    </tr>\n",
       "    <tr>\n",
       "      <td>garagecars</td>\n",
       "      <td>6.006707e-01</td>\n",
       "      <td>4.672474e-01</td>\n",
       "      <td>1.000000e+00</td>\n",
       "      <td>4.393168e-01</td>\n",
       "      <td>4.696720e-01</td>\n",
       "      <td>5.378501e-01</td>\n",
       "      <td>4.206222e-01</td>\n",
       "      <td>1.595943e-14</td>\n",
       "    </tr>\n",
       "    <tr>\n",
       "      <td>firstflrsf</td>\n",
       "      <td>4.762238e-01</td>\n",
       "      <td>5.660240e-01</td>\n",
       "      <td>4.393168e-01</td>\n",
       "      <td>1.000000e+00</td>\n",
       "      <td>3.806375e-01</td>\n",
       "      <td>2.819859e-01</td>\n",
       "      <td>2.403793e-01</td>\n",
       "      <td>4.318881e-15</td>\n",
       "    </tr>\n",
       "    <tr>\n",
       "      <td>fullbath</td>\n",
       "      <td>5.505997e-01</td>\n",
       "      <td>6.300116e-01</td>\n",
       "      <td>4.696720e-01</td>\n",
       "      <td>3.806375e-01</td>\n",
       "      <td>1.000000e+00</td>\n",
       "      <td>4.682708e-01</td>\n",
       "      <td>4.390465e-01</td>\n",
       "      <td>1.828750e-14</td>\n",
       "    </tr>\n",
       "    <tr>\n",
       "      <td>yearbuilt</td>\n",
       "      <td>5.723228e-01</td>\n",
       "      <td>1.990097e-01</td>\n",
       "      <td>5.378501e-01</td>\n",
       "      <td>2.819859e-01</td>\n",
       "      <td>4.682708e-01</td>\n",
       "      <td>1.000000e+00</td>\n",
       "      <td>5.928550e-01</td>\n",
       "      <td>-2.890825e-15</td>\n",
       "    </tr>\n",
       "    <tr>\n",
       "      <td>yearremodadd</td>\n",
       "      <td>5.506839e-01</td>\n",
       "      <td>2.873885e-01</td>\n",
       "      <td>4.206222e-01</td>\n",
       "      <td>2.403793e-01</td>\n",
       "      <td>4.390465e-01</td>\n",
       "      <td>5.928550e-01</td>\n",
       "      <td>1.000000e+00</td>\n",
       "      <td>1.951133e-14</td>\n",
       "    </tr>\n",
       "    <tr>\n",
       "      <td>errors</td>\n",
       "      <td>1.888033e-15</td>\n",
       "      <td>-3.315518e-15</td>\n",
       "      <td>1.595943e-14</td>\n",
       "      <td>4.318881e-15</td>\n",
       "      <td>1.828750e-14</td>\n",
       "      <td>-2.890825e-15</td>\n",
       "      <td>1.951133e-14</td>\n",
       "      <td>1.000000e+00</td>\n",
       "    </tr>\n",
       "  </tbody>\n",
       "</table>\n",
       "</div>"
      ],
      "text/plain": [
       "               overallqual     grlivarea    garagecars    firstflrsf  \\\n",
       "overallqual   1.000000e+00  5.930074e-01  6.006707e-01  4.762238e-01   \n",
       "grlivarea     5.930074e-01  1.000000e+00  4.672474e-01  5.660240e-01   \n",
       "garagecars    6.006707e-01  4.672474e-01  1.000000e+00  4.393168e-01   \n",
       "firstflrsf    4.762238e-01  5.660240e-01  4.393168e-01  1.000000e+00   \n",
       "fullbath      5.505997e-01  6.300116e-01  4.696720e-01  3.806375e-01   \n",
       "yearbuilt     5.723228e-01  1.990097e-01  5.378501e-01  2.819859e-01   \n",
       "yearremodadd  5.506839e-01  2.873885e-01  4.206222e-01  2.403793e-01   \n",
       "errors        1.888033e-15 -3.315518e-15  1.595943e-14  4.318881e-15   \n",
       "\n",
       "                  fullbath     yearbuilt  yearremodadd        errors  \n",
       "overallqual   5.505997e-01  5.723228e-01  5.506839e-01  1.888033e-15  \n",
       "grlivarea     6.300116e-01  1.990097e-01  2.873885e-01 -3.315518e-15  \n",
       "garagecars    4.696720e-01  5.378501e-01  4.206222e-01  1.595943e-14  \n",
       "firstflrsf    3.806375e-01  2.819859e-01  2.403793e-01  4.318881e-15  \n",
       "fullbath      1.000000e+00  4.682708e-01  4.390465e-01  1.828750e-14  \n",
       "yearbuilt     4.682708e-01  1.000000e+00  5.928550e-01 -2.890825e-15  \n",
       "yearremodadd  4.390465e-01  5.928550e-01  1.000000e+00  1.951133e-14  \n",
       "errors        1.828750e-14 -2.890825e-15  1.951133e-14  1.000000e+00  "
      ]
     },
     "execution_count": 33,
     "metadata": {},
     "output_type": "execute_result"
    }
   ],
   "source": [
    "model_df['errors'] = errors\n",
    "model_df[continuous_features + ['errors']].corr()"
   ]
  },
  {
   "cell_type": "markdown",
   "metadata": {},
   "source": [
    "This condition has been met."
   ]
  },
  {
   "cell_type": "code",
   "execution_count": null,
   "metadata": {},
   "outputs": [],
   "source": []
  }
 ],
 "metadata": {
  "kernelspec": {
   "display_name": "Python 3",
   "language": "python",
   "name": "python3"
  },
  "language_info": {
   "codemirror_mode": {
    "name": "ipython",
    "version": 3
   },
   "file_extension": ".py",
   "mimetype": "text/x-python",
   "name": "python",
   "nbconvert_exporter": "python",
   "pygments_lexer": "ipython3",
   "version": "3.7.3"
  }
 },
 "nbformat": 4,
 "nbformat_minor": 2
}
