{
 "cells": [
  {
   "cell_type": "code",
   "execution_count": 69,
   "metadata": {},
   "outputs": [],
   "source": [
    "import pandas as pd\n",
    "import seaborn as sns"
   ]
  },
  {
   "cell_type": "markdown",
   "metadata": {},
   "source": [
    "# Yelp reviews"
   ]
  },
  {
   "cell_type": "code",
   "execution_count": 70,
   "metadata": {
    "scrolled": true
   },
   "outputs": [],
   "source": [
    "yelp_df = pd.read_csv('yelp_labelled.txt', delimiter='\\n')"
   ]
  },
  {
   "cell_type": "code",
   "execution_count": 71,
   "metadata": {},
   "outputs": [],
   "source": [
    "yelp_df['sentiment'] = yelp_df['review'].str[-1]\n",
    "yelp_df['sentiment'] = pd.to_numeric(yelp_df['sentiment'])\n",
    "yelp_df['review'] = yelp_df['review'].str[:-3]"
   ]
  },
  {
   "cell_type": "code",
   "execution_count": 72,
   "metadata": {},
   "outputs": [
    {
     "data": {
      "text/html": [
       "<div>\n",
       "<style scoped>\n",
       "    .dataframe tbody tr th:only-of-type {\n",
       "        vertical-align: middle;\n",
       "    }\n",
       "\n",
       "    .dataframe tbody tr th {\n",
       "        vertical-align: top;\n",
       "    }\n",
       "\n",
       "    .dataframe thead th {\n",
       "        text-align: right;\n",
       "    }\n",
       "</style>\n",
       "<table border=\"1\" class=\"dataframe\">\n",
       "  <thead>\n",
       "    <tr style=\"text-align: right;\">\n",
       "      <th></th>\n",
       "      <th>review</th>\n",
       "      <th>sentiment</th>\n",
       "    </tr>\n",
       "  </thead>\n",
       "  <tbody>\n",
       "    <tr>\n",
       "      <td>0</td>\n",
       "      <td>Wow... Loved this place</td>\n",
       "      <td>1</td>\n",
       "    </tr>\n",
       "    <tr>\n",
       "      <td>1</td>\n",
       "      <td>Crust is not good</td>\n",
       "      <td>0</td>\n",
       "    </tr>\n",
       "    <tr>\n",
       "      <td>2</td>\n",
       "      <td>Not tasty and the texture was just nasty</td>\n",
       "      <td>0</td>\n",
       "    </tr>\n",
       "    <tr>\n",
       "      <td>3</td>\n",
       "      <td>Stopped by during the late May bank holiday of...</td>\n",
       "      <td>1</td>\n",
       "    </tr>\n",
       "    <tr>\n",
       "      <td>4</td>\n",
       "      <td>The selection on the menu was great and so wer...</td>\n",
       "      <td>1</td>\n",
       "    </tr>\n",
       "  </tbody>\n",
       "</table>\n",
       "</div>"
      ],
      "text/plain": [
       "                                              review  sentiment\n",
       "0                            Wow... Loved this place          1\n",
       "1                                  Crust is not good          0\n",
       "2           Not tasty and the texture was just nasty          0\n",
       "3  Stopped by during the late May bank holiday of...          1\n",
       "4  The selection on the menu was great and so wer...          1"
      ]
     },
     "execution_count": 72,
     "metadata": {},
     "output_type": "execute_result"
    }
   ],
   "source": [
    "yelp_df.head()"
   ]
  },
  {
   "cell_type": "code",
   "execution_count": 73,
   "metadata": {},
   "outputs": [],
   "source": [
    "keywords = {}\n",
    "for review in yelp_df['review']:\n",
    "    for words in review.split():\n",
    "        try: \n",
    "            keywords[words.lower()] += 1\n",
    "        except:\n",
    "            keywords[words.lower()] = 1\n"
   ]
  },
  {
   "cell_type": "code",
   "execution_count": 74,
   "metadata": {
    "scrolled": false
   },
   "outputs": [
    {
     "name": "stdout",
     "output_type": "stream",
     "text": [
      "{'the': 582, 'and': 388, 'i': 303, 'was': 295, 'a': 237, 'to': 217, 'is': 171, 'this': 143, 'it': 130, 'of': 126, 'not': 115, 'food': 111, 'for': 110, 'in': 107, 'place': 100, 'good': 87, 'we': 79, 'service': 74, 'very': 74, 'my': 72, 'with': 71, 'had': 70, 'that': 67, 'so': 66, 'be': 66, 'great': 64, 'were': 62, 'are': 62, 'have': 62, 'but': 61, 'you': 57, 'back': 57, 'they': 56, 'at': 55, 'on': 54, 'here': 53, 'like': 45, 'go': 42, 'our': 41, 'time': 40, 'all': 37, 'will': 37, 'as': 36, 'just': 34, 'there': 34, 'really': 33, 'an': 32, 'their': 31, 'if': 30, 'best': 29, 'would': 28, 'ever': 27, 'only': 26, 'one': 26, 'your': 25, 'never': 25, \"don't\": 25, 'up': 24, 'no': 24, 'also': 24, 'restaurant': 24, 'out': 24, 'been': 23, 'what': 23, 'friendly': 23, 'from': 23, 'did': 22, 'again': 22, 'by': 21, '-': 21, 'nice': 21, 'which': 20, 'some': 20, 'came': 20, 'when': 20, 'delicious': 20, \"i've\": 20, \"i'm\": 20, 'pretty': 19, 'vegas': 19, 'staff': 19, 'get': 19, 'us': 19, 'love': 19, 'or': 19, \"won't\": 19, 'he': 18, 'eat': 18, 'much': 18, 'definitely': 18, 'got': 18, 'going': 18, 'experience': 18, 'even': 18, 'disappointed': 18, 'first': 17, \"it's\": 17, 'minutes': 17, 'more': 17, 'about': 17, 'could': 16, 'made': 16, 'amazing': 16, 'me': 16, 'bad': 16, 'think': 16, 'chicken': 16, 'too': 15, 'has': 15, 'than': 15, 'how': 15, 'can': 15, 'being': 14, 'because': 14, 'worst': 14, 'ordered': 14, 'always': 14, 'way': 14, 'other': 14, 'better': 14, 'pizza': 14, 'want': 13, \"didn't\": 13, 'taste': 13, 'say': 13, 'salad': 13, 'quality': 13, 'server': 13, 'well': 13, 'fresh': 13, \"wasn't\": 13, 'them': 13, 'now': 12, 'do': 12, 'any': 12, 'after': 12, 'stars': 12, 'went': 12, 'wait': 12, 'fantastic': 12, 'night': 12, '&': 12, 'flavor': 12, 'menu': 11, 'still': 11, 'slow': 11, 'food,': 11, 'feel': 11, 'times': 11, 'next': 11, 'steak': 11, 'know': 11, 'come': 11, 'recommend': 11, 'awesome': 11, 'loved': 10, 'tasty': 10, 'selection': 10, 'little': 10, 'worth': 10, 'burger': 10, 'buffet': 10, 'coming': 10, 'everything': 10, 'meal': 10, 'another': 10, 'sushi': 10, 'excellent': 10, 'waited': 10, 'order': 10, 'probably': 10, 'prices': 9, 'every': 9, 'table': 9, 'enough': 9, 'over': 9, 'give': 9, 'lunch': 9, \"can't\": 9, 'bland': 9, 'meat': 9, 'many': 9, 'she': 9, 'soon': 9, 'perfect': 9, 'off': 8, 'getting': 8, 'fries': 8, 'waitress': 8, 'took': 8, 'around': 8, 'beer': 8, 'service,': 8, 'thing': 8, 'right': 8, 'down': 8, 'absolutely': 8, '5': 8, 'sauce': 8, 'before': 8, 'quite': 8, 'both': 8, 'dining': 8, 'breakfast': 8, 'dishes': 8, 'atmosphere': 8, 'bit': 8, 'who': 8, 'spot': 8, 'day': 8, 'since': 8, 'while': 8, 'take': 8, 'felt': 8, 'make': 8, 'few': 8, 'two': 8, 'happy': 8, 'terrible': 8, 'tasted': 8, 'tried': 7, 'sure': 7, 'deal': 7, 'found': 7, 'lot': 7, 'people': 7, 'cooked': 7, 'sandwich': 7, 'inside': 7, 'wonderful': 7, '2': 7, 'nothing': 7, 'dish': 7, 'eating': 7, 'try': 7, 'spicy': 7, 'said': 7, \"i'll\": 7, 'rude': 7, 'seriously': 7, 'clean': 7, 'impressed': 7, 'once': 7, 'hot': 7, 'chips': 7, 'then': 7, 'cold': 7, 'good,': 7, 'family': 7, 'super': 7, 'am': 6, 'pho': 6, 'tell': 6, 'overpriced': 6, 'poor': 6, 'waiter': 6, 'hard': 6, 'left': 6, 'his': 6, 'each': 6, 'enjoy': 6, 'should': 6, 'potato': 6, 'where': 6, 'price': 6, 'check': 6, 'place,': 6, 'served': 6, 'ambiance': 6, 'mediocre': 6, 'management': 6, 'done': 6, 'must': 6, 'her': 6, 'small': 6, 'see': 6, 'special': 6, 'money': 6, 'twice': 6, 'authentic': 6, 'bar': 6, 'all,': 6, 'during': 5, 'may': 5, 'kept': 5, 'asked': 5, 'tables': 5, 'quick': 5, 'overall,': 5, 'portions': 5, 'tender': 5, 'these': 5, 'sick': 5, 'attentive': 5, 'side': 5, 'outside': 5, 'horrible': 5, 'talk': 5, 'huge': 5, 'seafood': 5, '30': 5, 'customer': 5, 'thai': 5, 'eaten': 5, 'places': 5, 'thought': 5, 'away': 5, 'hit': 5, 'waste': 5, 'return': 5, 'extremely': 5, \"i'd\": 5, 'avoid': 5, 'full': 5, 'area': 5, 'bacon': 5, 'zero': 5, 'ice': 5, 'bread': 5, 'home': 5, 'things': 5, 'warm': 5, 'either': 5, 'great,': 5, 'fried': 5, 'expect': 5, 'far': 5, 'enjoyed': 5, 'dinner': 5, 'anytime': 5, 'last': 5, 'new': 5, 'bring': 5, 'long': 5, 'barely': 5, 'damn': 4, 'highly': 4, 'hour': 4, 'running': 4, 'salmon': 4, 'look': 4, 'elsewhere': 4, 'shrimp': 4, 'establishment': 4, 'rare': 4, 'husband': 4, 'pasta': 4, 'tasteless': 4, 'least': 4, '10': 4, 'fish': 4, 'sweet': 4, 'today': 4, 'ask': 4, 'old': 4, 'beef': 4, 'everyone': 4, 'yummy': 4, 'disappointing': 4, \"we'll\": 4, 'beat': 4, 'trip': 4, 'real': 4, 'kind': 4, 'leave': 4, 'pork': 4, 'burgers': 4, 'cream': 4, 'fact': 4, 'drink': 4, 'itself': 4, 'considering': 4, 'servers': 4, 'thumbs': 4, 'pay': 4, 'seated': 4, 'bay': 4, 'piece': 4, 'phoenix': 4, 'sat': 4, 'something': 4, 'live': 4, 'drive': 4, 'waiting': 4, 'though': 4, 'business': 4, 'someone': 4, 'folks': 4, 'town': 4, 'fun': 4, 'possible': 4, 'close': 4, 'fast': 4, 'wrong': 4, 'job': 4, 'why': 4, 'location': 4, 'gave': 4, 'friends': 4, 'reasonable': 4, 'soup': 4, 'options': 4, 'disappointment': 4, 'owners': 4, '40': 4, 'manager': 4, 'average': 4, 'texture': 3, 'nasty': 3, 'recommendation': 3, 'care': 3, 'recommended': 3, 'beautiful': 3, 'brought': 3, 'wall': 3, '4': 3, 'totally': 3, 'sashimi': 3, 'yourself': 3, 'visit': 3, 'sucks': 3, 'moist': 3, 'frozen': 3, 'dessert': 3, 'greek': 3, 'dressing': 3, 'duck': 3, 'heart': 3, 'amount': 3, 'perfectly': 3, 'water': 3, 'second': 3, 'salt': 3, 'expected': 3, 'really,': 3, 'guess': 3, 'rice': 3, 'walked': 3, 'rolls': 3, 'oh': 3, 'party': 3, \"you're\": 3, 'tip': 3, 'quickly': 3, 'wife': 3, 'helpful': 3, 'town,': 3, 'wine': 3, 'ambience': 3, 'music': 3, 'honest': 3, 'busy': 3, 'nice,': 3, 'liked': 3, 'fine': 3, 'sushi,': 3, \"wouldn't\": 3, 'melt': 3, 'restaurants': 3, 'empty': 3, 'checked': 3, 'ate': 3, '3': 3, 'watched': 3, 'stale': 3, ':': 3, 'different': 3, 'several': 3, 'years': 3, 'ago': 3, 'unfortunately,': 3, 'immediately': 3, 'treated': 3, 'sad': 3, 'literally': 3, 'used': 3, 'vegetarian': 3, '20': 3, 'healthy': 3, 'lacking': 3, 'incredible': 3, 'sucked': 3, 'decor': 3, 'egg': 3, 'dog': 3, 'insulted': 3, 'hope': 3, 'brunch': 3, 'white': 3, 'soggy': 3, 'unless': 3, 'lobster': 3, 'course': 3, 'none': 3, \"isn't\": 3, 'chef': 3, 'couple': 3, 'stars,': 3, 'yet': 3, 'also,': 3, \"couldn't\": 3, 'flavorful': 3, 'received': 3, 'generous': 3, 'friendly,': 3, 'tea': 3, 'patio': 3, 'outstanding': 3, \"friend's\": 3, 'wings': 3, 'pizzas': 3, 'pulled': 3, '1': 3, 'star': 3, 'please': 3, 'review': 3, 'stay': 3, 'back,': 3, 'high': 3, 'favorite': 3, 'overall': 3, 'especially': 3, 'pleasant': 3, 'pleased': 3, 'vegetables': 3, 'steaks': 3, 'equally': 3, 'bathroom': 3, 'door': 3, 'cool': 3, 'else': 3, 'large': 3, 'find': 3, 'deserves': 3, 'stomach': 3, 'green': 3, 'beans': 3, 'tacos': 3, 'told': 3, 'total': 3, 'regular': 3, 'until': 3, 'big': 3, 'rather': 3, 'bill': 3, 'worse': 3, 'homemade': 3, 'thin': 3, 'menu,': 3, 'such': 3, 'gone': 3, 'those': 3, 'need': 3, 'desserts': 3, 'boyfriend': 3, 'room': 3, 'maybe': 3, 'believe': 3, 'needs': 3, 'wanted': 3, 'half': 3, 'list': 3, 'vibe': 3, 'edible': 3, 'seating': 3, 'say,': 3, 'dirty': 3, 'salsa': 3, 'awful': 3, 'lacked': 3, 'crust': 2, 'stopped': 2, 'late': 2, 'potatoes': 2, 'under': 2, 'touch': 2, 'cashier': 2, 'ended': 2, 'human': 2, 'hair': 2, 'let': 2, 'red': 2, 'stuff': 2, 'mexican': 2, 'overwhelmed': 2, 'decent': 2, 'seems': 2, 'favor': 2, 'delight': 2, 'into': 2, 'judge': 2, 'sides': 2, 'grossed': 2, 'behind': 2, 'pita': 2, 'hummus': 2, 'char': 2, 'realized': 2, 'attitudes': 2, 'towards': 2, 'portion': 2, 'attack': 2, 'downtown': 2, 'excuse': 2, 'refill': 2, 'glad': 2, 'heard': 2, 'batter': 2, 'chewy': 2, 'finish': 2, 'above': 2, 'beyond': 2, 'meh': 2, 'min': 2, 'known': 2, 'suck,': 2, 'use': 2, 'seasoned': 2, 'wasting': 2, 'opportunity': 2, 'company': 2, 'person': 2, 'break': 2, 'others': 2, 'roast': 2, 'sugary': 2, 'six': 2, 'year': 2, 'die': 2, 'bye': 2, 'lady': 2, 'arrived': 2, 'side,': 2, 'cafe': 2, 'serves': 2, 'roasted': 2, 'garlic': 2, 'added': 2, 'extra': 2, 'cannot': 2, 'bartender': 2, 'playing': 2, 'passed': 2, 'between': 2, 'gross': 2, 'although': 2, 'preparing': 2, 'indian': 2, \"you'd\": 2, 'strip': 2, 'sandwich,': 2, 'delish': 2, 'tuna': 2, 'selections': 2, 'subway': 2, 'bars': 2, 'dine': 2, 'rarely': 2, 'curry': 2, 'bathrooms': 2, 'decorated': 2, ',': 2, 'pace': 2, 'greeted': 2, 'joint': 2, 'cut': 2, 'bakery': 2, 'reasonably': 2, 'priced': 2, 'looking': 2, 'ladies': 2, 'overcooked': 2, 'charcoal': 2, 'decided': 2, 'looked': 2, 'dirt': 2, 'interesting': 2, 'watch': 2, 'gyros': 2, 'feeling': 2, 'valley': 2, 'bowl': 2, 'bug': 2, 'given': 2, 'minutes,': 2, \"we're\": 2, 'friend': 2, 'mind': 2, 'filet': 2, 'needed': 2, 'cook': 2, 'cold,': 2, 'dealing': 2, 'double': 2, 'cheeseburger': 2, 'single': 2, 'drinks': 2, 'attentive,': 2, 'almost': 2, 'building': 2, 'point': 2, 'dark': 2, 'set': 2, 'creamy': 2, 'similar': 2, 'complaints': 2, 'vegas,': 2, 'tap': 2, 'clean,': 2, '8': 2, 'bucks': 2, 'coffee': 2, 'world': 2, 'cant': 2, 'taco': 2, 'wow': 2, 'bachi': 2, 'salads': 2, 'hate': 2, 'hours': 2, 'neighborhood': 2, 'here,': 2, 'soooo': 2, 'stir': 2, 'delightful': 2, 'toasted': 2, 'house': 2, 'boy': 2, 'basically': 2, 'joke': 2, 'fare,': 2, 'pricing': 2, 'without': 2, 'doubt': 2, 'reviews': 2, 'black': 2, 'serve': 2, 'seen': 2, 'mom': 2, 'bites': 2, 'feels': 2, 'atmosphere,': 2, 'brick': 2, 'oven': 2, 'multiple': 2, 'times,': 2, 'ten': 2, 'finally': 2, 'pancakes': 2, 'eggs': 2, 'treat': 2, 'life': 2, 'comfortable': 2, 'part': 2, 'happened': 2, 'car': 2, 'front': 2, 'anyone': 2, 'stuffed': 2, 'mall': 2, 'kids': 2, 'lots': 2, 'perfection': 2, 'impeccable': 2, 'simply': 2, 'pop': 2, 'assure': 2, 'trying': 2, 'completely': 2, 'become': 2, 'professional': 2, 'end': 2, \"we've\": 2, 'mistake': 2, 'nicest': 2, 'cow': 2, 'anyway,': 2, 'week': 2, 'combination': 2, 'enough,': 2, 'driest': 2, 'tots': 2, 'paid': 2, '35': 2, 'disappoint': 2, 'flower': 2, 'cheese': 2, 'group': 2, 'crab': 2, 'legs': 2, 'sliced': 2, 'dont': 2, 'filling': 2, 'meals': 2, 'experience,': 2, 'amazing,': 2, 'lovely': 2, 'whole': 2, 'choose': 2, 'steak,': 2, 'entrees': 2, 'mouth': 2, 'actually': 2, 'recent': 2, 'however,': 2, 'tapas': 2, 'vinegrette': 2, 'baby': 2, 'disgusting': 2, 'stop': 2, 'recently': 2, 'rated': 2, 'setting': 2, 'cheap': 2, 'presentation': 2, 'color': 2, 'sitting': 2, 'fairly': 2, 'satisfying': 2, 'ok,': 2, 'its': 2, 'grilled': 2, 'means': 2, 'focused': 2, 'guy': 2, 'same': 2, 'him': 2, 'promise': 2, 'dry': 2, 'italian': 2, 'staying': 2, 'owner': 2, 'work': 2, 'then,': 2, 'fail': 2, 'plate': 2, 'needless': 2, 'serving': 2, 'longer': 2, 'orders': 2, 'area/': 2, 'chinese': 2, 'bad,': 2, 'paper': 2, 'anything': 2, 'complain': 2, 'mid': 2, 'definately': 2, 'bother': 2, 'offers': 2, 'flavorless': 2, 'nachos': 2, 'does': 2, 'crazy': 2, 'tribute': 2, 'fell': 2, 'heat': 2, 'hot,': 2, 'started': 2, \"aren't\": 2, 'three': 2, 'wait,': 2, 'spend': 2, 'lost': 2, 'seemed': 2, 'wow...': 1, 'bank': 1, 'holiday': 1, 'rick': 1, 'steve': 1, 'angry': 1, 'honeslty': 1, 'fresh.': 1, 'rubber': 1, 'ahead': 1, 'warmer': 1, 'prompt': 1, 'wayyy': 1, 'cape': 1, 'cod': 1, 'ravoli,': 1, 'chicken,with': 1, 'cranberry...mmmm': 1, 'disgusted': 1, 'shocked': 1, 'signs': 1, 'indicate': 1, 'cash': 1, 'time,': 1, 'alone': 1, 'burrittos': 1, 'blah': 1, 'cute': 1, 'less...': 1, 'interior': 1, 'performed': 1, \"that's\": 1, 'right....the': 1, 'velvet': 1, 'cake.....ohhh': 1, 'hole': 1, 'street': 1, 'tacos,': 1, 'luke': 1, 'warm,': 1, 'sever': 1, 'combos': 1, 'burger,': 1, 'fries,': 1, '23': 1, 'final': 1, 'blow': 1, 'accident': 1, 'happier': 1, 'grab': 1, 'bite': 1, 'familiar': 1, 'pub': 1, 'redeeming': 1, 'inexpensive': 1, 'ample': 1, 'stupid': 1, 'hiro': 1, 'drag': 1, 'whether': 1, 'melted': 1, 'styrofoam': 1, 'fear': 1, 'positive': 1, 'note,': 1, 'provided': 1, 'pucks': 1, 'disgust,': 1, 'register': 1, 'prime': 1, 'rib': 1, 'section': 1, 'generic': 1, 'beef,': 1, 'firehouse!!!!': 1, 'tasty,': 1, 'refreshing': 1, 'pink': 1, 'sunglasses': 1, 'chow': 1, 'mein': 1, 'customers,': 1, 'customers': 1, 'it...friendly': 1, 'servers,': 1, 'imaginative': 1, 'grill': 1, 'flat-lined': 1, 'strings': 1, 'bottom': 1, 'power': 1, 'scallop,': 1, 'ripped': 1, 'banana': 1, 'ripped,': 1, 'petrified': 1, 'struggle': 1, 'wave': 1, 'receives': 1, 'appetizers!!': 1, 'cocktails': 1, 'handmade': 1, \"we'd\": 1, 'military': 1, 'discount': 1, 'dos': 1, 'gringos': 1, 'update.....went': 1, 'amazin': 1, 'apparently': 1, 'included': 1, 'tastings': 1, 'drinks,': 1, 'jeff': 1, 'rice,': 1, 'milkshake,': 1, 'chocolate': 1, 'milk': 1, 'excalibur,': 1, 'common': 1, 'sense': 1, 'scallop': 1, 'appalling': 1, 'value': 1, 'cheated': 1, 'experiencing': 1, 'underwhelming': 1, 'relationship': 1, 'parties': 1, 'smelled': 1, 'grease': 1, 'trap': 1, 'turkey': 1, 'pan': 1, 'cakes': 1, 'raving': 1, 'disaster': 1, 'tailored': 1, 'palate': 1, 'spring': 1, 'ratio': 1, 'tenders': 1, 'unsatisfying': 1, 'amazing!!': 1, 'omelets': 1, 'summary,': 1, 'largely': 1, 'sexy': 1, 'mouth,': 1, 'outrageously': 1, 'flirting': 1, 'hottest': 1, 'rock': 1, 'casino': 1, 'before,': 1, 'step': 1, 'forward': 1, 'buffet!!': 1, 'loves': 1, 'bone': 1, 'marrow,': 1, 'marrow': 1, 'waiter,': 1, 'bloddy': 1, \"mary's\": 1, 'mussels': 1, 'reduction,': 1, 'tender,': 1, 'buffets': 1, 'tigerlilly': 1, 'afternoon': 1, 'delicious,': 1, 'personable': 1, 'sooooo': 1, 'good!': 1, 'lovers,': 1, \"let's\": 1, 'yama': 1, '40min': 1, 'ordering': 1, 'arriving,': 1, 'mess': 1, 'sound': 1, 'actual': 1, 'managed': 1, 'blandest': 1, 'cuisine': 1, 'boot,': 1, 'worries': 1, 'guys': 1, 'steaks,': 1, 'loving': 1, 'son': 1, \"he's\": 1, 'venture': 1, 'further': 1, 'host': 1, 'were,': 1, 'lack': 1, 'word,': 1, 'bitches': 1, 'bland...': 1, 'liking': 1, 'number': 1, 'reasons': 1, 'reviewing..': 1, 'that..': 1, 'phenomenal': 1, 'venturing': 1, 'belly,': 1, 'penne': 1, 'vodka': 1, 'including': 1, 'massive': 1, 'meatloaf': 1, 'crispy': 1, 'wrap,': 1, 'nyc': 1, 'bagels,': 1, 'cheese,': 1, 'lox': 1, 'capers': 1, 'subway,': 1, 'meet': 1, 'expectations': 1, 'solid': 1, 'weekend': 1, 'suggestions': 1, 'it!!!': 1, 'bamboo': 1, 'shoots': 1, 'blanket': 1, 'moz': 1, 'top': 1, 'cover': 1, 'subpar': 1, 'changing,': 1, 'dow': 1, 'attention': 1, 'ignore': 1, 'fiancé': 1, 'middle': 1, 'mandalay': 1, 'forty': 1, 'five': 1, 'vain': 1, 'crostini': 1, 'highlights': 1, 'nigiri': 1, 's': 1, 'flavored': 1, 'voodoo': 1, 'gluten': 1, 'free': 1, 'leftover': 1, 'relocated': 1, 'diverse,': 1, 'cost': 1, 'delicious!': 1, 'hands-down': 1, 'metro': 1, 'food..': 1, 'hella': 1, 'salty': 1, 'spinach': 1, 'avocado': 1, 'salad;': 1, 'ingredients': 1, 'be,': 1, 'menus': 1, 'handed': 1, 'listed': 1, 'waitresses': 1, 'lordy,': 1, 'khao': 1, 'soi': 1, 'missed': 1, 'lovers': 1, 'terrific': 1, 'thrilled': 1, 'accommodations': 1, 'daughter': 1, 'perhaps': 1, 'caught': 1, 'judging': 1, 'reviews,': 1, 'inspired': 1, 'leaves': 1, 'desired': 1, 'modern': 1, 'hip,': 1, 'maintaining': 1, 'coziness': 1, 'weekly': 1, 'haunt,': 1, 'asking': 1, 'bland,': 1, 'send': 1, 'verge': 1, 'having': 1, 'dressed': 1, 'rudely': 1, 'hits': 1, 'quantity': 1, 'lemon': 1, 'raspberry': 1, 'cocktail': 1, 'sucked,': 1, 'imagined': 1, 'crepe': 1, 'station': 1, 'butter,': 1, 'bits': 1, 'top....very': 1, 'original': 1, 'food!': 1, 'arrived,': 1, 'missing': 1, 'wings,': 1, 'satisfied': 1, \"joey's\": 1, 'voted': 1, 'readers': 1, 'magazine': 1, 'fridays': 1, 'blows': 1, 'disrespected': 1, 'exceeding': 1, 'dreamed': 1, 'serivce': 1, 'help': 1, 'inviting': 1, 'lived': 1, '1979': 1, '(and': 1, 'last)': 1, 'stepped': 1, 'foot': 1, 'mixed': 1, 'mushrooms,': 1, 'yukon': 1, 'gold': 1, 'puree,': 1, 'corn': 1, 'beateous': 1, 'showed': 1, 'sure,': 1, 'climbing': 1, 'kitchen': 1, 'tartar': 1, 'jamaican': 1, 'mojitos': 1, 'rich': 1, 'accordingly': 1, 'shower': 1, 'rinse,': 1, 'shower,': 1, 'nude': 1, 'bisque,': 1, 'bussell': 1, 'sprouts,': 1, 'risotto,': 1, 'pepper..and': 1, 'hopefully': 1, 'bodes': 1, 'wrapped': 1, 'dates': 1, 'unbelievable': 1, 'bargain': 1, 'otto': 1, 'welcome': 1, '\"mains,\"': 1, 'uninspired': 1, 'amazing!': 1, 'must-stop': 1, 'whenever': 1, 'you,': 1, \"world's\": 1, 'worst/annoying': 1, 'drunk': 1, 'patty': 1, 'falling': 1, 'apart': 1, '(picture': 1, 'uploaded)': 1, 'yeah,': 1, 'sporting': 1, 'events': 1, 'walls': 1, 'covered': 1, \"tv's\": 1, \"they'd\": 1, 'descriptions': 1, '\"yum': 1, 'yum': 1, 'sauce\"': 1, '\"eel': 1, 'sauce\",': 1, '\"spicy': 1, 'mayo\"...well': 1, 'sauces': 1, 'hardest': 1, 'decision...': 1, 'honestly,': 1, \"m's\": 1, 'supposed': 1, '(amazing)': 1, 'rolled': 1, 'eyes': 1, 'stayed...': 1, 'providing': 1, 'flavourful': 1, '(it': 1, 'either)': 1, 'freezing': 1, 'reviewer': 1, '\"you': 1, 'again.': 1, '-drinks': 1, 'delights,': 1, 'ayce': 1, 'lighting': 1, 'mood': 1, 'based': 1, 'sub-par': 1, 'effort': 1, 'show': 1, 'gratitude': 1, \"owner's\": 1, 'people.': 1, 'privileged': 1, 'working/eating': 1, 'parents': 1, 'most': 1, 'silently': 1, 'peanut': 1, '7': 1, \"would've\": 1, 'godfathers': 1, 'tough': 1, 'short': 1, 'sticks': 1, 'recall': 1, 'charged': 1, 'exquisite': 1, 'inexpensive,': 1, 'boot': 1, 'plus,': 1, 'par,': 1, 'thus': 1, 'far,': 1, 'visited': 1, 'self': 1, 'proclaimed': 1, 'cafe,': 1, 'wildly': 1, 'veggitarian': 1, 'platter': 1, 'madison': 1, 'ironman,': 1, 'chefs': 1, 'better,': 1, 'dedicated': 1, 'boba': 1, 'spots,': 1, 'jenni': 1, 'goat': 1, 'skimp': 1, 'agai': 1, 'mac': 1, 'stinks': 1, 'wrong:': 1, 'burned': 1, 'saganaki': 1, '100': 1, 'disagree': 1, 'fellow': 1, 'yelpers,': 1, 'later': 1, 'delish,': 1, 'convenient': 1, 'incredibly': 1, 'fish,': 1, 'prepared': 1, 'rating': 1, 'third': 1, 'writing': 1, 'noodles': 1, 'chip': 1, 'sad...': 1, 'count': 1, 'box': 1, '12': 1, 'boring': 1, 'service-check': 1, 'greedy': 1, 'corporation': 1, 'dime': 1, 'never,': 1, 'atrocious': 1, 'summer,': 1, 'charming': 1, 'outdoor': 1, 'english': 1, 'muffin': 1, 'untoasted': 1, 'price,': 1, 'bus': 1, 'hand': 1, 'point,': 1, 'figured': 1, 'making': 1, 'publicly': 1, 'loudly': 1, 'bbq,': 1, 'lighter': 1, 'public': 1, 'ways': 1, '$20,': 1, 'in-house': 1, 'downside': 1, 'exceptional': 1, 'months': 1, 'later,': 1, 'returned': 1, 'shawarrrrrrma!!!!!': 1, 'eyed': 1, 'peas': 1, 'potatoes...': 1, 'unreal': 1, 'vinaigrette': 1, 'dish,': 1, 'breakfast,': 1, '$4.00': 1, 'honor': 1, 'hut': 1, 'coupons': 1, 'truly': 1, 'unbelievably': 1, 'dirty-': 1, 'seat': 1, 'covers': 1, 'replenished': 1, 'plain': 1, 'yucky!!': 1, 'burger...': 1, '\"gold': 1, 'standard\"': 1, '$17': 1, 'omg,': 1, 'delicioso': 1, 'spaghetti': 1, 'whatsoever': 1, 'dishes,': 1, 'best,': 1, 'driving': 1, 'tucson': 1, 'vegas.....there': 1, 'chipotle,': 1, 'classy/warm': 1, 'appetizers,': 1, 'succulent': 1, '(baseball': 1, 'steak!!!!': 1, 'app': 1, \"shouldn't\": 1, 'delicious!!': 1, 'genuinely': 1, 'enthusiastic': 1, 'sadly,': 1, 'gordon': 1, \"ramsey's\": 1, 'shall': 1, 'sharply': 1, 'evening': 1, '(the': 1, 'nice.': 1, 'offered': 1, 'turn': 1, 'buying': 1, 'handling': 1, 'rowdy': 1, 'despicable,': 1, 'bisque': 1, 'lukewarm': 1, 'craving': 1, 'ache': 1, 'rest': 1, 'dropped': 1, 'ball': 1, 'space': 1, 'tiny,': 1, 'elegantly': 1, 'customize': 1, 'like,': 1, 'usual': 1, 'eggplant': 1, 'bean': 1, 'fry,': 1, 'far!': 1, 'outta': 1, 'inconsiderate': 1, 'horrible,': 1, 'says': 1, 'hi': 1, 'dinners': 1, 'outshining': 1, 'halibut': 1, 'breaks': 1, 'starving': 1, '90%': 1, 'disgrace': 1, 'def': 1, 'tim': 1, 'ethic': 1, 'continue': 1, 'andddd': 1, 'date': 1, '...': 1, '(': 1, 'past,': 1, 'located': 1, 'crystals': 1, 'shopping': 1, 'aria': 1, 'summarize...': 1, 'incredible,': 1, 'nay,': 1, 'transcendant...': 1, 'brings': 1, 'joy': 1, 'memory': 1, 'pneumatic': 1, 'condiment': 1, 'dispenser': 1, 'ians': 1, 'kiddos': 1, 'bouchon': 1, 'accountant': 1, 'screwed': 1, 'eat,': 1, 'reminds': 1, 'shops': 1, 'san': 1, 'francisco': 1, 'buldogis': 1, 'gourmet': 1, 'frustrated': 1, 'petty': 1, 'iced': 1, 'hungry,': 1, '(teeth': 1, 'sore)': 1, 'needs,': 1, 'stayed': 1, 'companions': 1, 'me...everything': 1, 'ground,': 1, 'large,': 1, 'smeared,': 1, 'been-stepped-in-and-tracked-everywhere': 1, 'pile': 1, 'bird': 1, 'poop': 1, 'furthermore,': 1, 'operation': 1, 'website': 1, '10+': 1, 'expert/connisseur': 1, 'topic': 1, 'jerk': 1, 'strike': 1, '2,': 1, 'wants': 1, 'rushed': 1, 'across': 1, 'biscuits!!': 1, 'appetizer': 1, 'absolutley': 1, 'awkward': 1, '1.5lb': 1, '3/4ths': 1, 'gristle': 1, 'fat': 1, 'steiners': 1, 'familiar,': 1, 'dollars': 1, 'fs': 1, 'breakfast/lunch': 1, 'mention': 1, 'pears,': 1, 'almonds': 1, 'winner': 1, 'spicier': 1, 'prefer': 1, 'ribeye': 1, 'mesquite': 1, 'gooodd': 1, 'connoisseur': 1, 'difference': 1, 'certainly': 1, 'contained': 1, 'mouthful,': 1, 'enjoyable': 1, 'relaxed': 1, 'venue': 1, 'couples': 1, 'groups': 1, 'etc': 1, 'nargile': 1, 'tater': 1, 'southwest': 1, '$3': 1, 'vanilla': 1, 'smooth': 1, 'profiterole': 1, '(choux)': 1, 'pastry': 1, 'im': 1, 'az': 1, \"carly's\": 1, 'due': 1, 'acknowledged,': 1, 'food...and': 1, 'forgetting': 1, 'margaritas,': 1, 'note': 1, 'ventilation': 1, 'upgrading': 1, 'letdown,': 1, 'camelback': 1, 'shop': 1, 'cartel': 1, 'third,': 1, 'trimmed': 1, '70+': 1, 'claimed': 1, 'handled': 1, 'beautifully': 1, 'jewel': 1, 'las': 1, 'exactly': 1, 'hoping': 1, 'nearly': 1, 'living': 1, 'limited': 1, 'boiled': 1, 'restaurant,': 1, 'toro': 1, 'tartare': 1, 'cavier': 1, 'extraordinary': 1, 'thinly': 1, 'wagyu': 1, 'truffle': 1, 'attached': 1, 'gas': 1, 'station,': 1, 'sign': 1, 'decide': 1, 'humiliated': 1, 'worker': 1, 'me..bunch': 1, 'name': 1, 'callings': 1, 'conclusion:': 1, 'daily': 1, 'specials': 1, 'tragedy': 1, 'struck': 1, 'pancake': 1, 'crawfish': 1, 'monster': 1, 'funny': 1, \"mom's\": 1, 'multi-grain': 1, 'pumpkin': 1, 'pecan': 1, 'butter': 1, 'fluffy,': 1, 'airline': 1, 'noca': 1, 'gyro': 1, 'lettuce': 1, 'thoroughly': 1, 'pasta,': 1, '/hand': 1, 'pastas': 1, 'try,': 1, 'cheesecurds': 1, 'typical': 1, 'glance': 1, 'ambiance,': 1, 'finger': 1, 'item': 1, 'beauty,': 1, \"haven't\": 1, 'greasy,': 1, 'unhealthy': 1, 'might': 1, 'similarly,': 1, 'delivery': 1, 'man': 1, 'word': 1, 'apology': 1, '45': 1, 'expensive': 1, 'dessert,': 1, 'pack': 1, 'to-go': 1, 'tiramisu': 1, 'cannoli': 1, 'up....way': 1, '(just': 1, 'sat,': 1, 'sun': 1, 'bunch': 1, 'interesting,': 1, 'meats': 1, 'from,': 1, 'experienced': 1, 'frenchman': 1, 'sides,': 1, 'wine,': 1, 'martini': 1, 'opinion': 1, 'gc': 1, 'sample': 1, 'thirty': 1, '(although': 1, 'vacant': 1, 'waiting)': 1, 'yellowtail': 1, 'carpaccio': 1, 'no,': 1, 'strangers': 1, 'enough..': 1, '\"hello,': 1, 'you.': 1, 'strange': 1, 'donut': 1, 'saving': 1, 'disgraceful': 1, 'particular': 1, 'suffers': 1, '*heart*': 1, 'greens': 1, 'hearts': 1, 'palm': 1, 'belly': 1, 'hankering': 1, 'forth': 1, '\"are': 1, 'helped?': 1, 'hour...': 1, 'consider': 1, 'theft': 1, 'eew...': 1, 'complete': 1, 'overhaul': 1, 'witnessed': 1, 'guests': 1, 'regularly,': 1, 'old,': 1, 'swung': 1, 'deeply': 1, 'efficient': 1, 'service:': 1, 'fan,': 1, 'sucker': 1, 'dry!!': 1, '100%': 1, '15': 1, 'acknowledged': 1, 'olives': 1, 'perpared': 1, 'giant': 1, 'slices': 1, 'toast,': 1, 'lightly': 1, 'dusted': 1, 'powdered': 1, 'sugar': 1, 'play': 1, 'fo': 1, 'accomodate': 1, 'vegan/veggie': 1, 'omg': 1, '\"crumby\"': 1, 'pale': 1, 'instead': 1, 'croutons': 1, 'plus': 1, \"it'll\": 1, 'trips': 1, 'crema': 1, 'café': 1, 'expanded;': 1, 'miss': 1, 'wish': 1, 'philadelphia': 1, 'fast,': 1, 'but,': 1, 'order,': 1, 'crisp': 1, 'value,': 1, 'north': 1, 'scottsdale...': 1, '!....the': 1, 'quit': 1, 'soooooo': 1, 'wrap': 1, 'freaking': 1, 'papers': 1, 'reheated': 1, 'wedges': 1, 'sorry,': 1, 'absolute': 1, 'tongue': 1, 'cheek': 1, 'bloody': 1, 'mary': 1, 'despite': 1, 'rate': 1, 'businesses,': 1, 'disappointing!!': 1, 'yellow': 1, 'saffron': 1, 'seasoning': 1, 'thru': 1, 'somehow': 1, 'luck': 1, 'non-customer': 1, 'grandmother': 1, 'ignored': 1, 'hostess': 1, 'myself': 1, 'helpful,': 1, 'boys': 1, 'four': 1, 'blue': 1, 'shirt': 1, 'letting': 1, 'evening,': 1, 'drastically': 1, 'high-quality': 1, 'caesar': 1, 'promptly': 1, 'madhouse': 1, 'proven': 1, 'dead': 1, 'bar,': 1, 'seated,': 1, 'greatest': 1, 'moods': 1, 'macarons': 1, 'insanely': 1, 'informative': 1, \"weren't\": 1, 'somewhat': 1, 'fails': 1, 'deliver': 1, '$35': 1, 'plater': 1, 'relax': 1, 'sit-down': 1, 'together': 1, 'them,': 1, 'poorly': 1, 'constructed': 1, 'hands': 1, 'screams': 1, '\"legit\"': 1, \"book...somethat's\": 1, 'duo': 1, 'violinists': 1, 'songs': 1, 'requested': 1, 'personally': 1, 'hummus,': 1, 'pita,': 1, 'baklava,': 1, 'falafels': 1, 'baba': 1, 'ganoush': 1, \"(it's\": 1, 'eggplant!)': 1, 'convenient,': 1, 'mgm': 1, 'courteous': 1, 'eclectic': 1, 'onion': 1, 'rings': 1, '(even': 1, 'pictures': 1, 'him)': 1, 'nobu,': 1, 'google': 1, 'imagine': 1, 'smashburger': 1, 'lover': 1, 'gem': 1, '!!': 1, 'plantains': 1, 'giving': 1, 'spends': 1, 'talking': 1, 'themselves': 1, 'dessert:': 1, 'panna': 1, 'cotta': 1, 'atmosphere.': 1, 'reasonable,': 1, 'flavors': 1, 'on,': 1, 'made,': 1, 'slaw': 1, 'drenched': 1, 'mayo': 1, 'piano': 1, 'soundtrack': 1, 'amazing...rge': 1, 'fillet': 1, 'relleno': 1, 'sergeant': 1, 'pepper': 1, 'auju': 1, 'hawaiian': 1, 'breeze,': 1, 'mango': 1, 'magic,': 1, 'pineapple': 1, 'smoothies': 1, \"they're\": 1, 'mortified': 1, 'anyways,': 1, 'dripping': 1, 'grease,': 1, 'mostly': 1, '2007': 1, 'awesome!': 1, 'hospitality': 1, 'industry': 1, 'paradise': 1, 'refrained': 1, 'recommending': 1, 'cibo': 1, '\"to': 1, 'go\"': 1, 'mean': 1, 'famous': 1, 'terrible!?': 1, 'said,': 1, 'mouths': 1, 'bellies': 1, 'up!': 1, 'reading': 1, 'pizza,': 1, 'reminded': 1, 'legit': 1, 'pros': 1, 'simple': 1, 'menu/': 1, 'dough': 1, 'tonight': 1, 'elk': 1, 'special...and': 1, 'bite,': 1, 'hooked': 1, 'classics': 1, 'sorely': 1, 'cute,': 1, 'quaint,': 1, 'simple,': 1, 'deliciously': 1, 'fry': 1, 'always,': 1, 'compliments': 1, 'thanks': 1, 'dylan': 1, 't.': 1, ':)': 1, 'tummy': 1, 'gratuity': 1, 'larger': 1, '6': 1, '8,': 1, 'fly': 1, 'apple': 1, 'juice..': 1, 'fly!!!!!!!': 1, 'han': 1, 'nan': 1, 'lukewarm,': 1, \"ryan's\": 1, 'edinburgh': 1, 'revisiting': 1, 'naan': 1, 'pine': 1, 'nut': 1, '--': 1, 'touched': 1, 'airport': 1, 'speedy,': 1, 'calligraphy': 1, 'stood': 1, 'begin': 1, 'awkwardly': 1, 'opened': 1, 'impressed,': 1, 'guest': 1, 'extensive': 1, 'provides': 1, 'dinner,': 1, 'wide': 1, 'array': 1, 'inflate,': 1, 'smaller': 1, 'grow': 1, 'rapidly': 1, 'lil': 1, 'fuzzy': 1, 'salad,': 1, 'fabulous': 1, 'wontons': 1, 'thin,': 1, 'thick': 1, 'chewy,': 1, 'level': 1, 'perfect,': 1, 'spice': 1, 'over-whelm': 1, 'main': 1, 'crowd': 1, 'older': 1, 'crowd,': 1, '30s': 1, 'arepas': 1, 'jalapeno': 1, 'thats': 1, 'shoe': 1, 'leather': 1, 'here!!!': 1, 'block': 1, 'house,': 1, 'low-key,': 1, 'non-fancy,': 1, 'affordable': 1, 'prices,': 1, '*': 1, 'sour': 1, 'soups': 1, 'sunday': 1, '\"real': 1, 'traditional': 1, 'hunan': 1, 'style\"': 1, 'me,': 1, 'flair': 1, 'bartenders': 1, 'margaritas': 1, 'nutshell:': 1, '1)': 1, 'restaraunt': 1, 'smells': 1, 'market': 1, 'sewer': 1, \"girlfriend's\": 1, 'veal': 1, 'satifying': 1, 'join': 1, 'club': 1, 'via': 1, 'email': 1, '(me)': 1, 'likes': 1, 'case,': 1, 'colder': 1, 'describing': 1, 'tepid': 1, 'chains,': 1, 'fan': 1, 'of,': 1, 'easily': 1, 'words': 1, 'crowds': 1, 'juries,': 1, 'lawyers,': 1, 'court': 1, 'arrives': 1, 'paying': 1, '$7.85': 1, 'looks': 1, \"kid's\": 1, 'wienerschnitzel': 1, 'idea': 1, 'classic': 1, 'maine': 1, 'roll': 1, 'brother': 1, 'law': 1, 'works': 1, 'day,': 1, 'hereas': 1, 'event': 1, 'held': 1, 'great!!!!!!!!!!!!!': 1, \"you'll\": 1, 'pissd': 1, 'surprise': 1, 'golden-crispy': 1, 'hopes': 1, 'grill,': 1, 'unfortunately': 1, 'flat,': 1, 'flat': 1, 'bruschetta': 1, 'devine': 1, 'employee': 1, 'ok': 1, 'lastly,': 1, 'mozzarella': 1, 'sticks,': 1, 'negligent': 1, 'unwelcome...': 1, 'suggest': 1, 'overpriced,': 1, 'consistent': 1, 'boba,': 1, 'packed!': 1, 'seasonal': 1, 'fruit': 1, 'peach': 1, 'puree': 1, 'officially': 1, 'honestly': 1, 'blown': 1, 'put': 1, 'plastic': 1, 'containers': 1, 'opposed': 1, 'cramming': 1, 'takeout': 1, 'boxes': 1, 'crêpe': 1, 'delicate': 1, 'fair': 1, 'kabuki': 1, 'over-priced,': 1, 'over-hip': 1, 'under-services': 1, 'ever,': 1, 'maria': 1, 'surprised': 1, 'article': 1, 'read': 1, 'spices': 1, 'fucking': 1, \"caballero's\": 1, 'head,': 1, 'visit,': 1, 'oysters': 1, 'round': 1, 'disbelief,': 1, 'qualified': 1, 'version': 1, 'foods': 1, 'not,': 1, 'low': 1, 'tolerance': 1, 'people,': 1, 'polite,': 1, 'wash': 1, 'otherwise!': 1, 'biscuit': 1, 'hated': 1, '(coconut': 1, 'shrimp),': 1, 'meals,': 1, 'fella': 1, 'huevos': 1, 'rancheros': 1, 'appealing': 1, 'hour,': 1, 'wines': 1, 'pricey': 1, 'food/service': 1, 'temp.i': 1, 'prepare': 1, 'bare': 1, 'hands,': 1, 'gloves.everything': 1, 'deep': 1, 'oil': 1, 'pleasure': 1, 'plethora': 1, 'sandwiches,': 1, 'gets': 1, 'seal': 1, 'approval': 1, 'light': 1, 'summer': 1, 'strip,': 1, 'helped': 1, 'college': 1, 'cooking': 1, 'class': 1, 'editing': 1, 'besides': 1, \"costco's\": 1, 'highlighted': 1, 'unique': 1, 'weird': 1, 'hardly': 1, 'bagels': 1, 'grocery': 1, 'store': 1, 'owner/chef,': 1, 'japanese': 1, 'dude': 1, 'doughy': 1, 'inch': 1, 'wire': 1, 'terrible,': 1, 'ourselves': 1, 'albondigas': 1, 'tomato': 1, 'meatballs': 1, 'occasions': 1, 'medium': 1, 'well,': 1, 'bloodiest': 1, 'refused': 1, 'anymore': 1, 'killer': 1, 'chai': 1, 'latte': 1, 'allergy': 1, 'warnings': 1, 'clue': 1, 'contain': 1, 'peanuts': 1, 'mediterranean': 1, 'rotating': 1, 'beers': 1, 'highlight': 1, 'concern': 1, 'mellow': 1, 'mushroom': 1, 'strawberry': 1, 'tea,': 1, 'unprofessional': 1, 'loyal': 1, 'patron': 1, 'occasional': 1, 'pats': 1, 'butter...': 1, 'mmmm...': 1, 'bellagio': 1, 'anticipated': 1, 'weak,': 1, '-my': 1, 'correct': 1, 'bought,': 1, 'sals': 1, 'amazing!!!!!!!!!!!!!!!!!!': 1, 'returning': 1, 'fav': 1, 'unexperienced': 1, 'employees': 1, 'chickens': 1, 'heads': 1, 'very,': 1, 'disrespected,': 1, 'call': 1, 'steakhouse': 1, 'properly': 1, 'understand': 1, 'concept': 1, 'guacamole': 1, 'puréed': 1, 'postinos,': 1, 'bette': 1, 'poisoning': 1, 'batch': 1, 'thinking': 1, 'yay': 1, 'hilarious,': 1, 'christmas': 1, 'eve': 1, 'remember': 1, 'biggest': 1, 'entire': 1, 'caring': 1, 'teamwork': 1, 'degree': 1, 'ri': 1, 'style': 1, 'calamari': 1, 'fondue,': 1, 'meal,': 1, 'forever': 1, 'ones': 1, 'scene': 1, 'it...definitely': 1, 'par': 1, \"denny's,\": 1, 'downright': 1, 'waaaaaayyyyyyyyyy': 1, 'saying': 1, 'style!': 1, 'sangria': 1, 'glass': 1, '$12,': 1, 'ridiculous': 1, 'dry,': 1, 'brisket': 1, 'neat;': 1, 'trippy,': 1, 'hurry': 1, 'reservation': 1, 'stretch': 1, 'imagination': 1, 'cashew': 1, 'undercooked': 1, 'chipolte': 1, 'ranch': 1, 'dipping': 1, 'sause': 1, 'tasteless,': 1, 'watered': 1, 'sweet,': 1, 'disappointed!': 1, 'workers': 1, 'setting,': 1, 'douchey': 1, 'indoor': 1, 'garden': 1, 'biscuits': 1, 'con:': 1, 'spotty': 1, 'neither': 1, 'out,': 1, 'ensued': 1, 'rude...': 1, 'apologize': 1, 'reason': 1, 'fill': 1, 'binge': 1, 'drinking': 1, 'carbs': 1, 'insults,': 1, 'profound': 1, 'deuchebaggery,': 1, 'smoke': 1, 'solidify': 1, \"don't'\": 1, 'combo': 1, 'ala': 1, 'cart': 1, 'blame': 1, 'placed': 1, 'rave': 1, 'here......what': 1, 'del': 1, 'avoided': 1, 'hamburger': 1, 'hell': 1, 'bac': 1, 'gotten': 1, 'services': 1, '\"ya\\'all\"': 1, 'doing': 1, 'shots': 1, 'fireball': 1, 'disapppointment': 1, 'correction,': 1, 'heimer': 1, 'pretty....off': 1, 'putting': 1, 'cause': 1, 'owned,': 1, 'vomited': 1, 'circumstances': 1, 'to,': 1, 'tops': 1, 'brownish': 1, 'obviously': 1, 'below': 1, 'movies': 1, 'ha': 1, 'flop': 1, 'problem': 1, 'charge': 1, '$11.99': 1, 'bigger': 1, 'sub': 1, '(which': 1, 'vegetables)': 1, 'shrimp-': 1, 'unwrapped': 1, '(i': 1, '1/2': 1, 'mile': 1, 'brushfire)': 1, 'flavor,': 1, 'undercooked,': 1, 'impressive': 1, \"hasn't\": 1, 'closed': 1, 'mirage': 1, 'refried': 1, 'dried': 1, 'crusty': 1, 'caterpillar': 1, 'appetite': 1, 'instantly': 1, 'underwhelming,': 1, 'ninja': 1, \"hadn't\": 1, 'wasted': 1, 'there,': 1, 'poured': 1, 'wound': 1, 'drawing': 1}\n"
     ]
    }
   ],
   "source": [
    "# I created an for loop to detect the most used words in the yelp reviews\n",
    "\n",
    "sorted_keywords = {}\n",
    "sorted_values = sorted(keywords.values(), reverse=True)\n",
    "i = 0\n",
    "for i in range(len(sorted_values)):\n",
    "    for key in keywords:\n",
    "        if keywords[key] == sorted_values[i]:\n",
    "            sorted_keywords[key] = sorted_values[i]\n",
    "print(sorted_keywords)"
   ]
  },
  {
   "cell_type": "code",
   "execution_count": 75,
   "metadata": {},
   "outputs": [],
   "source": [
    "# Out of the most used words, I chose words that would indicate sentiment\n",
    "\n",
    "sentiment_keywords = ['not', 'back', 'service', 'very', 'go', 'no', \"don't\", 'good', 'would', 'never', 'time', 'ever', 'minutes', \"won't\", 'bad', 'much', 'again', 'worst', 'disappointed', 'really', 'slow', 'waited', 'wait', 'bland', 'flavor', 'experience', 'best', 'terrible', 'definitely', 'rude', 'cold', 'taste', 'overpriced', 'poor', 'mediocre', 'management', 'off', 'impressed', 'money', 'horrible', 'sick', 'waiter', 'tasted', 'nasty', 'great', 'angry', 'honestly', 'would not', 'care', 'disgusted', 'recommended', 'not worth', 'amazing', 'liked', 'not like', 'hour', 'dirty', 'unfortunately', 'worse', 'friendly', 'love', 'loved', 'excellent', 'absolutely', 'recommend', 'was']"
   ]
  },
  {
   "cell_type": "code",
   "execution_count": 76,
   "metadata": {},
   "outputs": [],
   "source": [
    "for word in sentiment_keywords:\n",
    "    yelp_df[word] = yelp_df['review'].str.contains(\" \" + word + \" \", case=False)"
   ]
  },
  {
   "cell_type": "code",
   "execution_count": 77,
   "metadata": {
    "scrolled": true
   },
   "outputs": [
    {
     "data": {
      "text/plain": [
       "<matplotlib.axes._subplots.AxesSubplot at 0x1a229e1630>"
      ]
     },
     "execution_count": 77,
     "metadata": {},
     "output_type": "execute_result"
    },
    {
     "data": {
      "image/png": "[encoded data removed]",
      "text/plain": [
       "<Figure size 432x288 with 2 Axes>"
      ]
     },
     "metadata": {
      "needs_background": "light"
     },
     "output_type": "display_data"
    }
   ],
   "source": [
    "sns.heatmap(yelp_df.corr())"
   ]
  },
  {
   "cell_type": "code",
   "execution_count": 78,
   "metadata": {},
   "outputs": [],
   "source": [
    "data = yelp_df[sentiment_keywords]\n",
    "target = yelp_df['sentiment']"
   ]
  },
  {
   "cell_type": "code",
   "execution_count": 79,
   "metadata": {},
   "outputs": [
    {
     "name": "stdout",
     "output_type": "stream",
     "text": [
      "This model incorrectly classified 289 yelp reviews out of 1000\n"
     ]
    }
   ],
   "source": [
    "from sklearn.naive_bayes import BernoulliNB\n",
    "\n",
    "bnb = BernoulliNB()\n",
    "\n",
    "bnb.fit(data, target)\n",
    "\n",
    "y_pred = bnb.predict(data)\n",
    "\n",
    "print('This model incorrectly classified {} yelp reviews out of {}'.format((target != y_pred).sum(), len(data)))"
   ]
  },
  {
   "cell_type": "markdown",
   "metadata": {},
   "source": [
    "# IMDB reviews"
   ]
  },
  {
   "cell_type": "code",
   "execution_count": 80,
   "metadata": {},
   "outputs": [
    {
     "data": {
      "text/html": [
       "<div>\n",
       "<style scoped>\n",
       "    .dataframe tbody tr th:only-of-type {\n",
       "        vertical-align: middle;\n",
       "    }\n",
       "\n",
       "    .dataframe tbody tr th {\n",
       "        vertical-align: top;\n",
       "    }\n",
       "\n",
       "    .dataframe thead th {\n",
       "        text-align: right;\n",
       "    }\n",
       "</style>\n",
       "<table border=\"1\" class=\"dataframe\">\n",
       "  <thead>\n",
       "    <tr style=\"text-align: right;\">\n",
       "      <th></th>\n",
       "      <th>review</th>\n",
       "      <th>sentiment</th>\n",
       "    </tr>\n",
       "  </thead>\n",
       "  <tbody>\n",
       "    <tr>\n",
       "      <td>0</td>\n",
       "      <td>A very, very, very slow-moving, aimless movie ...</td>\n",
       "      <td>0</td>\n",
       "    </tr>\n",
       "    <tr>\n",
       "      <td>1</td>\n",
       "      <td>Not sure who was more lost - the flat characte...</td>\n",
       "      <td>0</td>\n",
       "    </tr>\n",
       "    <tr>\n",
       "      <td>2</td>\n",
       "      <td>Attempting artiness with black &amp; white and cle...</td>\n",
       "      <td>0</td>\n",
       "    </tr>\n",
       "    <tr>\n",
       "      <td>3</td>\n",
       "      <td>Very little music or anything to speak of.</td>\n",
       "      <td>0</td>\n",
       "    </tr>\n",
       "    <tr>\n",
       "      <td>4</td>\n",
       "      <td>The best scene in the movie was when Gerardo i...</td>\n",
       "      <td>1</td>\n",
       "    </tr>\n",
       "  </tbody>\n",
       "</table>\n",
       "</div>"
      ],
      "text/plain": [
       "                                              review  sentiment\n",
       "0  A very, very, very slow-moving, aimless movie ...          0\n",
       "1  Not sure who was more lost - the flat characte...          0\n",
       "2  Attempting artiness with black & white and cle...          0\n",
       "3         Very little music or anything to speak of.          0\n",
       "4  The best scene in the movie was when Gerardo i...          1"
      ]
     },
     "execution_count": 80,
     "metadata": {},
     "output_type": "execute_result"
    }
   ],
   "source": [
    "imdb_df = pd.read_csv('imdb_labelled.txt', delimiter='\\n')\n",
    "imdb_df['sentiment'] = imdb_df['review'].str[-1]\n",
    "imdb_df['sentiment'] = pd.to_numeric(imdb_df['sentiment'])\n",
    "imdb_df['review'] = imdb_df['review'].str[:-4]\n",
    "imdb_df.head()"
   ]
  },
  {
   "cell_type": "code",
   "execution_count": 81,
   "metadata": {},
   "outputs": [],
   "source": [
    "for word in sentiment_keywords:\n",
    "    imdb_df[word] = imdb_df['review'].str.contains(\" \" + word + \" \", case=False)"
   ]
  },
  {
   "cell_type": "code",
   "execution_count": 82,
   "metadata": {},
   "outputs": [],
   "source": [
    "data = imdb_df[sentiment_keywords]\n",
    "target = imdb_df['sentiment']"
   ]
  },
  {
   "cell_type": "code",
   "execution_count": 83,
   "metadata": {},
   "outputs": [
    {
     "name": "stdout",
     "output_type": "stream",
     "text": [
      "This model incorrectly classified 266 IMDB reviews out of 748\n"
     ]
    }
   ],
   "source": [
    "from sklearn.naive_bayes import BernoulliNB\n",
    "\n",
    "bnb = BernoulliNB()\n",
    "\n",
    "bnb.fit(data, target)\n",
    "\n",
    "y_pred = bnb.predict(data)\n",
    "\n",
    "print('This model incorrectly classified {} IMDB reviews out of {}'.format((target != y_pred).sum(), len(data)))"
   ]
  },
  {
   "cell_type": "markdown",
   "metadata": {},
   "source": [
    "# Amazon reviews"
   ]
  },
  {
   "cell_type": "code",
   "execution_count": 84,
   "metadata": {},
   "outputs": [
    {
     "data": {
      "text/html": [
       "<div>\n",
       "<style scoped>\n",
       "    .dataframe tbody tr th:only-of-type {\n",
       "        vertical-align: middle;\n",
       "    }\n",
       "\n",
       "    .dataframe tbody tr th {\n",
       "        vertical-align: top;\n",
       "    }\n",
       "\n",
       "    .dataframe thead th {\n",
       "        text-align: right;\n",
       "    }\n",
       "</style>\n",
       "<table border=\"1\" class=\"dataframe\">\n",
       "  <thead>\n",
       "    <tr style=\"text-align: right;\">\n",
       "      <th></th>\n",
       "      <th>review</th>\n",
       "      <th>sentiment</th>\n",
       "    </tr>\n",
       "  </thead>\n",
       "  <tbody>\n",
       "    <tr>\n",
       "      <td>0</td>\n",
       "      <td>So there is no way for me to plug it in here i...</td>\n",
       "      <td>0</td>\n",
       "    </tr>\n",
       "    <tr>\n",
       "      <td>1</td>\n",
       "      <td>Good case, Excellent value.</td>\n",
       "      <td>1</td>\n",
       "    </tr>\n",
       "    <tr>\n",
       "      <td>2</td>\n",
       "      <td>Great for the jawbone.</td>\n",
       "      <td>1</td>\n",
       "    </tr>\n",
       "    <tr>\n",
       "      <td>3</td>\n",
       "      <td>Tied to charger for conversations lasting more...</td>\n",
       "      <td>0</td>\n",
       "    </tr>\n",
       "    <tr>\n",
       "      <td>4</td>\n",
       "      <td>The mic is great.</td>\n",
       "      <td>1</td>\n",
       "    </tr>\n",
       "  </tbody>\n",
       "</table>\n",
       "</div>"
      ],
      "text/plain": [
       "                                              review  sentiment\n",
       "0  So there is no way for me to plug it in here i...          0\n",
       "1                        Good case, Excellent value.          1\n",
       "2                             Great for the jawbone.          1\n",
       "3  Tied to charger for conversations lasting more...          0\n",
       "4                                  The mic is great.          1"
      ]
     },
     "execution_count": 84,
     "metadata": {},
     "output_type": "execute_result"
    }
   ],
   "source": [
    "amazon_df = pd.read_csv('amazon_cells_labelled.txt', delimiter='\\n')\n",
    "amazon_df['sentiment'] = amazon_df['review'].str[-1]\n",
    "amazon_df['sentiment'] = pd.to_numeric(amazon_df['sentiment'])\n",
    "amazon_df['review'] = amazon_df['review'].str[:-2]\n",
    "amazon_df.head()"
   ]
  },
  {
   "cell_type": "code",
   "execution_count": 85,
   "metadata": {},
   "outputs": [],
   "source": [
    "for word in sentiment_keywords:\n",
    "    amazon_df[word] = amazon_df['review'].str.contains(\" \" + word + \" \", case=False)"
   ]
  },
  {
   "cell_type": "code",
   "execution_count": 86,
   "metadata": {},
   "outputs": [],
   "source": [
    "data = amazon_df[sentiment_keywords]\n",
    "target = amazon_df['sentiment']"
   ]
  },
  {
   "cell_type": "code",
   "execution_count": 87,
   "metadata": {},
   "outputs": [
    {
     "name": "stdout",
     "output_type": "stream",
     "text": [
      "This model incorrectly classified 358 amazon reviews out of 1000\n"
     ]
    }
   ],
   "source": [
    "from sklearn.naive_bayes import BernoulliNB\n",
    "\n",
    "bnb = BernoulliNB()\n",
    "\n",
    "bnb.fit(data, target)\n",
    "\n",
    "y_pred = bnb.predict(data)\n",
    "\n",
    "print('This model incorrectly classified {} amazon reviews out of {}'.format((target != y_pred).sum(), len(data)))"
   ]
  },
  {
   "cell_type": "markdown",
   "metadata": {},
   "source": [
    "# Featured engineering selection"
   ]
  },
  {
   "cell_type": "markdown",
   "metadata": {},
   "source": [
    "First I looked up the most used words in the yelp reviews. I then selected many of the 'sentimental' keywords from this most used words list. Then I created a new column for each keyword. In each column is a boolean for whether or not that word is in the review."
   ]
  },
  {
   "cell_type": "code",
   "execution_count": null,
   "metadata": {},
   "outputs": [],
   "source": []
  }
 ],
 "metadata": {
  "kernelspec": {
   "display_name": "Python 3",
   "language": "python",
   "name": "python3"
  },
  "language_info": {
   "codemirror_mode": {
    "name": "ipython",
    "version": 3
   },
   "file_extension": ".py",
   "mimetype": "text/x-python",
   "name": "python",
   "nbconvert_exporter": "python",
   "pygments_lexer": "ipython3",
   "version": "3.7.3"
  }
 },
 "nbformat": 4,
 "nbformat_minor": 2
}
