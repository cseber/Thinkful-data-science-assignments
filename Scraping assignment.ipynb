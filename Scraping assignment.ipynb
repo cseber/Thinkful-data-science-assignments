{
 "cells": [
  {
   "cell_type": "code",
   "execution_count": 8,
   "metadata": {},
   "outputs": [],
   "source": [
    "from bs4 import BeautifulSoup\n",
    "import requests\n",
    "import re\n",
    "import csv"
   ]
  },
  {
   "cell_type": "markdown",
   "metadata": {},
   "source": [
    "Scraping all of the pitcher info for every MLB game in the month of April 2019."
   ]
  },
  {
   "cell_type": "code",
   "execution_count": 9,
   "metadata": {},
   "outputs": [
    {
     "name": "stderr",
     "output_type": "stream",
     "text": [
      "2020-02-28 21:59:58 [urllib3.connectionpool] DEBUG: Starting new HTTPS connection (1): www.mlb.com:443\n",
      "2020-02-28 21:59:58 [urllib3.connectionpool] DEBUG: https://www.mlb.com:443 \"GET /probable-pitchers/2019-04-01 HTTP/1.1\" 200 77522\n",
      "2020-02-28 21:59:59 [urllib3.connectionpool] DEBUG: Starting new HTTPS connection (1): www.mlb.com:443\n"
     ]
    },
    {
     "name": "stdout",
     "output_type": "stream",
     "text": [
      "01\n"
     ]
    },
    {
     "name": "stderr",
     "output_type": "stream",
     "text": [
      "2020-02-28 22:00:00 [urllib3.connectionpool] DEBUG: https://www.mlb.com:443 \"GET /probable-pitchers/2019-04-02 HTTP/1.1\" 200 None\n",
      "2020-02-28 22:00:00 [urllib3.connectionpool] DEBUG: Starting new HTTPS connection (1): www.mlb.com:443\n"
     ]
    },
    {
     "name": "stdout",
     "output_type": "stream",
     "text": [
      "02\n"
     ]
    },
    {
     "name": "stderr",
     "output_type": "stream",
     "text": [
      "2020-02-28 22:00:01 [urllib3.connectionpool] DEBUG: https://www.mlb.com:443 \"GET /probable-pitchers/2019-04-03 HTTP/1.1\" 200 None\n",
      "2020-02-28 22:00:01 [urllib3.connectionpool] DEBUG: Starting new HTTPS connection (1): www.mlb.com:443\n"
     ]
    },
    {
     "name": "stdout",
     "output_type": "stream",
     "text": [
      "03\n"
     ]
    },
    {
     "name": "stderr",
     "output_type": "stream",
     "text": [
      "2020-02-28 22:00:03 [urllib3.connectionpool] DEBUG: https://www.mlb.com:443 \"GET /probable-pitchers/2019-04-04 HTTP/1.1\" 200 None\n",
      "2020-02-28 22:00:03 [urllib3.connectionpool] DEBUG: Starting new HTTPS connection (1): www.mlb.com:443\n"
     ]
    },
    {
     "name": "stdout",
     "output_type": "stream",
     "text": [
      "04\n"
     ]
    },
    {
     "name": "stderr",
     "output_type": "stream",
     "text": [
      "2020-02-28 22:00:04 [urllib3.connectionpool] DEBUG: https://www.mlb.com:443 \"GET /probable-pitchers/2019-04-05 HTTP/1.1\" 200 None\n",
      "2020-02-28 22:00:04 [urllib3.connectionpool] DEBUG: Starting new HTTPS connection (1): www.mlb.com:443\n"
     ]
    },
    {
     "name": "stdout",
     "output_type": "stream",
     "text": [
      "05\n"
     ]
    },
    {
     "name": "stderr",
     "output_type": "stream",
     "text": [
      "2020-02-28 22:00:07 [urllib3.connectionpool] DEBUG: https://www.mlb.com:443 \"GET /probable-pitchers/2019-04-06 HTTP/1.1\" 200 None\n",
      "2020-02-28 22:00:07 [urllib3.connectionpool] DEBUG: Starting new HTTPS connection (1): www.mlb.com:443\n"
     ]
    },
    {
     "name": "stdout",
     "output_type": "stream",
     "text": [
      "06\n"
     ]
    },
    {
     "name": "stderr",
     "output_type": "stream",
     "text": [
      "2020-02-28 22:00:08 [urllib3.connectionpool] DEBUG: https://www.mlb.com:443 \"GET /probable-pitchers/2019-04-07 HTTP/1.1\" 200 None\n",
      "2020-02-28 22:00:09 [urllib3.connectionpool] DEBUG: Starting new HTTPS connection (1): www.mlb.com:443\n"
     ]
    },
    {
     "name": "stdout",
     "output_type": "stream",
     "text": [
      "07\n"
     ]
    },
    {
     "name": "stderr",
     "output_type": "stream",
     "text": [
      "2020-02-28 22:00:10 [urllib3.connectionpool] DEBUG: https://www.mlb.com:443 \"GET /probable-pitchers/2019-04-08 HTTP/1.1\" 200 None\n",
      "2020-02-28 22:00:10 [urllib3.connectionpool] DEBUG: Starting new HTTPS connection (1): www.mlb.com:443\n"
     ]
    },
    {
     "name": "stdout",
     "output_type": "stream",
     "text": [
      "08\n"
     ]
    },
    {
     "name": "stderr",
     "output_type": "stream",
     "text": [
      "2020-02-28 22:00:11 [urllib3.connectionpool] DEBUG: https://www.mlb.com:443 \"GET /probable-pitchers/2019-04-09 HTTP/1.1\" 200 None\n",
      "2020-02-28 22:00:11 [urllib3.connectionpool] DEBUG: Starting new HTTPS connection (1): www.mlb.com:443\n"
     ]
    },
    {
     "name": "stdout",
     "output_type": "stream",
     "text": [
      "09\n"
     ]
    },
    {
     "name": "stderr",
     "output_type": "stream",
     "text": [
      "2020-02-28 22:00:13 [urllib3.connectionpool] DEBUG: https://www.mlb.com:443 \"GET /probable-pitchers/2019-04-10 HTTP/1.1\" 200 None\n",
      "2020-02-28 22:00:13 [urllib3.connectionpool] DEBUG: Starting new HTTPS connection (1): www.mlb.com:443\n"
     ]
    },
    {
     "name": "stdout",
     "output_type": "stream",
     "text": [
      "10\n"
     ]
    },
    {
     "name": "stderr",
     "output_type": "stream",
     "text": [
      "2020-02-28 22:00:14 [urllib3.connectionpool] DEBUG: https://www.mlb.com:443 \"GET /probable-pitchers/2019-04-11 HTTP/1.1\" 200 None\n",
      "2020-02-28 22:00:14 [urllib3.connectionpool] DEBUG: Starting new HTTPS connection (1): www.mlb.com:443\n"
     ]
    },
    {
     "name": "stdout",
     "output_type": "stream",
     "text": [
      "11\n"
     ]
    },
    {
     "name": "stderr",
     "output_type": "stream",
     "text": [
      "2020-02-28 22:00:15 [urllib3.connectionpool] DEBUG: https://www.mlb.com:443 \"GET /probable-pitchers/2019-04-12 HTTP/1.1\" 200 None\n",
      "2020-02-28 22:00:16 [urllib3.connectionpool] DEBUG: Starting new HTTPS connection (1): www.mlb.com:443\n"
     ]
    },
    {
     "name": "stdout",
     "output_type": "stream",
     "text": [
      "12\n"
     ]
    },
    {
     "name": "stderr",
     "output_type": "stream",
     "text": [
      "2020-02-28 22:00:17 [urllib3.connectionpool] DEBUG: https://www.mlb.com:443 \"GET /probable-pitchers/2019-04-13 HTTP/1.1\" 200 None\n",
      "2020-02-28 22:00:17 [urllib3.connectionpool] DEBUG: Starting new HTTPS connection (1): www.mlb.com:443\n"
     ]
    },
    {
     "name": "stdout",
     "output_type": "stream",
     "text": [
      "13\n"
     ]
    },
    {
     "name": "stderr",
     "output_type": "stream",
     "text": [
      "2020-02-28 22:00:19 [urllib3.connectionpool] DEBUG: https://www.mlb.com:443 \"GET /probable-pitchers/2019-04-14 HTTP/1.1\" 200 None\n",
      "2020-02-28 22:00:19 [urllib3.connectionpool] DEBUG: Starting new HTTPS connection (1): www.mlb.com:443\n"
     ]
    },
    {
     "name": "stdout",
     "output_type": "stream",
     "text": [
      "14\n"
     ]
    },
    {
     "name": "stderr",
     "output_type": "stream",
     "text": [
      "2020-02-28 22:00:20 [urllib3.connectionpool] DEBUG: https://www.mlb.com:443 \"GET /probable-pitchers/2019-04-15 HTTP/1.1\" 200 None\n",
      "2020-02-28 22:00:20 [urllib3.connectionpool] DEBUG: Starting new HTTPS connection (1): www.mlb.com:443\n"
     ]
    },
    {
     "name": "stdout",
     "output_type": "stream",
     "text": [
      "15\n"
     ]
    },
    {
     "name": "stderr",
     "output_type": "stream",
     "text": [
      "2020-02-28 22:00:22 [urllib3.connectionpool] DEBUG: https://www.mlb.com:443 \"GET /probable-pitchers/2019-04-16 HTTP/1.1\" 200 None\n",
      "2020-02-28 22:00:22 [urllib3.connectionpool] DEBUG: Starting new HTTPS connection (1): www.mlb.com:443\n"
     ]
    },
    {
     "name": "stdout",
     "output_type": "stream",
     "text": [
      "16\n"
     ]
    },
    {
     "name": "stderr",
     "output_type": "stream",
     "text": [
      "2020-02-28 22:00:23 [urllib3.connectionpool] DEBUG: https://www.mlb.com:443 \"GET /probable-pitchers/2019-04-17 HTTP/1.1\" 200 None\n",
      "2020-02-28 22:00:23 [urllib3.connectionpool] DEBUG: Starting new HTTPS connection (1): www.mlb.com:443\n"
     ]
    },
    {
     "name": "stdout",
     "output_type": "stream",
     "text": [
      "17\n"
     ]
    },
    {
     "name": "stderr",
     "output_type": "stream",
     "text": [
      "2020-02-28 22:00:24 [urllib3.connectionpool] DEBUG: https://www.mlb.com:443 \"GET /probable-pitchers/2019-04-18 HTTP/1.1\" 200 None\n",
      "2020-02-28 22:00:25 [urllib3.connectionpool] DEBUG: Starting new HTTPS connection (1): www.mlb.com:443\n"
     ]
    },
    {
     "name": "stdout",
     "output_type": "stream",
     "text": [
      "18\n"
     ]
    },
    {
     "name": "stderr",
     "output_type": "stream",
     "text": [
      "2020-02-28 22:00:26 [urllib3.connectionpool] DEBUG: https://www.mlb.com:443 \"GET /probable-pitchers/2019-04-19 HTTP/1.1\" 200 None\n",
      "2020-02-28 22:00:26 [urllib3.connectionpool] DEBUG: Starting new HTTPS connection (1): www.mlb.com:443\n"
     ]
    },
    {
     "name": "stdout",
     "output_type": "stream",
     "text": [
      "19\n"
     ]
    },
    {
     "name": "stderr",
     "output_type": "stream",
     "text": [
      "2020-02-28 22:00:27 [urllib3.connectionpool] DEBUG: https://www.mlb.com:443 \"GET /probable-pitchers/2019-04-20 HTTP/1.1\" 200 None\n",
      "2020-02-28 22:00:28 [urllib3.connectionpool] DEBUG: Starting new HTTPS connection (1): www.mlb.com:443\n"
     ]
    },
    {
     "name": "stdout",
     "output_type": "stream",
     "text": [
      "20\n"
     ]
    },
    {
     "name": "stderr",
     "output_type": "stream",
     "text": [
      "2020-02-28 22:00:29 [urllib3.connectionpool] DEBUG: https://www.mlb.com:443 \"GET /probable-pitchers/2019-04-21 HTTP/1.1\" 200 None\n",
      "2020-02-28 22:00:29 [urllib3.connectionpool] DEBUG: Starting new HTTPS connection (1): www.mlb.com:443\n"
     ]
    },
    {
     "name": "stdout",
     "output_type": "stream",
     "text": [
      "21\n"
     ]
    },
    {
     "name": "stderr",
     "output_type": "stream",
     "text": [
      "2020-02-28 22:00:31 [urllib3.connectionpool] DEBUG: https://www.mlb.com:443 \"GET /probable-pitchers/2019-04-22 HTTP/1.1\" 200 None\n",
      "2020-02-28 22:00:31 [urllib3.connectionpool] DEBUG: Starting new HTTPS connection (1): www.mlb.com:443\n"
     ]
    },
    {
     "name": "stdout",
     "output_type": "stream",
     "text": [
      "22\n"
     ]
    },
    {
     "name": "stderr",
     "output_type": "stream",
     "text": [
      "2020-02-28 22:00:32 [urllib3.connectionpool] DEBUG: https://www.mlb.com:443 \"GET /probable-pitchers/2019-04-23 HTTP/1.1\" 200 None\n",
      "2020-02-28 22:00:32 [urllib3.connectionpool] DEBUG: Starting new HTTPS connection (1): www.mlb.com:443\n"
     ]
    },
    {
     "name": "stdout",
     "output_type": "stream",
     "text": [
      "23\n"
     ]
    },
    {
     "name": "stderr",
     "output_type": "stream",
     "text": [
      "2020-02-28 22:00:33 [urllib3.connectionpool] DEBUG: https://www.mlb.com:443 \"GET /probable-pitchers/2019-04-24 HTTP/1.1\" 200 None\n",
      "2020-02-28 22:00:34 [urllib3.connectionpool] DEBUG: Starting new HTTPS connection (1): www.mlb.com:443\n"
     ]
    },
    {
     "name": "stdout",
     "output_type": "stream",
     "text": [
      "24\n"
     ]
    },
    {
     "name": "stderr",
     "output_type": "stream",
     "text": [
      "2020-02-28 22:00:35 [urllib3.connectionpool] DEBUG: https://www.mlb.com:443 \"GET /probable-pitchers/2019-04-25 HTTP/1.1\" 200 None\n",
      "2020-02-28 22:00:35 [urllib3.connectionpool] DEBUG: Starting new HTTPS connection (1): www.mlb.com:443\n"
     ]
    },
    {
     "name": "stdout",
     "output_type": "stream",
     "text": [
      "25\n"
     ]
    },
    {
     "name": "stderr",
     "output_type": "stream",
     "text": [
      "2020-02-28 22:00:36 [urllib3.connectionpool] DEBUG: https://www.mlb.com:443 \"GET /probable-pitchers/2019-04-26 HTTP/1.1\" 200 None\n",
      "2020-02-28 22:00:37 [urllib3.connectionpool] DEBUG: Starting new HTTPS connection (1): www.mlb.com:443\n"
     ]
    },
    {
     "name": "stdout",
     "output_type": "stream",
     "text": [
      "26\n"
     ]
    },
    {
     "name": "stderr",
     "output_type": "stream",
     "text": [
      "2020-02-28 22:00:38 [urllib3.connectionpool] DEBUG: https://www.mlb.com:443 \"GET /probable-pitchers/2019-04-27 HTTP/1.1\" 200 None\n",
      "2020-02-28 22:00:38 [urllib3.connectionpool] DEBUG: Starting new HTTPS connection (1): www.mlb.com:443\n"
     ]
    },
    {
     "name": "stdout",
     "output_type": "stream",
     "text": [
      "27\n"
     ]
    },
    {
     "name": "stderr",
     "output_type": "stream",
     "text": [
      "2020-02-28 22:00:39 [urllib3.connectionpool] DEBUG: https://www.mlb.com:443 \"GET /probable-pitchers/2019-04-28 HTTP/1.1\" 200 None\n",
      "2020-02-28 22:00:40 [urllib3.connectionpool] DEBUG: Starting new HTTPS connection (1): www.mlb.com:443\n"
     ]
    },
    {
     "name": "stdout",
     "output_type": "stream",
     "text": [
      "28\n"
     ]
    },
    {
     "name": "stderr",
     "output_type": "stream",
     "text": [
      "2020-02-28 22:00:41 [urllib3.connectionpool] DEBUG: https://www.mlb.com:443 \"GET /probable-pitchers/2019-04-29 HTTP/1.1\" 200 None\n",
      "2020-02-28 22:00:41 [urllib3.connectionpool] DEBUG: Starting new HTTPS connection (1): www.mlb.com:443\n"
     ]
    },
    {
     "name": "stdout",
     "output_type": "stream",
     "text": [
      "29\n"
     ]
    },
    {
     "name": "stderr",
     "output_type": "stream",
     "text": [
      "2020-02-28 22:00:42 [urllib3.connectionpool] DEBUG: https://www.mlb.com:443 \"GET /probable-pitchers/2019-04-30 HTTP/1.1\" 200 None\n"
     ]
    },
    {
     "name": "stdout",
     "output_type": "stream",
     "text": [
      "30\n"
     ]
    }
   ],
   "source": [
    "for i in range(1,31):\n",
    "    if i >= 1 and i <=9:\n",
    "        i = '0{}'.format(i) \n",
    "    web_url = 'https://www.mlb.com/probable-pitchers/2019-04-{}'.format(i)\n",
    "    source = requests.get(web_url).text\n",
    "    soup = BeautifulSoup(source, 'lxml')\n",
    "\n",
    "    date = '{}-{}-{}'.format(web_url[-5:-3], web_url[-2:], web_url[-10:-6])\n",
    "\n",
    "    for table in soup.find_all('div', class_=re.compile('probable-pitchers__matchup probable-pitchers__matchup--[0-9]+')):\n",
    "\n",
    "        game_state = table.find('span', class_='probable-pitchers__game-state probable-pitchers__game-state--postponed')\n",
    "\n",
    "        if game_state != None:\n",
    "            continue\n",
    "\n",
    "        away_team = table.find('span', class_='probable-pitchers__team-name probable-pitchers__team-name--away').text.strip()\n",
    "        home_team = table.find('span', class_='probable-pitchers__team-name probable-pitchers__team-name--home').text.strip()\n",
    "\n",
    "        pitchers = table.find_all('div', class_='probable-pitchers__pitcher-summary')\n",
    "\n",
    "        away_pitcher_info = pitchers[0]\n",
    "        home_pitcher_info = pitchers[1]\n",
    "\n",
    "        away_pitcher = away_pitcher_info.find('div', class_='probable-pitchers__pitcher-name').text.strip()\n",
    "        home_pitcher = home_pitcher_info.find('div', class_='probable-pitchers__pitcher-name').text.strip()\n",
    "\n",
    "        if away_pitcher == 'TBD':\n",
    "            away_pitcher_hand = ''\n",
    "            away_pitcher_wins = ''\n",
    "            away_pitcher_losses = ''\n",
    "            away_pitcher_ERA = ''\n",
    "            away_pitcher_total_SO = ''\n",
    "            \n",
    "        else:\n",
    "            away_pitcher_hand = away_pitcher_hand = away_pitcher_info.find('span', class_='probable-pitchers__pitcher-pitch-hand').text.strip()\n",
    "            away_pitcher_wins =  away_pitcher_wins = away_pitcher_info.find('span', class_='probable-pitchers__pitcher-wins').text.strip()\n",
    "            away_pitcher_losses = away_pitcher_losses = away_pitcher_info.find('span', class_='probable-pitchers__pitcher-losses').text.strip()\n",
    "            away_pitcher_ERA = away_pitcher_ERA = away_pitcher_info.find('span', class_='probable-pitchers__pitcher-era').text.strip()[:4]\n",
    "            away_pitcher_total_SO = away_pitcher_total_SO = away_pitcher_info.find('span', class_='probable-pitchers__pitcher-so').text.split(' ')[0]\n",
    "            \n",
    "        if home_pitcher == 'TBD':\n",
    "            home_pitcher_hand = ''\n",
    "            home_pitcher_wins = ''\n",
    "            home_pitcher_losses = ''\n",
    "            home_pitcher_ERA = ''\n",
    "            home_pitcher_total_SO = ''\n",
    "            \n",
    "        else:\n",
    "            home_pitcher_hand = home_pitcher_info.find('span', class_='probable-pitchers__pitcher-pitch-hand').text.strip()\n",
    "            home_pitcher_wins = home_pitcher_info.find('span', class_='probable-pitchers__pitcher-wins').text.strip()\n",
    "            home_pitcher_losses = home_pitcher_info.find('span', class_='probable-pitchers__pitcher-losses').text.strip()\n",
    "            home_pitcher_ERA = home_pitcher_info.find('span', class_='probable-pitchers__pitcher-era').text.strip()[:4]\n",
    "            home_pitcher_total_SO = home_pitcher_info.find('span', class_='probable-pitchers__pitcher-so').text.split(' ')[0]\n",
    "\n",
    "\n",
    "        with open('2019_MLB_Probable_Pitchers.csv', 'a') as csv_file:\n",
    "            csv_writer = csv.writer(csv_file)\n",
    "            csv_writer.writerow([date, away_team, home_team, home_pitcher, home_pitcher_hand, home_pitcher_wins, \n",
    "                                  home_pitcher_losses, home_pitcher_ERA, home_pitcher_total_SO,\n",
    "                                  away_pitcher, away_pitcher_hand, away_pitcher_wins, away_pitcher_losses, \n",
    "                                  away_pitcher_ERA, away_pitcher_total_SO])\n",
    "    print(i)"
   ]
  },
  {
   "cell_type": "code",
   "execution_count": null,
   "metadata": {},
   "outputs": [],
   "source": []
  }
 ],
 "metadata": {
  "kernelspec": {
   "display_name": "Python 3",
   "language": "python",
   "name": "python3"
  },
  "language_info": {
   "codemirror_mode": {
    "name": "ipython",
    "version": 3
   },
   "file_extension": ".py",
   "mimetype": "text/x-python",
   "name": "python",
   "nbconvert_exporter": "python",
   "pygments_lexer": "ipython3",
   "version": "3.7.3"
  }
 },
 "nbformat": 4,
 "nbformat_minor": 2
}
