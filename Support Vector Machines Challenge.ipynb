{
 "cells": [
  {
   "cell_type": "code",
   "execution_count": 15,
   "metadata": {},
   "outputs": [],
   "source": [
    "import numpy as np\n",
    "import pandas as pd\n",
    "import scipy\n",
    "import matplotlib.pyplot as plt\n",
    "import seaborn as sns\n",
    "%matplotlib inline"
   ]
  },
  {
   "cell_type": "code",
   "execution_count": 16,
   "metadata": {},
   "outputs": [],
   "source": [
    "df = pd.read_csv('https://tf-assets-prod.s3.amazonaws.com/tf-curric/data-science/epi_r.csv')"
   ]
  },
  {
   "cell_type": "code",
   "execution_count": 17,
   "metadata": {},
   "outputs": [
    {
     "data": {
      "text/html": [
       "<div>\n",
       "<style scoped>\n",
       "    .dataframe tbody tr th:only-of-type {\n",
       "        vertical-align: middle;\n",
       "    }\n",
       "\n",
       "    .dataframe tbody tr th {\n",
       "        vertical-align: top;\n",
       "    }\n",
       "\n",
       "    .dataframe thead th {\n",
       "        text-align: right;\n",
       "    }\n",
       "</style>\n",
       "<table border=\"1\" class=\"dataframe\">\n",
       "  <thead>\n",
       "    <tr style=\"text-align: right;\">\n",
       "      <th></th>\n",
       "      <th>title</th>\n",
       "      <th>rating</th>\n",
       "      <th>calories</th>\n",
       "      <th>protein</th>\n",
       "      <th>fat</th>\n",
       "      <th>sodium</th>\n",
       "      <th>#cakeweek</th>\n",
       "      <th>#wasteless</th>\n",
       "      <th>22-minute meals</th>\n",
       "      <th>3-ingredient recipes</th>\n",
       "      <th>...</th>\n",
       "      <th>yellow squash</th>\n",
       "      <th>yogurt</th>\n",
       "      <th>yonkers</th>\n",
       "      <th>yuca</th>\n",
       "      <th>zucchini</th>\n",
       "      <th>cookbooks</th>\n",
       "      <th>leftovers</th>\n",
       "      <th>snack</th>\n",
       "      <th>snack week</th>\n",
       "      <th>turkey</th>\n",
       "    </tr>\n",
       "  </thead>\n",
       "  <tbody>\n",
       "    <tr>\n",
       "      <td>0</td>\n",
       "      <td>Lentil, Apple, and Turkey Wrap</td>\n",
       "      <td>2.500</td>\n",
       "      <td>426.0</td>\n",
       "      <td>30.0</td>\n",
       "      <td>7.0</td>\n",
       "      <td>559.0</td>\n",
       "      <td>0.0</td>\n",
       "      <td>0.0</td>\n",
       "      <td>0.0</td>\n",
       "      <td>0.0</td>\n",
       "      <td>...</td>\n",
       "      <td>0.0</td>\n",
       "      <td>0.0</td>\n",
       "      <td>0.0</td>\n",
       "      <td>0.0</td>\n",
       "      <td>0.0</td>\n",
       "      <td>0.0</td>\n",
       "      <td>0.0</td>\n",
       "      <td>0.0</td>\n",
       "      <td>0.0</td>\n",
       "      <td>1.0</td>\n",
       "    </tr>\n",
       "    <tr>\n",
       "      <td>1</td>\n",
       "      <td>Boudin Blanc Terrine with Red Onion Confit</td>\n",
       "      <td>4.375</td>\n",
       "      <td>403.0</td>\n",
       "      <td>18.0</td>\n",
       "      <td>23.0</td>\n",
       "      <td>1439.0</td>\n",
       "      <td>0.0</td>\n",
       "      <td>0.0</td>\n",
       "      <td>0.0</td>\n",
       "      <td>0.0</td>\n",
       "      <td>...</td>\n",
       "      <td>0.0</td>\n",
       "      <td>0.0</td>\n",
       "      <td>0.0</td>\n",
       "      <td>0.0</td>\n",
       "      <td>0.0</td>\n",
       "      <td>0.0</td>\n",
       "      <td>0.0</td>\n",
       "      <td>0.0</td>\n",
       "      <td>0.0</td>\n",
       "      <td>0.0</td>\n",
       "    </tr>\n",
       "    <tr>\n",
       "      <td>2</td>\n",
       "      <td>Potato and Fennel Soup Hodge</td>\n",
       "      <td>3.750</td>\n",
       "      <td>165.0</td>\n",
       "      <td>6.0</td>\n",
       "      <td>7.0</td>\n",
       "      <td>165.0</td>\n",
       "      <td>0.0</td>\n",
       "      <td>0.0</td>\n",
       "      <td>0.0</td>\n",
       "      <td>0.0</td>\n",
       "      <td>...</td>\n",
       "      <td>0.0</td>\n",
       "      <td>0.0</td>\n",
       "      <td>0.0</td>\n",
       "      <td>0.0</td>\n",
       "      <td>0.0</td>\n",
       "      <td>0.0</td>\n",
       "      <td>0.0</td>\n",
       "      <td>0.0</td>\n",
       "      <td>0.0</td>\n",
       "      <td>0.0</td>\n",
       "    </tr>\n",
       "    <tr>\n",
       "      <td>3</td>\n",
       "      <td>Mahi-Mahi in Tomato Olive Sauce</td>\n",
       "      <td>5.000</td>\n",
       "      <td>NaN</td>\n",
       "      <td>NaN</td>\n",
       "      <td>NaN</td>\n",
       "      <td>NaN</td>\n",
       "      <td>0.0</td>\n",
       "      <td>0.0</td>\n",
       "      <td>0.0</td>\n",
       "      <td>0.0</td>\n",
       "      <td>...</td>\n",
       "      <td>0.0</td>\n",
       "      <td>0.0</td>\n",
       "      <td>0.0</td>\n",
       "      <td>0.0</td>\n",
       "      <td>0.0</td>\n",
       "      <td>0.0</td>\n",
       "      <td>0.0</td>\n",
       "      <td>0.0</td>\n",
       "      <td>0.0</td>\n",
       "      <td>0.0</td>\n",
       "    </tr>\n",
       "    <tr>\n",
       "      <td>4</td>\n",
       "      <td>Spinach Noodle Casserole</td>\n",
       "      <td>3.125</td>\n",
       "      <td>547.0</td>\n",
       "      <td>20.0</td>\n",
       "      <td>32.0</td>\n",
       "      <td>452.0</td>\n",
       "      <td>0.0</td>\n",
       "      <td>0.0</td>\n",
       "      <td>0.0</td>\n",
       "      <td>0.0</td>\n",
       "      <td>...</td>\n",
       "      <td>0.0</td>\n",
       "      <td>0.0</td>\n",
       "      <td>0.0</td>\n",
       "      <td>0.0</td>\n",
       "      <td>0.0</td>\n",
       "      <td>0.0</td>\n",
       "      <td>0.0</td>\n",
       "      <td>0.0</td>\n",
       "      <td>0.0</td>\n",
       "      <td>0.0</td>\n",
       "    </tr>\n",
       "  </tbody>\n",
       "</table>\n",
       "<p>5 rows × 680 columns</p>\n",
       "</div>"
      ],
      "text/plain": [
       "                                         title  rating  calories  protein  \\\n",
       "0              Lentil, Apple, and Turkey Wrap    2.500     426.0     30.0   \n",
       "1  Boudin Blanc Terrine with Red Onion Confit    4.375     403.0     18.0   \n",
       "2                Potato and Fennel Soup Hodge    3.750     165.0      6.0   \n",
       "3             Mahi-Mahi in Tomato Olive Sauce    5.000       NaN      NaN   \n",
       "4                    Spinach Noodle Casserole    3.125     547.0     20.0   \n",
       "\n",
       "    fat  sodium  #cakeweek  #wasteless  22-minute meals  3-ingredient recipes  \\\n",
       "0   7.0   559.0        0.0         0.0              0.0                   0.0   \n",
       "1  23.0  1439.0        0.0         0.0              0.0                   0.0   \n",
       "2   7.0   165.0        0.0         0.0              0.0                   0.0   \n",
       "3   NaN     NaN        0.0         0.0              0.0                   0.0   \n",
       "4  32.0   452.0        0.0         0.0              0.0                   0.0   \n",
       "\n",
       "   ...  yellow squash  yogurt  yonkers  yuca  zucchini  cookbooks  leftovers  \\\n",
       "0  ...            0.0     0.0      0.0   0.0       0.0        0.0        0.0   \n",
       "1  ...            0.0     0.0      0.0   0.0       0.0        0.0        0.0   \n",
       "2  ...            0.0     0.0      0.0   0.0       0.0        0.0        0.0   \n",
       "3  ...            0.0     0.0      0.0   0.0       0.0        0.0        0.0   \n",
       "4  ...            0.0     0.0      0.0   0.0       0.0        0.0        0.0   \n",
       "\n",
       "   snack  snack week  turkey  \n",
       "0    0.0         0.0     1.0  \n",
       "1    0.0         0.0     0.0  \n",
       "2    0.0         0.0     0.0  \n",
       "3    0.0         0.0     0.0  \n",
       "4    0.0         0.0     0.0  \n",
       "\n",
       "[5 rows x 680 columns]"
      ]
     },
     "execution_count": 17,
     "metadata": {},
     "output_type": "execute_result"
    }
   ],
   "source": [
    "df.head()"
   ]
  },
  {
   "cell_type": "markdown",
   "metadata": {},
   "source": [
    "#### Target variable (rating) description"
   ]
  },
  {
   "cell_type": "code",
   "execution_count": 18,
   "metadata": {},
   "outputs": [
    {
     "data": {
      "text/plain": [
       "count    20052.000000\n",
       "mean         3.714467\n",
       "std          1.340829\n",
       "min          0.000000\n",
       "25%          3.750000\n",
       "50%          4.375000\n",
       "75%          4.375000\n",
       "max          5.000000\n",
       "Name: rating, dtype: float64"
      ]
     },
     "execution_count": 18,
     "metadata": {},
     "output_type": "execute_result"
    }
   ],
   "source": [
    "df['rating'].describe()"
   ]
  },
  {
   "cell_type": "markdown",
   "metadata": {},
   "source": [
    "The ratings are based on a scale from 0-5. However, the distribution seems heavily skewed. Half of the ratings are 4.375 or greater. To get rid of the skew, I will create a binary classifier. Ratings below 4.375 will be classified as low. Rating 4.375 or greater will be classified as high."
   ]
  },
  {
   "cell_type": "code",
   "execution_count": 19,
   "metadata": {},
   "outputs": [
    {
     "data": {
      "text/html": [
       "<div>\n",
       "<style scoped>\n",
       "    .dataframe tbody tr th:only-of-type {\n",
       "        vertical-align: middle;\n",
       "    }\n",
       "\n",
       "    .dataframe tbody tr th {\n",
       "        vertical-align: top;\n",
       "    }\n",
       "\n",
       "    .dataframe thead th {\n",
       "        text-align: right;\n",
       "    }\n",
       "</style>\n",
       "<table border=\"1\" class=\"dataframe\">\n",
       "  <thead>\n",
       "    <tr style=\"text-align: right;\">\n",
       "      <th></th>\n",
       "      <th>rating</th>\n",
       "      <th>rating_class</th>\n",
       "    </tr>\n",
       "  </thead>\n",
       "  <tbody>\n",
       "    <tr>\n",
       "      <td>0</td>\n",
       "      <td>2.500</td>\n",
       "      <td>low</td>\n",
       "    </tr>\n",
       "    <tr>\n",
       "      <td>1</td>\n",
       "      <td>4.375</td>\n",
       "      <td>high</td>\n",
       "    </tr>\n",
       "    <tr>\n",
       "      <td>2</td>\n",
       "      <td>3.750</td>\n",
       "      <td>low</td>\n",
       "    </tr>\n",
       "    <tr>\n",
       "      <td>3</td>\n",
       "      <td>5.000</td>\n",
       "      <td>high</td>\n",
       "    </tr>\n",
       "    <tr>\n",
       "      <td>4</td>\n",
       "      <td>3.125</td>\n",
       "      <td>low</td>\n",
       "    </tr>\n",
       "  </tbody>\n",
       "</table>\n",
       "</div>"
      ],
      "text/plain": [
       "   rating rating_class\n",
       "0   2.500          low\n",
       "1   4.375         high\n",
       "2   3.750          low\n",
       "3   5.000         high\n",
       "4   3.125          low"
      ]
     },
     "execution_count": 19,
     "metadata": {},
     "output_type": "execute_result"
    }
   ],
   "source": [
    "df['rating_class'] = np.where(df['rating']>=4.375, 'high', 'low')\n",
    "df[['rating', 'rating_class']].head()"
   ]
  },
  {
   "cell_type": "code",
   "execution_count": 20,
   "metadata": {},
   "outputs": [
    {
     "data": {
      "image/png": "[encoded data removed]",
      "text/plain": [
       "<Figure size 432x288 with 1 Axes>"
      ]
     },
     "metadata": {
      "needs_background": "light"
     },
     "output_type": "display_data"
    }
   ],
   "source": [
    "sns.countplot(df['rating_class'])\n",
    "plt.show()"
   ]
  },
  {
   "cell_type": "markdown",
   "metadata": {},
   "source": [
    "Now the ratings are much more balanced."
   ]
  },
  {
   "cell_type": "markdown",
   "metadata": {},
   "source": [
    "#### Let's check for missing values"
   ]
  },
  {
   "cell_type": "code",
   "execution_count": 21,
   "metadata": {},
   "outputs": [
    {
     "data": {
      "text/plain": [
       "fat             0.208608\n",
       "protein         0.207560\n",
       "sodium          0.205416\n",
       "calories        0.205316\n",
       "rating_class    0.000000\n",
       "dtype: float64"
      ]
     },
     "execution_count": 21,
     "metadata": {},
     "output_type": "execute_result"
    }
   ],
   "source": [
    "missing_data = df.isnull().sum()/df.isnull().count()\n",
    "missing_data.sort_values(ascending=False).head()"
   ]
  },
  {
   "cell_type": "markdown",
   "metadata": {},
   "source": [
    "Only the nutritional information has missing values. I will drop these columns from our model.\n",
    "#### Now let's see what other features are most correlated with our target variable."
   ]
  },
  {
   "cell_type": "code",
   "execution_count": 22,
   "metadata": {
    "scrolled": false
   },
   "outputs": [
    {
     "name": "stdout",
     "output_type": "stream",
     "text": [
      "rating            1.000000\n",
      "bon appétit       0.124549\n",
      "peanut free       0.096087\n",
      "soy free          0.092965\n",
      "tree nut free     0.081347\n",
      "bake              0.076978\n",
      "roast             0.073499\n",
      "fall              0.067343\n",
      "sauté             0.066553\n",
      "dinner            0.060957\n",
      "kosher            0.059071\n",
      "winter            0.055126\n",
      "pescatarian       0.054034\n",
      "thanksgiving      0.052990\n",
      "onion             0.049997\n",
      "grill/barbecue    0.048081\n",
      "high fiber        0.047827\n",
      "gourmet           0.047354\n",
      "no sugar added    0.047197\n",
      "tomato            0.046579\n",
      "Name: rating, dtype: float64 lime juice       -0.055399\n",
      "chartreuse       -0.059753\n",
      "weelicious       -0.060289\n",
      "créme de cacao   -0.061670\n",
      "pernod           -0.062768\n",
      "fortified wine   -0.063814\n",
      "brandy           -0.065481\n",
      "condiment        -0.076295\n",
      "non-alcoholic    -0.077476\n",
      "rum              -0.084689\n",
      "liqueur          -0.090757\n",
      "harpercollins    -0.105094\n",
      "bitters          -0.137368\n",
      "cocktail party   -0.140482\n",
      "cocktail         -0.140723\n",
      "spirit           -0.146625\n",
      "gin              -0.191400\n",
      "house & garden   -0.217911\n",
      "alcoholic        -0.224767\n",
      "drink            -0.241388\n",
      "Name: rating, dtype: float64\n"
     ]
    }
   ],
   "source": [
    "print(df.corr()['rating'].sort_values(ascending=False).head(20), df.corr()['rating'].sort_values(ascending=False).tail(20))"
   ]
  },
  {
   "cell_type": "code",
   "execution_count": 23,
   "metadata": {},
   "outputs": [
    {
     "name": "stdout",
     "output_type": "stream",
     "text": [
      "bon appétit is highly correlated with: ['bon appétit' 'gourmet']\n",
      "peanut free is highly correlated with: ['peanut free' 'soy free' 'tree nut free' 'kosher' 'pescatarian']\n",
      "soy free is highly correlated with: ['peanut free' 'soy free' 'tree nut free' 'kosher' 'pescatarian']\n",
      "tree nut free is highly correlated with: ['peanut free' 'soy free' 'tree nut free']\n",
      "bake is highly correlated with: ['bake']\n",
      "roast is highly correlated with: ['roast']\n",
      "fall is highly correlated with: ['fall']\n",
      "sauté is highly correlated with: ['sauté']\n",
      "dinner is highly correlated with: ['dinner']\n",
      "kosher is highly correlated with: ['peanut free' 'soy free' 'kosher' 'pescatarian']\n",
      "winter is highly correlated with: ['winter']\n",
      "pescatarian is highly correlated with: ['peanut free' 'soy free' 'kosher' 'pescatarian']\n",
      "thanksgiving is highly correlated with: ['thanksgiving']\n",
      "onion is highly correlated with: ['onion']\n",
      "grill/barbecue is highly correlated with: ['grill/barbecue']\n",
      "high fiber is highly correlated with: ['high fiber']\n",
      "gourmet is highly correlated with: ['bon appétit' 'gourmet']\n",
      "no sugar added is highly correlated with: ['no sugar added']\n",
      "lime juice is highly correlated with: ['lime juice']\n",
      "chartreuse is highly correlated with: ['chartreuse']\n",
      "weelicious is highly correlated with: ['weelicious']\n",
      "créme de cacao is highly correlated with: ['créme de cacao']\n",
      "pernod is highly correlated with: ['pernod']\n",
      "fortified wine is highly correlated with: ['fortified wine']\n",
      "brandy is highly correlated with: ['brandy']\n",
      "condiment is highly correlated with: ['condiment']\n",
      "non-alcoholic is highly correlated with: ['non-alcoholic']\n",
      "rum is highly correlated with: ['rum']\n",
      "liqueur is highly correlated with: ['liqueur']\n",
      "harpercollins is highly correlated with: ['harpercollins']\n",
      "bitters is highly correlated with: ['bitters']\n",
      "cocktail party is highly correlated with: ['cocktail party']\n",
      "cocktail is highly correlated with: ['cocktail']\n",
      "spirit is highly correlated with: ['spirit']\n",
      "gin is highly correlated with: ['gin']\n",
      "house & garden is highly correlated with: ['house & garden']\n",
      "alcoholic is highly correlated with: ['alcoholic' 'drink']\n",
      "drink is highly correlated with: ['alcoholic' 'drink']\n"
     ]
    }
   ],
   "source": [
    "possible_features = ['bon appétit', 'peanut free', 'soy free', 'tree nut free', 'bake', 'roast', 'fall', 'sauté',\n",
    "                     'dinner', 'kosher', 'winter', 'pescatarian', 'thanksgiving', 'onion', 'grill/barbecue',\n",
    "                     'high fiber', 'gourmet', 'no sugar added', 'lime juice', 'chartreuse', 'weelicious',\n",
    "                     'créme de cacao', 'pernod', 'fortified wine', 'brandy', 'condiment', 'non-alcoholic', 'rum',\n",
    "                     'liqueur', 'harpercollins', 'bitters', 'cocktail party', 'cocktail', 'spirit', 'gin',\n",
    "                     'house & garden', 'alcoholic', 'drink']\n",
    "\n",
    "# Let's see if the possible features are correlated with each other before adding them to our model.\n",
    "\n",
    "for col in df[possible_features].corr().columns:\n",
    "    high_corr = np.where(np.abs(df[possible_features].corr()[col]) > .65, df[possible_features].corr().index, 'Not_Strong_corr')\n",
    "    print('{} is highly correlated with: {}'.format(col, high_corr[high_corr == df[possible_features].corr().index]))"
   ]
  },
  {
   "cell_type": "markdown",
   "metadata": {},
   "source": [
    "Because of intercorrelation I will drop [gourmet, soy free, tree nut tree, kosher, pescatarian, and alcoholic] from my feature set."
   ]
  },
  {
   "cell_type": "code",
   "execution_count": 24,
   "metadata": {},
   "outputs": [],
   "source": [
    "features = ['bon appétit', 'peanut free', 'bake', 'roast', 'fall', 'sauté',\n",
    "            'dinner', 'winter', 'thanksgiving', 'onion', 'grill/barbecue',\n",
    "            'high fiber', 'no sugar added', 'lime juice', 'chartreuse', 'weelicious',\n",
    "            'créme de cacao', 'pernod', 'fortified wine', 'brandy', 'condiment', 'non-alcoholic', 'rum',\n",
    "            'liqueur', 'harpercollins', 'bitters', 'cocktail party', 'cocktail', 'spirit', 'gin',\n",
    "            'house & garden', 'drink']"
   ]
  },
  {
   "cell_type": "code",
   "execution_count": null,
   "metadata": {},
   "outputs": [
    {
     "name": "stderr",
     "output_type": "stream",
     "text": [
      "//anaconda3/lib/python3.7/site-packages/sklearn/svm/base.py:193: FutureWarning: The default value of gamma will change from 'auto' to 'scale' in version 0.22 to account better for unscaled features. Set gamma explicitly to 'auto' or 'scale' to avoid this warning.\n",
      "  \"avoid this warning.\", FutureWarning)\n"
     ]
    }
   ],
   "source": [
    "from sklearn.svm import SVC\n",
    "\n",
    "X = df[features]\n",
    "Y = df['rating_class']\n",
    "\n",
    "svm = SVC() \n",
    "svm.fit(X,Y)\n",
    "svm.score(X,Y)"
   ]
  },
  {
   "cell_type": "code",
   "execution_count": null,
   "metadata": {},
   "outputs": [],
   "source": []
  }
 ],
 "metadata": {
  "kernelspec": {
   "display_name": "Python 3",
   "language": "python",
   "name": "python3"
  },
  "language_info": {
   "codemirror_mode": {
    "name": "ipython",
    "version": 3
   },
   "file_extension": ".py",
   "mimetype": "text/x-python",
   "name": "python",
   "nbconvert_exporter": "python",
   "pygments_lexer": "ipython3",
   "version": "3.7.3"
  }
 },
 "nbformat": 4,
 "nbformat_minor": 2
}
