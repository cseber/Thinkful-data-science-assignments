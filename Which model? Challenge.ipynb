{
 "cells": [
  {
   "cell_type": "markdown",
   "metadata": {},
   "source": [
    "## For each, identify which supervised learning method(s) would be best for addressing that particular problem. Explain your reasoning and discuss your answers with your mentor.\n",
    "\n",
    "For every scenario below the first step would be the EDA. This includes cleaning data, dealing with missing values, dealing with outliers, and removing useless features."
   ]
  },
  {
   "cell_type": "markdown",
   "metadata": {},
   "source": [
    "### 1. Predict the running times of prospective Olympic sprinters using data from the last 20 Olympics.\n",
    "The target variable is continous, therefore I would use a regression model. I could compare OLS, Lasso, Ridge, ElasticNet, Random Forrest, and GradientBoosting models. Then I can choose the model which performs the best. "
   ]
  },
  {
   "cell_type": "markdown",
   "metadata": {},
   "source": [
    "### 2. You have more features (columns) than rows in your dataset.\n",
    "The target variable is unknown, so it is not clear whether to use a classification or regression model. However, it is very clear we must reduce the dimensions of the data set due to the column to row ratio. This can be done using PCA or removing the useless features."
   ]
  },
  {
   "cell_type": "markdown",
   "metadata": {},
   "source": [
    "### 3. Identify the most important characteristic predicting likelihood of being jailed before age 20.\n",
    "We could use a correlation matrix if the characteristic is continuous.\n",
    "WE could also use a gradient boosting model, and use the feature importance method."
   ]
  },
  {
   "cell_type": "markdown",
   "metadata": {},
   "source": [
    "### 4. Implement a filter to “highlight” emails that might be important to the recipient\n",
    "Our target variable is binary, hence I would use a classification model. Depending on the data set it's possible we could use a naive Bayes, Random Forest, SVM, or gradient boosting classification model."
   ]
  },
  {
   "cell_type": "markdown",
   "metadata": {},
   "source": [
    "### 5. You have 1000+ features.\n",
    "The target variable is unknown, so it is not clear whether to use a classification or regression model. However, it is very clear we must reduce the dimensions of the data set due to the large amount of features. This can be done using PCA or removing the useless features."
   ]
  },
  {
   "cell_type": "markdown",
   "metadata": {},
   "source": [
    "### 6. Predict whether someone who adds items to their cart on a website will purchase the items.\n",
    "Our target variable is binary, hence I would use a classification model. Depending on the data set it's possible we could use a naive Bayes, Random Forest, SVM, or gradient boosting classification model."
   ]
  },
  {
   "cell_type": "markdown",
   "metadata": {},
   "source": [
    "### 7. Your dataset dimensions are 982400 x 500\n",
    "The target variable is unknown, so it is not clear whether to use a classification or regression model. However, it is very clear we must reduce the dimensions of the data set due to the large amount of features. This can be done using PCA or removing the useless features."
   ]
  },
  {
   "cell_type": "markdown",
   "metadata": {},
   "source": [
    "### 8. Identify faces in an image.\n",
    "I believe a support vector machine classification model would perform best for this scenario. Using the rbf parameter, we could accurately establish margins for which the pixels in the image are classified."
   ]
  },
  {
   "cell_type": "markdown",
   "metadata": {},
   "source": [
    "### 9. Predict which of three flavors of ice cream will be most popular with boys vs girls.\n",
    "First I would obtain a random data set with equal numbers of boys and girls. We can then build a classification model to predict the most popular ice cream flavor for boys and girls."
   ]
  }
 ],
 "metadata": {
  "kernelspec": {
   "display_name": "Python 3",
   "language": "python",
   "name": "python3"
  },
  "language_info": {
   "codemirror_mode": {
    "name": "ipython",
    "version": 3
   },
   "file_extension": ".py",
   "mimetype": "text/x-python",
   "name": "python",
   "nbconvert_exporter": "python",
   "pygments_lexer": "ipython3",
   "version": "3.7.3"
  }
 },
 "nbformat": 4,
 "nbformat_minor": 2
}
