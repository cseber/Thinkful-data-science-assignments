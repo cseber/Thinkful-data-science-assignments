{
 "cells": [
  {
   "cell_type": "code",
   "execution_count": 3,
   "metadata": {},
   "outputs": [],
   "source": [
    "import numpy as np\n",
    "import pandas as pd\n",
    "import scipy\n",
    "import matplotlib.pyplot as plt\n",
    "import networkx as nx\n",
    "import spacy\n",
    "from sklearn.feature_extraction.text import TfidfVectorizer\n",
    "from nltk.util import ngrams\n",
    "import re\n",
    "%matplotlib inline"
   ]
  },
  {
   "cell_type": "code",
   "execution_count": 22,
   "metadata": {},
   "outputs": [
    {
     "name": "stdout",
     "output_type": "stream",
     "text": [
      "In my younger and more vulnerable years my father gave me some advice that I've been turning over in my mind ever since. \"Whenever you feel like criticizing any one,\" he told me, \"just remember that all the people in this world haven't had the advantages that you've had.\" He didn't say any more but we've always been unusually communicative in a reserved way, and I understood that he meant a great deal more than that. In consequence I'm inclined to reserve all judgments, a habit that has opened up many curious natures to me and also made me the victim of not a few veteran bores. The abnormal mind is quick to detect and attach itself to this quality when it appears in a normal person, and so it came about that in college I was unjustly accused of being a politician, because I was privy to the secret griefs of wild, unknown men. Most of the confidences were unsought frequently I have feigned sleep, preoccupation, or a hostile levity when I realized by some unmistakable sign that an intimate revelation was quivering on the horizon for the intimate revelations of young men or at least the terms in which they express them are usually plagiaristic and marred by obvious suppressions. Reserving judgments is a matter of infinite hope. I am still a little afraid of missing something if I forget that, as my father snobbishly suggested, and I snobbishly repeat a sense of the fundamental decencies is parcelled out unequally at birth. And, after boasting this way of my tolerance, I come to the admission that it has a limit. Conduct may be founded on the hard rock or the wet marshes but after a certain point I don't care what it's founded on. When I came back from the East last autumn I felt that I wanted the world to be in uniform and at a sort of moral attention forever; I wanted no more riotous excursions with privileged glimpses into the human heart. Only Gatsby, the man who gives his name to this book, was exempt from my reaction Gatsby who represented everything for which I have an unaffected scorn. If personality is an unbroken series of successful gestures, then there was something gorgeous about him, some heightened sensitivity to the promises of life, as if he were related to one of those intricate machines that register earthquakes ten thousand miles away. This responsiveness had nothing to do with that flabby impressionability which is dignified under the name of the \"creative temperament\" it was an extraordinary gift for hope, a romantic readiness such as I have never found in any other person and which it is not likely I shall ever find again. No Gatsby turned out all right at the end; it is what preyed on Gatsby, what foul dust floated in the wake of his dreams that temporarily closed out my interest in the abortive sorrows and short-winded elations of men.\n"
     ]
    }
   ],
   "source": [
    "# Importing the text the lazy way.\n",
    "gatsby=\"In my younger and more vulnerable years my father gave me some advice that I've been turning over in my mind ever since. \\\"Whenever you feel like criticizing any one,\\\" he told me, \\\"just remember that all the people in this world haven't had the advantages that you've had.\\\" He didn't say any more but we've always been unusually communicative in a reserved way, and I understood that he meant a great deal more than that. In consequence I'm inclined to reserve all judgments, a habit that has opened up many curious natures to me and also made me the victim of not a few veteran bores. The abnormal mind is quick to detect and attach itself to this quality when it appears in a normal person, and so it came about that in college I was unjustly accused of being a politician, because I was privy to the secret griefs of wild, unknown men. Most of the confidences were unsought--frequently I have feigned sleep, preoccupation, or a hostile levity when I realized by some unmistakable sign that an intimate revelation was quivering on the horizon--for the intimate revelations of young men or at least the terms in which they express them are usually plagiaristic and marred by obvious suppressions. Reserving judgments is a matter of infinite hope. I am still a little afraid of missing something if I forget that, as my father snobbishly suggested, and I snobbishly repeat a sense of the fundamental decencies is parcelled out unequally at birth. And, after boasting this way of my tolerance, I come to the admission that it has a limit. Conduct may be founded on the hard rock or the wet marshes but after a certain point I don't care what it's founded on. When I came back from the East last autumn I felt that I wanted the world to be in uniform and at a sort of moral attention forever; I wanted no more riotous excursions with privileged glimpses into the human heart. Only Gatsby, the man who gives his name to this book, was exempt from my reaction--Gatsby who represented everything for which I have an unaffected scorn. If personality is an unbroken series of successful gestures, then there was something gorgeous about him, some heightened sensitivity to the promises of life, as if he were related to one of those intricate machines that register earthquakes ten thousand miles away. This responsiveness had nothing to do with that flabby impressionability which is dignified under the name of the \\\"creative temperament\\\"--it was an extraordinary gift for hope, a romantic readiness such as I have never found in any other person and which it is not likely I shall ever find again. No--Gatsby turned out all right at the end; it is what preyed on Gatsby, what foul dust floated in the wake of his dreams that temporarily closed out my interest in the abortive sorrows and short-winded elations of men.\"\n",
    "\n",
    "gatsby = re.sub(r'--', ' ', gatsby)\n",
    "\n",
    "print(gatsby)\n",
    "\n",
    "# We want to use the standard english-language parser.\n",
    "parser = spacy.load('en')\n",
    "\n",
    "# Parsing Gatsby.\n",
    "gatsby = parser(gatsby)\n",
    "\n",
    "sentences=[sent.text for sent in list(gatsby.sents)]\n",
    "\n",
    "# Creating the tf-idf matrix.\n",
    "counter = TfidfVectorizer(lowercase=False, \n",
    "                          stop_words='english',\n",
    "                          ngram_range=(1, 1), \n",
    "                          analyzer=u'word', \n",
    "                          max_df=.5, \n",
    "                          min_df=1,\n",
    "                          max_features=None, \n",
    "                          vocabulary=None, \n",
    "                          binary=False)\n",
    "\n",
    "#Applying the vectorizer\n",
    "data_counts=counter.fit_transform(sentences)"
   ]
  },
  {
   "cell_type": "code",
   "execution_count": 26,
   "metadata": {},
   "outputs": [
    {
     "data": {
      "text/plain": [
       "<18x196 sparse matrix of type '<class 'numpy.float64'>'\n",
       "\twith 210 stored elements in Compressed Sparse Row format>"
      ]
     },
     "execution_count": 26,
     "metadata": {},
     "output_type": "execute_result"
    }
   ],
   "source": [
    "data_counts"
   ]
  },
  {
   "cell_type": "code",
   "execution_count": 23,
   "metadata": {},
   "outputs": [
    {
     "data": {
      "text/plain": [
       "[(\"In my younger and more vulnerable years my father gave me some advice that I've been turning over in my mind ever since.\",\n",
       "  0.05971454770349938),\n",
       " ('No Gatsby turned out all right at the end; it is what preyed on Gatsby, what foul dust floated in the wake of his dreams that temporarily closed out my interest in the abortive sorrows and short-winded elations of men.',\n",
       "  0.057124211288780036),\n",
       " (\"but we've always been unusually communicative in a reserved way, and I understood that he meant a great deal more than that.\",\n",
       "  0.05703463958380199),\n",
       " ('The abnormal mind is quick to detect and attach itself to this quality when it appears in a normal person, and so it came about that in college I was unjustly accused of being a politician, because I was privy to the secret griefs of wild, unknown men.',\n",
       "  0.056429913139782725),\n",
       " ('Reserving judgments is a matter of infinite hope.', 0.05639481220707985),\n",
       " (\"He didn't say any more\", 0.05555555555555555),\n",
       " ('at least the terms in which they express them are usually plagiaristic and marred by obvious suppressions.',\n",
       "  0.05555555555555555),\n",
       " (\"Conduct may be founded on the hard rock or the wet marshes but after a certain point I don't care what it's founded on.\",\n",
       "  0.05555555555555555),\n",
       " ('If personality is an unbroken series of successful gestures, then there was something gorgeous about him, some heightened sensitivity to the promises of life, as if he were related to one of those intricate machines that register earthquakes ten thousand miles away.',\n",
       "  0.05555555555555555),\n",
       " ('This responsiveness had nothing to do with that flabby impressionability which is dignified under the name of the \"creative temperament\"',\n",
       "  0.05555555555555555),\n",
       " ('\"Whenever you feel like criticizing any one,\" he told me, \"just remember that all the people in this world haven\\'t had the advantages that you\\'ve had.\"',\n",
       "  0.05525789848539902),\n",
       " ('it was an extraordinary gift for hope, a romantic readiness such as I have never found in any other person and which it is not likely I shall ever find again.',\n",
       "  0.05514485286285564),\n",
       " ('Only Gatsby, the man who gives his name to this book, was exempt from my reaction Gatsby who represented everything for which I have an unaffected scorn.',\n",
       "  0.05500192848641969),\n",
       " (\"In consequence I'm inclined to reserve all judgments, a habit that has opened up many curious natures to me and also made me the victim of not a few veteran bores.\",\n",
       "  0.05461934715270258),\n",
       " ('When I came back from the East last autumn I felt that I wanted the world to be in uniform and at a sort of moral attention forever; I wanted no more riotous excursions with privileged glimpses into the human heart.',\n",
       "  0.05407266917659681),\n",
       " ('And, after boasting this way of my tolerance, I come to the admission that it has a limit.',\n",
       "  0.05392586171438142),\n",
       " ('Most of the confidences were unsought frequently I have feigned sleep, preoccupation, or a hostile levity when I realized by some unmistakable sign that an intimate revelation was quivering on the horizon for the intimate revelations of young men or',\n",
       "  0.05389894697544066),\n",
       " ('I am still a little afraid of missing something if I forget that, as my father snobbishly suggested, and I snobbishly repeat a sense of the fundamental decencies is parcelled out unequally at birth.',\n",
       "  0.05360259344548257)]"
      ]
     },
     "execution_count": 23,
     "metadata": {},
     "output_type": "execute_result"
    }
   ],
   "source": [
    "# Calculating similarity\n",
    "similarity = data_counts * data_counts.T\n",
    "\n",
    "# Identifying the sentence with the highest rank.\n",
    "nx_graph = nx.from_scipy_sparse_matrix(similarity)\n",
    "ranks=nx.pagerank(nx_graph, alpha=.85, tol=.00000001)\n",
    "\n",
    "ranked = sorted(ranks.items(), key=lambda x: x[1], reverse=True)\n",
    "ranked = [(sentences[x[0]], x[1]) for x in ranked]\n",
    "ranked"
   ]
  },
  {
   "cell_type": "markdown",
   "metadata": {},
   "source": [
    "# Keyword summarization"
   ]
  },
  {
   "cell_type": "code",
   "execution_count": 24,
   "metadata": {},
   "outputs": [
    {
     "name": "stdout",
     "output_type": "stream",
     "text": [
      "done!\n"
     ]
    }
   ],
   "source": [
    "# Removing stop words and punctuation, then getting a list of all unique words in the text\n",
    "gatsby_filt = [word for word in gatsby if word.is_stop==False and (word.pos_=='NOUN' or word.pos_=='ADJ')]\n",
    "words=set(gatsby_filt)\n",
    "\n",
    "#Creating a grid indicating whether words are within 4 places of the target word\n",
    "adjacency=pd.DataFrame(columns=words,index=words,data=0)\n",
    "\n",
    "#Iterating through each word in the text and indicating which of the unique words are its neighbors\n",
    "i = 0\n",
    "for word in gatsby:\n",
    "    # Checking if any of the word's next four neighbors are in the word list \n",
    "    if word in gatsby_filt:\n",
    "        # The potential neighbors.\n",
    "        nextwords=gatsby[i+1:i+5]\n",
    "        # Filtering the neighbors to select only those in the word list\n",
    "        neighbors=[x for x in nextwords if x in gatsby_filt]\n",
    "        # Adding 1 to the adjacency matrix for neighbors of the target word\n",
    "        if neighbors:\n",
    "            adjacency.loc[word,neighbors]=adjacency.loc[word,neighbors]+1\n",
    "    i+=1\n",
    "\n",
    "print('done!')"
   ]
  },
  {
   "cell_type": "code",
   "execution_count": 25,
   "metadata": {},
   "outputs": [
    {
     "name": "stdout",
     "output_type": "stream",
     "text": [
      "[(0.013816453726267205, hope), (0.012630413374483035, promises), (0.012630413374483035, exempt), (0.012546629344487583, glimpses), (0.012263221036936283, sort)]\n"
     ]
    }
   ],
   "source": [
    "# Running TextRank\n",
    "nx_words = nx.from_numpy_matrix(adjacency.values)\n",
    "ranks=nx.pagerank(nx_words, alpha=.85, tol=.00000001)\n",
    "\n",
    "# Identifying the five most highly ranked keywords\n",
    "ranked = sorted(((ranks[i],s) for i,s in enumerate(words)),\n",
    "                reverse=True)\n",
    "print(ranked[:5])"
   ]
  },
  {
   "cell_type": "markdown",
   "metadata": {},
   "source": [
    "# Using bigrams"
   ]
  },
  {
   "cell_type": "code",
   "execution_count": 19,
   "metadata": {},
   "outputs": [],
   "source": [
    "# Creating the tf-idf matrix.\n",
    "counter = TfidfVectorizer(lowercase=False, \n",
    "                          stop_words='english',\n",
    "                          ngram_range=(2, 2), \n",
    "                          analyzer=u'word', \n",
    "                          max_df=.5, \n",
    "                          min_df=1,\n",
    "                          max_features=None, \n",
    "                          vocabulary=None, \n",
    "                          binary=False)\n",
    "\n",
    "#Applying the vectorizer\n",
    "data_counts=counter.fit_transform(sentences)"
   ]
  },
  {
   "cell_type": "code",
   "execution_count": 20,
   "metadata": {},
   "outputs": [
    {
     "data": {
      "text/plain": [
       "<18x198 sparse matrix of type '<class 'numpy.float64'>'\n",
       "\twith 198 stored elements in Compressed Sparse Row format>"
      ]
     },
     "execution_count": 20,
     "metadata": {},
     "output_type": "execute_result"
    }
   ],
   "source": [
    "data_counts"
   ]
  },
  {
   "cell_type": "code",
   "execution_count": 21,
   "metadata": {},
   "outputs": [
    {
     "data": {
      "text/plain": [
       "[(\"In my younger and more vulnerable years my father gave me some advice that I've been turning over in my mind ever since.\",\n",
       "  0.05555555555555555),\n",
       " ('\"Whenever you feel like criticizing any one,\" he told me, \"just remember that all the people in this world haven\\'t had the advantages that you\\'ve had.\"',\n",
       "  0.05555555555555555),\n",
       " (\"He didn't say any more\", 0.05555555555555555),\n",
       " (\"but we've always been unusually communicative in a reserved way, and I understood that he meant a great deal more than that.\",\n",
       "  0.05555555555555555),\n",
       " (\"In consequence I'm inclined to reserve all judgments, a habit that has opened up many curious natures to me and also made me the victim of not a few veteran bores.\",\n",
       "  0.05555555555555555),\n",
       " ('The abnormal mind is quick to detect and attach itself to this quality when it appears in a normal person, and so it came about that in college I was unjustly accused of being a politician, because I was privy to the secret griefs of wild, unknown men.',\n",
       "  0.05555555555555555),\n",
       " ('Most of the confidences were unsought frequently I have feigned sleep, preoccupation, or a hostile levity when I realized by some unmistakable sign that an intimate revelation was quivering on the horizon for the intimate revelations of young men or',\n",
       "  0.05555555555555555),\n",
       " ('at least the terms in which they express them are usually plagiaristic and marred by obvious suppressions.',\n",
       "  0.05555555555555555),\n",
       " ('Reserving judgments is a matter of infinite hope.', 0.05555555555555555),\n",
       " ('I am still a little afraid of missing something if I forget that, as my father snobbishly suggested, and I snobbishly repeat a sense of the fundamental decencies is parcelled out unequally at birth.',\n",
       "  0.05555555555555555),\n",
       " ('And, after boasting this way of my tolerance, I come to the admission that it has a limit.',\n",
       "  0.05555555555555555),\n",
       " (\"Conduct may be founded on the hard rock or the wet marshes but after a certain point I don't care what it's founded on.\",\n",
       "  0.05555555555555555),\n",
       " ('When I came back from the East last autumn I felt that I wanted the world to be in uniform and at a sort of moral attention forever; I wanted no more riotous excursions with privileged glimpses into the human heart.',\n",
       "  0.05555555555555555),\n",
       " ('Only Gatsby, the man who gives his name to this book, was exempt from my reaction Gatsby who represented everything for which I have an unaffected scorn.',\n",
       "  0.05555555555555555),\n",
       " ('If personality is an unbroken series of successful gestures, then there was something gorgeous about him, some heightened sensitivity to the promises of life, as if he were related to one of those intricate machines that register earthquakes ten thousand miles away.',\n",
       "  0.05555555555555555),\n",
       " ('This responsiveness had nothing to do with that flabby impressionability which is dignified under the name of the \"creative temperament\"',\n",
       "  0.05555555555555555),\n",
       " ('it was an extraordinary gift for hope, a romantic readiness such as I have never found in any other person and which it is not likely I shall ever find again.',\n",
       "  0.05555555555555555),\n",
       " ('No Gatsby turned out all right at the end; it is what preyed on Gatsby, what foul dust floated in the wake of his dreams that temporarily closed out my interest in the abortive sorrows and short-winded elations of men.',\n",
       "  0.05555555555555555)]"
      ]
     },
     "execution_count": 21,
     "metadata": {},
     "output_type": "execute_result"
    }
   ],
   "source": [
    "# Calculating similarity\n",
    "similarity = data_counts * data_counts.T\n",
    "\n",
    "# Identifying the sentence with the highest rank.\n",
    "nx_graph = nx.from_scipy_sparse_matrix(similarity)\n",
    "ranks=nx.pagerank(nx_graph, alpha=.85, tol=.00000001)\n",
    "\n",
    "ranked = sorted(ranks.items(), key=lambda x: x[1], reverse=True)\n",
    "ranked = [(sentences[x[0]], x[1]) for x in ranked]\n",
    "ranked"
   ]
  },
  {
   "cell_type": "code",
   "execution_count": 10,
   "metadata": {},
   "outputs": [],
   "source": [
    "token_to_text = lambda x: x.text\n",
    "\n",
    "gatsby_bigram = ''\n",
    "for sent in sentences:\n",
    "    token = parser(sent)\n",
    "    bigram = list(ngrams(token, 2))\n",
    "    bigram = [list(x) for x in bigram]\n",
    "    bigram = [list(map(token_to_text, x)) for x in bigram]\n",
    "    bigram = [' '.join(x) for x in bigram]\n",
    "    bigram = ' '.join(bigram)\n",
    "    gatsby_bigram += bigram\n",
    "\n",
    "gatsby_bigram = parser(gatsby_bigram)"
   ]
  },
  {
   "cell_type": "code",
   "execution_count": 11,
   "metadata": {},
   "outputs": [],
   "source": [
    "# Removing stop words and punctuation, then getting a list of all unique words in the text\n",
    "gatsby_bigram_filt = [word for word in gatsby_bigram if word.is_stop==False and (word.pos_=='NOUN' or word.pos_=='ADJ')]\n",
    "words=set(gatsby_bigram_filt)"
   ]
  },
  {
   "cell_type": "code",
   "execution_count": 12,
   "metadata": {},
   "outputs": [
    {
     "name": "stdout",
     "output_type": "stream",
     "text": [
      "done!\n"
     ]
    }
   ],
   "source": [
    "#Creating a grid indicating whether words are within 4 places of the target word\n",
    "adjacency=pd.DataFrame(columns=words,index=words,data=0)\n",
    "\n",
    "#Iterating through each word in the text and indicating which of the unique words are its neighbors\n",
    "i = 0\n",
    "for word in gatsby_bigram:\n",
    "    # Checking if any of the word's next four neighbors are in the word list \n",
    "    if word in gatsby_bigram_filt:\n",
    "        # The potential neighbors.\n",
    "        nextwords=gatsby_bigram[i+1:i+6]\n",
    "        # Filtering the neighbors to select only those in the word list\n",
    "        neighbors=[x for x in nextwords if x in gatsby_bigram_filt]\n",
    "        # Adding 1 to the adjacency matrix for neighbors of the target word\n",
    "        if neighbors:\n",
    "            adjacency.loc[word,neighbors]=adjacency.loc[word,neighbors]+1\n",
    "    i+=1\n",
    "\n",
    "print('done!')"
   ]
  },
  {
   "cell_type": "code",
   "execution_count": 13,
   "metadata": {},
   "outputs": [
    {
     "name": "stdout",
     "output_type": "stream",
     "text": [
      "[(0.00616288140173892, young), (0.005986988865500229, wake), (0.005839904504426379, fundamental), (0.0058267875680989125, machines), (0.0058133957069586495, reserved), (0.005813395706958649, judgments), (0.005564324818240003, excursions), (0.005423017223105649, revelations), (0.005350619390753994, promises), (0.005350619390753994, wet), (0.005337642358719699, young), (0.0053261358524516415, people), (0.00532613585245164, dignified), (0.00532613585245164, impressionability), (0.00532613585245164, world), (0.0052741400349885685, unknown), (0.0052741400349885685, unknown), (0.005162768244537876, successful), (0.005143540471924969, vulnerable), (0.005114389004939023, series), (0.005099444583081447, short), (0.005095985121652911, mind), (0.005034574720615616, moral), (0.005034574720615616, moral), (0.005023804957056184, elations), (0.0050136222786570555, short), (0.005010437824382767, orat), (0.005007488945991267, abnormal), (0.004971564610621592, abnormal), (0.004971564610621592, bores), (0.0049584508871440116, winded), (0.0049166916092986115, intimate), (0.004916691609298611, sign), (0.0049082409217644785, reaction), (0.0049082409217644785, book), (0.004844517184942387, miles), (0.0048445171849423865, responsiveness), (0.004773999209309971, years), (0.004773999209309971, years), (0.004773999209309971, vulnerable), (0.004705135585852266, wild), (0.004698064369848356, exempt), (0.004698064369848355, exempt), (0.004697771581459774, privileged), (0.004697771581459774, excursions), (0.0046327222647141435, revelations), (0.004580654037773109, rock), (0.004580654037773108, sensitivity), (0.004555758213646635, sorrows), (0.004555758213646635, sorrows), (0.004535252627397252, men), (0.004468480428380512, mind), (0.0043904385027479075, successful), (0.0043630026619954155, intimate), (0.004361002372503864, habit), (0.004361002372503864, communicative), (0.004345995556235966, abortive), (0.00433584404439499, privy), (0.00433137557753413, series), (0.004328951712438215, bores), (0.0043146732137308436, wild), (0.004295083337346249, elations), (0.004283917664824668, fundamental), (0.0042839176648246675, decencies), (0.0042839176648246675, decencies), (0.004277485323705319, intricate), (0.004277485323705318, machines), (0.004277485323705318, intricate), (0.004268441857875749, personality), (0.004264663225390363, men), (0.004259880820648936, unaffected), (0.004259880820648935, personality), (0.004259880820648935, scorn), (0.004259880820648935, scorn), (0.004192386150680922, winded), (0.0041025641025641026, end), (0.0041025641025641026, end), (0.0041025641025641026, person), (0.0041025641025641026, person), (0.0041025641025641026, gorgeous), (0.0041025641025641026, gorgeous), (0.0041025641025641026, man), (0.0041025641025641026, man), (0.0041025641025641026, uniform), (0.0041025641025641026, uniform), (0.0041025641025641026, world), (0.0041025641025641026, world), (0.0041025641025641026, autumn), (0.0041025641025641026, autumn), (0.0041025641025641026, limit), (0.0041025641025641026, limit), (0.0041025641025641026, admission), (0.0041025641025641026, admission), (0.0041025641025641026, tolerance), (0.0041025641025641026, tolerance), (0.0041025641025641026, birth), (0.0041025641025641026, birth), (0.0041025641025641026, father), (0.0041025641025641026, father), (0.0041025641025641026, matter), (0.0041025641025641026, matter), (0.0041025641025641026, plagiaristic), (0.0041025641025641026, plagiaristic), (0.0041025641025641026, confidences), (0.0041025641025641026, confidences), (0.0041025641025641026, politician), (0.0041025641025641026, politician), (0.0041025641025641026, college), (0.0041025641025641026, college), (0.0041025641025641026, quality), (0.0041025641025641026, quality), (0.0041025641025641026, victim), (0.0041025641025641026, victim), (0.0041025641025641026, consequence), (0.0041025641025641026, consequence), (0.0041025641025641026, advantages), (0.0041025641025641026, advantages), (0.0041025641025641026, mind), (0.0041025641025641026, mind), (0.0041025641025641026, advice), (0.0041025641025641026, advice), (0.004102564102564101, dust), (0.004102564102564101, dust), (0.004102564102564101, foul), (0.004102564102564101, foul), (0.004102564102564101, readiness), (0.004102564102564101, readiness), (0.004102564102564101, romantic), (0.004102564102564101, romantic), (0.004102564102564101, gift), (0.004102564102564101, gift), (0.004102564102564101, extraordinary), (0.004102564102564101, extraordinary), (0.004102564102564101, temperament), (0.004102564102564101, temperament), (0.004102564102564101, creative), (0.004102564102564101, creative), (0.004102564102564101, heart), (0.004102564102564101, heart), (0.004102564102564101, human), (0.004102564102564101, human), (0.004102564102564101, point), (0.004102564102564101, point), (0.004102564102564101, certain), (0.004102564102564101, certain), (0.004102564102564101, afraid), (0.004102564102564101, afraid), (0.004102564102564101, little), (0.004102564102564101, little), (0.004102564102564101, suppressions), (0.004102564102564101, suppressions), (0.004102564102564101, obvious), (0.004102564102564101, obvious), (0.004102564102564101, levity), (0.004102564102564101, levity), (0.004102564102564101, hostile), (0.004102564102564101, hostile), (0.004102564102564101, preoccupation), (0.004102564102564101, preoccupation), (0.004102564102564101, sleep), (0.004102564102564101, sleep), (0.004102564102564101, person), (0.004102564102564101, person), (0.004102564102564101, normal), (0.004102564102564101, normal), (0.004102564102564101, natures), (0.004102564102564101, natures), (0.004102564102564101, curious), (0.004102564102564101, curious), (0.004102564102564101, deal), (0.004102564102564101, deal), (0.004102564102564101, great), (0.004102564102564101, great), (0.0040672576420520655, quick), (0.0040439797657130325, life), (0.0040439797657130325, life), (0.0040439797657130325, promises), (0.0040439797657130325, marshes), (0.0040439797657130325, marshes), (0.0040439797657130325, wet), (0.003934805872005667, judgments), (0.003934805872005667, reserve), (0.003934805872005666, way), (0.003934805872005666, reserved), (0.0038571177195143407, privileged), (0.0038571177195143407, riotous), (0.003846696122832278, intimate), (0.0038442960999715142, attention), (0.0038442960999715142, attention), (0.0038378011236231704, secret), (0.003831188266985931, revelation), (0.003831188266985931, revelation), (0.003831188266985931, intimate), (0.0038311882669859305, sign), (0.0038311882669859305, unmistakable), (0.0038311882669859305, unmistakable), (0.0038102877966772917, abortive), (0.0037426678765996265, men), (0.0037251526285743985, sense), (0.0036952322037236964, veteran), (0.0036588091135986837, father), (0.003629261180705632, gestures), (0.00356398751350214, unbroken), (0.0035592394037617936, unbroken), (0.0035567355569909092, men), (0.0035121034753602953, unaffected), (0.0034934855307842383, younger), (0.003423207597562745, quick), (0.003360611020185815, responsiveness), (0.003360611020185815, miles), (0.0033273679961412558, sensitivity), (0.0033273679961412558, heightened), (0.0033273679961412558, rock), (0.0033273679961412558, hard), (0.003314833153578617, men), (0.0032462843732587905, secret), (0.0032338154243102516, horizon), (0.0032281575408686274, interest), (0.0031603517210960384, dreams), (0.0031603517210960384, wake), (0.0031158293020833025, terms), (0.003064222226144868, veteran), (0.0030219226488802414, riotous), (0.003021922648880241, glimpses), (0.002878992352676563, world), (0.0028789923526765624, people), (0.002878992352676562, dignified), (0.002878992352676562, flabby), (0.0028643693923371427, gestures), (0.0028130607726410076, men), (0.002755078871646252, sort), (0.002701387016079473, reaction), (0.002701387016079473, book), (0.002468810689346664, habit), (0.002468810689346664, communicative), (0.0024581262358348488, privy), (0.0021985744879098276, sense), (0.0021001159737109006, younger), (0.002034250029015654, detect), (0.0019897561763385424, horizon), (0.001987351591224491, interest), (0.0019396120691154758, terms), (0.0018535769736056423, earthquakes), (0.0006153846153846154, related), (0.0006153846153846154, care), (0.0006153846153846154, way), (0.0006153846153846154, m), (0.0006153846153846154, morebut)]\n"
     ]
    }
   ],
   "source": [
    "# Running TextRank\n",
    "nx_words = nx.from_numpy_matrix(adjacency.values)\n",
    "ranks=nx.pagerank(nx_words, alpha=.85, tol=.00000001)\n",
    "\n",
    "# Identifying the five most highly ranked keywords\n",
    "ranked = sorted(((ranks[i],s) for i,s in enumerate(words)),\n",
    "                reverse=True)\n",
    "print(ranked)"
   ]
  },
  {
   "cell_type": "code",
   "execution_count": null,
   "metadata": {},
   "outputs": [],
   "source": []
  }
 ],
 "metadata": {
  "kernelspec": {
   "display_name": "Python 3",
   "language": "python",
   "name": "python3"
  },
  "language_info": {
   "codemirror_mode": {
    "name": "ipython",
    "version": 3
   },
   "file_extension": ".py",
   "mimetype": "text/x-python",
   "name": "python",
   "nbconvert_exporter": "python",
   "pygments_lexer": "ipython3",
   "version": "3.7.3"
  }
 },
 "nbformat": 4,
 "nbformat_minor": 2
}
